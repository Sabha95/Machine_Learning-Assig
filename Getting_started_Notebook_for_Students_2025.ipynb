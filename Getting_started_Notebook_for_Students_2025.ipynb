{
  "cells": [
    {
      "cell_type": "markdown",
      "metadata": {
        "id": "view-in-github",
        "colab_type": "text"
      },
      "source": [
        "<a href=\"https://colab.research.google.com/github/Sabha95/Machine_Learning-Assig/blob/main/Getting_started_Notebook_for_Students_2025.ipynb\" target=\"_parent\"><img src=\"https://colab.research.google.com/assets/colab-badge.svg\" alt=\"Open In Colab\"/></a>"
      ]
    },
    {
      "cell_type": "markdown",
      "id": "847b322c",
      "metadata": {
        "id": "847b322c"
      },
      "source": [
        "# CA684 Machine Learning Assignment Spring 2024\n",
        "\n",
        "Dublin City University has teamed up with **Etsy** to create the 2024 CA684 Machine Learning assignment.\n",
        "\n",
        "## Etsy.com\n",
        "\n",
        "Etsy is the global marketplace for unique and creative goods. It’s home to a universe of special, extraordinary items, from unique handcrafted pieces to vintage treasures. Etsy operates two-sided online marketplaces that collectively connect nearly 100 million passionate and creative buyers and 7.7 million sellers around the world.\n",
        "\n",
        "Buyers come to the Etsy marketplace for meaningful, one-of-a-kind items handcrafted and curated with passion and expertise by our creative entrepreneurs. We are focused on attracting potential buyers to Etsy for everyday items that have meaning and those “special” purchase occasions that happen throughout the year. These include items that reflect an individual’s unique style; gifting that demonstrates thought and care; and celebrations that express creativity and fun.\n",
        "\n",
        "On Etsy, someone searches for …\n",
        "- Wall art every two seconds\n",
        "- Wedding-related items every two seconds\n",
        "- Gift-related items every second\n",
        "- Antique or vintage items every half a second\n",
        "\n",
        "## Challenge\n",
        "\n",
        "Etsy has nearly 100 Million active listings on the etsy.com marketplace for sale from more than 5 million active sellers. You are provided a subset of those products as the training data.\n",
        "\n",
        "The task is to leverage the training dataset to learn patterns from and to predict the following attributes on an unseen test dataset given a products’ information:\n",
        "\n",
        "- top category id\n",
        "- bottom category id\n",
        "\n",
        "The goal is to maximize F1 for each of the classes on each attribute to predict (top category, bottom category). Your approaches and models will be benchmarked against a hidden test dataset.\n",
        "\n",
        "Bonus points will be given for submissions that:\n",
        "\n",
        "- visualize some learned representations or embeddings and show that similar items cluster together\n",
        "- compares the performance of pre-trained embeddings taken from hubs or papers with a fine-tuned model\n",
        "\n",
        "\n",
        "## Getting Started\n",
        "\n",
        "Here is some sample code to get you started on the challenge!\n",
        "\n",
        "Happy Hacking!"
      ]
    },
    {
      "cell_type": "code",
      "source": [
        "pip install tensorflow"
      ],
      "metadata": {
        "id": "5E1Qy6vrCRRe",
        "colab": {
          "base_uri": "https://localhost:8080/"
        },
        "outputId": "67edffc2-e25f-4a0d-db59-97ef4621fd8f"
      },
      "id": "5E1Qy6vrCRRe",
      "execution_count": 1,
      "outputs": [
        {
          "output_type": "stream",
          "name": "stdout",
          "text": [
            "Requirement already satisfied: tensorflow in /usr/local/lib/python3.11/dist-packages (2.18.0)\n",
            "Requirement already satisfied: absl-py>=1.0.0 in /usr/local/lib/python3.11/dist-packages (from tensorflow) (1.4.0)\n",
            "Requirement already satisfied: astunparse>=1.6.0 in /usr/local/lib/python3.11/dist-packages (from tensorflow) (1.6.3)\n",
            "Requirement already satisfied: flatbuffers>=24.3.25 in /usr/local/lib/python3.11/dist-packages (from tensorflow) (25.2.10)\n",
            "Requirement already satisfied: gast!=0.5.0,!=0.5.1,!=0.5.2,>=0.2.1 in /usr/local/lib/python3.11/dist-packages (from tensorflow) (0.6.0)\n",
            "Requirement already satisfied: google-pasta>=0.1.1 in /usr/local/lib/python3.11/dist-packages (from tensorflow) (0.2.0)\n",
            "Requirement already satisfied: libclang>=13.0.0 in /usr/local/lib/python3.11/dist-packages (from tensorflow) (18.1.1)\n",
            "Requirement already satisfied: opt-einsum>=2.3.2 in /usr/local/lib/python3.11/dist-packages (from tensorflow) (3.4.0)\n",
            "Requirement already satisfied: packaging in /usr/local/lib/python3.11/dist-packages (from tensorflow) (24.2)\n",
            "Requirement already satisfied: protobuf!=4.21.0,!=4.21.1,!=4.21.2,!=4.21.3,!=4.21.4,!=4.21.5,<6.0.0dev,>=3.20.3 in /usr/local/lib/python3.11/dist-packages (from tensorflow) (5.29.4)\n",
            "Requirement already satisfied: requests<3,>=2.21.0 in /usr/local/lib/python3.11/dist-packages (from tensorflow) (2.32.3)\n",
            "Requirement already satisfied: setuptools in /usr/local/lib/python3.11/dist-packages (from tensorflow) (75.1.0)\n",
            "Requirement already satisfied: six>=1.12.0 in /usr/local/lib/python3.11/dist-packages (from tensorflow) (1.17.0)\n",
            "Requirement already satisfied: termcolor>=1.1.0 in /usr/local/lib/python3.11/dist-packages (from tensorflow) (2.5.0)\n",
            "Requirement already satisfied: typing-extensions>=3.6.6 in /usr/local/lib/python3.11/dist-packages (from tensorflow) (4.12.2)\n",
            "Requirement already satisfied: wrapt>=1.11.0 in /usr/local/lib/python3.11/dist-packages (from tensorflow) (1.17.2)\n",
            "Requirement already satisfied: grpcio<2.0,>=1.24.3 in /usr/local/lib/python3.11/dist-packages (from tensorflow) (1.71.0)\n",
            "Requirement already satisfied: tensorboard<2.19,>=2.18 in /usr/local/lib/python3.11/dist-packages (from tensorflow) (2.18.0)\n",
            "Requirement already satisfied: keras>=3.5.0 in /usr/local/lib/python3.11/dist-packages (from tensorflow) (3.8.0)\n",
            "Requirement already satisfied: numpy<2.1.0,>=1.26.0 in /usr/local/lib/python3.11/dist-packages (from tensorflow) (2.0.2)\n",
            "Requirement already satisfied: h5py>=3.11.0 in /usr/local/lib/python3.11/dist-packages (from tensorflow) (3.13.0)\n",
            "Requirement already satisfied: ml-dtypes<0.5.0,>=0.4.0 in /usr/local/lib/python3.11/dist-packages (from tensorflow) (0.4.1)\n",
            "Requirement already satisfied: tensorflow-io-gcs-filesystem>=0.23.1 in /usr/local/lib/python3.11/dist-packages (from tensorflow) (0.37.1)\n",
            "Requirement already satisfied: wheel<1.0,>=0.23.0 in /usr/local/lib/python3.11/dist-packages (from astunparse>=1.6.0->tensorflow) (0.45.1)\n",
            "Requirement already satisfied: rich in /usr/local/lib/python3.11/dist-packages (from keras>=3.5.0->tensorflow) (13.9.4)\n",
            "Requirement already satisfied: namex in /usr/local/lib/python3.11/dist-packages (from keras>=3.5.0->tensorflow) (0.0.8)\n",
            "Requirement already satisfied: optree in /usr/local/lib/python3.11/dist-packages (from keras>=3.5.0->tensorflow) (0.14.1)\n",
            "Requirement already satisfied: charset-normalizer<4,>=2 in /usr/local/lib/python3.11/dist-packages (from requests<3,>=2.21.0->tensorflow) (3.4.1)\n",
            "Requirement already satisfied: idna<4,>=2.5 in /usr/local/lib/python3.11/dist-packages (from requests<3,>=2.21.0->tensorflow) (3.10)\n",
            "Requirement already satisfied: urllib3<3,>=1.21.1 in /usr/local/lib/python3.11/dist-packages (from requests<3,>=2.21.0->tensorflow) (2.3.0)\n",
            "Requirement already satisfied: certifi>=2017.4.17 in /usr/local/lib/python3.11/dist-packages (from requests<3,>=2.21.0->tensorflow) (2025.1.31)\n",
            "Requirement already satisfied: markdown>=2.6.8 in /usr/local/lib/python3.11/dist-packages (from tensorboard<2.19,>=2.18->tensorflow) (3.7)\n",
            "Requirement already satisfied: tensorboard-data-server<0.8.0,>=0.7.0 in /usr/local/lib/python3.11/dist-packages (from tensorboard<2.19,>=2.18->tensorflow) (0.7.2)\n",
            "Requirement already satisfied: werkzeug>=1.0.1 in /usr/local/lib/python3.11/dist-packages (from tensorboard<2.19,>=2.18->tensorflow) (3.1.3)\n",
            "Requirement already satisfied: MarkupSafe>=2.1.1 in /usr/local/lib/python3.11/dist-packages (from werkzeug>=1.0.1->tensorboard<2.19,>=2.18->tensorflow) (3.0.2)\n",
            "Requirement already satisfied: markdown-it-py>=2.2.0 in /usr/local/lib/python3.11/dist-packages (from rich->keras>=3.5.0->tensorflow) (3.0.0)\n",
            "Requirement already satisfied: pygments<3.0.0,>=2.13.0 in /usr/local/lib/python3.11/dist-packages (from rich->keras>=3.5.0->tensorflow) (2.18.0)\n",
            "Requirement already satisfied: mdurl~=0.1 in /usr/local/lib/python3.11/dist-packages (from markdown-it-py>=2.2.0->rich->keras>=3.5.0->tensorflow) (0.1.2)\n"
          ]
        }
      ]
    },
    {
      "cell_type": "code",
      "execution_count": 2,
      "id": "49b9b3bb",
      "metadata": {
        "id": "49b9b3bb"
      },
      "outputs": [],
      "source": [
        "# libraries\n",
        "import io\n",
        "import os\n",
        "from datetime import datetime\n",
        "import pandas as pd\n",
        "import numpy as np\n",
        "import tensorflow as tf\n",
        "import matplotlib.pyplot as plt\n",
        "import matplotlib.image as mpimg\n",
        "from tensorflow.keras.applications import MobileNetV3Small\n",
        "from tensorflow.keras.preprocessing import image\n",
        "from tensorflow.keras.models import Model\n",
        "from tensorflow.keras.layers import Dense, GlobalAveragePooling2D\n",
        "from sklearn import metrics\n",
        "\n",
        "# Matplotlib configuration\n",
        "font = { 'family': 'DejaVu Sans', 'weight': 'bold', 'size': 16 }\n",
        "plt.rc('font', **font)\n"
      ]
    },
    {
      "cell_type": "code",
      "source": [
        "from google.colab import drive\n",
        "drive.mount('/content/gdrive')"
      ],
      "metadata": {
        "colab": {
          "base_uri": "https://localhost:8080/"
        },
        "id": "pXmWar3FKcyo",
        "outputId": "d85ffbf9-de08-463f-9fb8-18494b600791"
      },
      "id": "pXmWar3FKcyo",
      "execution_count": 3,
      "outputs": [
        {
          "output_type": "stream",
          "name": "stdout",
          "text": [
            "Mounted at /content/gdrive\n"
          ]
        }
      ]
    },
    {
      "cell_type": "code",
      "execution_count": 4,
      "id": "0d1373e8",
      "metadata": {
        "id": "0d1373e8"
      },
      "outputs": [],
      "source": [
        "# set random seed\n",
        "np.random.seed(seed=42)"
      ]
    },
    {
      "cell_type": "markdown",
      "id": "34d263ed",
      "metadata": {
        "id": "34d263ed"
      },
      "source": [
        "## Dataset\n",
        "\n",
        "The train and test datasets are shared in **parquet** format.\n",
        "\n",
        "In order to download the dataset, please sign the NDA first."
      ]
    },
    {
      "cell_type": "code",
      "execution_count": 5,
      "id": "36186dd2",
      "metadata": {
        "id": "36186dd2",
        "colab": {
          "base_uri": "https://localhost:8080/",
          "height": 53
        },
        "outputId": "e4fe0eb6-a0ef-465a-eb28-da8211e36336"
      },
      "outputs": [
        {
          "output_type": "stream",
          "name": "stdout",
          "text": [
            "'Getting-started Notebook for Students 2025.ipynb'   test   train  'Untitled document.gdoc'\n"
          ]
        },
        {
          "output_type": "execute_result",
          "data": {
            "text/plain": [
              "'Number of files in train: 362'"
            ],
            "application/vnd.google.colaboratory.intrinsic+json": {
              "type": "string"
            }
          },
          "metadata": {},
          "execution_count": 5
        }
      ],
      "source": [
        "PATH = f\"/content/gdrive/MyDrive/machine_learning_Assignment\"\n",
        "!ls {PATH}\n",
        "parquet_filenames_train = !ls {PATH}/train\n",
        "\n",
        "filenames_string = \" \".join(parquet_filenames_train)\n",
        "parquet_filenames_train = filenames_string.split()\n",
        "parquet_filenames_train[:3]\n",
        "\n",
        "f\"Number of files in train: {len(parquet_filenames_train):,}\""
      ]
    },
    {
      "cell_type": "code",
      "execution_count": 6,
      "id": "6b146499",
      "metadata": {
        "id": "6b146499"
      },
      "outputs": [],
      "source": [
        "parquet_filenames_test = !ls {PATH}/test\n",
        "filenames_string = \" \".join(parquet_filenames_test)\n",
        "parquet_filenames_test = filenames_string.split()\n"
      ]
    },
    {
      "cell_type": "code",
      "execution_count": 7,
      "id": "7c169b61",
      "metadata": {
        "id": "7c169b61",
        "outputId": "29068196-b260-4d09-831c-b2f2cf79401b",
        "colab": {
          "base_uri": "https://localhost:8080/"
        }
      },
      "outputs": [
        {
          "output_type": "execute_result",
          "data": {
            "text/plain": [
              "['part-00000-of-00362.parquet.parquet',\n",
              " 'part-00181-of-00362.parquet.parquet',\n",
              " 'part-00001-of-00362.parquet.parquet']"
            ]
          },
          "metadata": {},
          "execution_count": 7
        }
      ],
      "source": [
        "parquet_filenames_test[:3]"
      ]
    },
    {
      "cell_type": "code",
      "execution_count": 8,
      "id": "bcd0b6d1",
      "metadata": {
        "id": "bcd0b6d1",
        "outputId": "f8917baa-4f85-4587-cfc1-080bbec3240c",
        "colab": {
          "base_uri": "https://localhost:8080/",
          "height": 36
        }
      },
      "outputs": [
        {
          "output_type": "execute_result",
          "data": {
            "text/plain": [
              "'Number of files in test: 362'"
            ],
            "application/vnd.google.colaboratory.intrinsic+json": {
              "type": "string"
            }
          },
          "metadata": {},
          "execution_count": 8
        }
      ],
      "source": [
        "f\"Number of files in test: {len(parquet_filenames_test):,}\""
      ]
    },
    {
      "cell_type": "markdown",
      "id": "cc5e1ae4",
      "metadata": {
        "id": "cc5e1ae4"
      },
      "source": [
        "## Exploratory Data Analysis\n",
        "\n",
        "It is important to familiarize yourself with the dataset by using measures of centrality (e.g. mean) and statistical dispersion (e.g. variance) and data visualization methods. The following is just some Pandas preprocessing and Matplotlib visualizations to get you started. Feel free to explore the data much further and come up with ideas that might help you in the task!"
      ]
    },
    {
      "cell_type": "markdown",
      "id": "478f0fa6",
      "metadata": {
        "id": "478f0fa6"
      },
      "source": [
        "### Training Dataset\n",
        "\n",
        "This dataset can be used to train models and learn patterns from."
      ]
    },
    {
      "cell_type": "code",
      "source": [
        "from pandas import ExcelWriter\n",
        "from google.colab import files\n",
        "writer = ExcelWriter('my_excel_file.xlsx')"
      ],
      "metadata": {
        "id": "GI_mLDJRRPyD"
      },
      "id": "GI_mLDJRRPyD",
      "execution_count": 9,
      "outputs": []
    },
    {
      "cell_type": "code",
      "execution_count": 10,
      "id": "cef20992",
      "metadata": {
        "id": "cef20992"
      },
      "outputs": [],
      "source": [
        "\n",
        "def read_data(folder, filenames):\n",
        "    \"\"\" Read parquet data from mutiple files \"\"\"\n",
        "\n",
        "    dataframes = [\n",
        "        pd.read_parquet(f\"{PATH}/{folder}/{filename}\")\n",
        "        for filename in filenames\n",
        "\n",
        "    ]\n",
        "\n",
        "    return pd.concat(dataframes)"
      ]
    },
    {
      "cell_type": "code",
      "execution_count": 11,
      "id": "fd364441",
      "metadata": {
        "id": "fd364441"
      },
      "outputs": [],
      "source": [
        "df_train = read_data(\"train\", parquet_filenames_train)\n",
        "\n"
      ]
    },
    {
      "cell_type": "code",
      "source": [
        "df_train.to_csv('my_excel_file.csv', index=False)\n",
        "\n",
        "# files.download('my_excel_file.csv')"
      ],
      "metadata": {
        "id": "PhrAieAIah3U"
      },
      "id": "PhrAieAIah3U",
      "execution_count": 17,
      "outputs": []
    },
    {
      "cell_type": "code",
      "source": [
        "df_csv = pd.read_csv('my_excel_file.csv')"
      ],
      "metadata": {
        "id": "TE5WBOkKOWAE"
      },
      "id": "TE5WBOkKOWAE",
      "execution_count": null,
      "outputs": []
    },
    {
      "cell_type": "code",
      "source": [
        "print(df_train.info())  # Check data types and missing values\n",
        "print(df_train.describe())  # Summary statistics"
      ],
      "metadata": {
        "colab": {
          "base_uri": "https://localhost:8080/"
        },
        "id": "aUbbskbPNYcl",
        "outputId": "7a46e503-9844-4e99-d802-013e56e5e8fd"
      },
      "id": "aUbbskbPNYcl",
      "execution_count": null,
      "outputs": [
        {
          "output_type": "stream",
          "name": "stdout",
          "text": [
            "<class 'pandas.core.frame.DataFrame'>\n",
            "Index: 229624 entries, 0 to 91\n",
            "Data columns (total 23 columns):\n",
            " #   Column                Non-Null Count   Dtype \n",
            "---  ------                --------------   ----- \n",
            " 0   product_id            229624 non-null  int64 \n",
            " 1   title                 229624 non-null  object\n",
            " 2   description           229624 non-null  object\n",
            " 3   tags                  229624 non-null  object\n",
            " 4   type                  229624 non-null  object\n",
            " 5   room                  229624 non-null  object\n",
            " 6   craft_type            229624 non-null  object\n",
            " 7   recipient             229624 non-null  object\n",
            " 8   material              229624 non-null  object\n",
            " 9   occasion              229624 non-null  object\n",
            " 10  holiday               229624 non-null  object\n",
            " 11  art_subject           229624 non-null  object\n",
            " 12  style                 229624 non-null  object\n",
            " 13  shape                 229624 non-null  object\n",
            " 14  pattern               229624 non-null  object\n",
            " 15  bottom_category_id    229624 non-null  int64 \n",
            " 16  bottom_category_text  229624 non-null  object\n",
            " 17  top_category_id       229624 non-null  int64 \n",
            " 18  top_category_text     229624 non-null  object\n",
            " 19  primary_color_id      229624 non-null  int64 \n",
            " 20  primary_color_text    229624 non-null  object\n",
            " 21  secondary_color_id    229624 non-null  int64 \n",
            " 22  secondary_color_text  229624 non-null  object\n",
            "dtypes: int64(5), object(18)\n",
            "memory usage: 42.0+ MB\n",
            "None\n",
            "         product_id  bottom_category_id  top_category_id  primary_color_id  \\\n",
            "count  2.296240e+05       229624.000000    229624.000000     229624.000000   \n",
            "mean   1.179276e+09         3505.658106         6.991643          8.614731   \n",
            "std    3.840381e+08         3751.955565         3.605474          6.421168   \n",
            "min    5.023404e+06            1.000000         0.000000          0.000000   \n",
            "25%    8.878686e+08          969.000000         5.000000          2.000000   \n",
            "50%    1.264325e+09         1793.000000         7.000000          9.000000   \n",
            "75%    1.515061e+09         6336.000000         9.000000         14.000000   \n",
            "max    1.669799e+09        12493.000000        14.000000         19.000000   \n",
            "\n",
            "       secondary_color_id  \n",
            "count       229624.000000  \n",
            "mean             9.505753  \n",
            "std              6.433769  \n",
            "min              0.000000  \n",
            "25%              2.000000  \n",
            "50%             10.000000  \n",
            "75%             16.000000  \n",
            "max             19.000000  \n"
          ]
        }
      ]
    },
    {
      "cell_type": "code",
      "source": [
        "type(df_csv)\n",
        "(df_csv.applymap(lambda x: x.isspace() if isinstance(x, str) else False)).sum()\n",
        "\n",
        "\n",
        "# print(df_train.isnull().sum())  # Count missing values in each column\n",
        "# print(df_train == \"\").sum()\n",
        "# df.fillna(df_train.median(), inplace=True)  # Replace missing values with median\n"
      ],
      "metadata": {
        "colab": {
          "base_uri": "https://localhost:8080/",
          "height": 840
        },
        "id": "HRPuGuhKOzSV",
        "outputId": "b402c803-29e4-447e-f035-a570fea561b2"
      },
      "id": "HRPuGuhKOzSV",
      "execution_count": 15,
      "outputs": [
        {
          "output_type": "stream",
          "name": "stderr",
          "text": [
            "<ipython-input-15-10f949765c7d>:2: FutureWarning: DataFrame.applymap has been deprecated. Use DataFrame.map instead.\n",
            "  (df_train.applymap(lambda x: x.isspace() if isinstance(x, str) else False)).sum()\n"
          ]
        },
        {
          "output_type": "execute_result",
          "data": {
            "text/plain": [
              "product_id              0\n",
              "title                   0\n",
              "description             0\n",
              "tags                    0\n",
              "type                    0\n",
              "room                    0\n",
              "craft_type              0\n",
              "recipient               0\n",
              "material                0\n",
              "occasion                0\n",
              "holiday                 0\n",
              "art_subject             0\n",
              "style                   0\n",
              "shape                   0\n",
              "pattern                 0\n",
              "bottom_category_id      0\n",
              "bottom_category_text    0\n",
              "top_category_id         0\n",
              "top_category_text       0\n",
              "primary_color_id        0\n",
              "primary_color_text      0\n",
              "secondary_color_id      0\n",
              "secondary_color_text    0\n",
              "dtype: int64"
            ],
            "text/html": [
              "<div>\n",
              "<style scoped>\n",
              "    .dataframe tbody tr th:only-of-type {\n",
              "        vertical-align: middle;\n",
              "    }\n",
              "\n",
              "    .dataframe tbody tr th {\n",
              "        vertical-align: top;\n",
              "    }\n",
              "\n",
              "    .dataframe thead th {\n",
              "        text-align: right;\n",
              "    }\n",
              "</style>\n",
              "<table border=\"1\" class=\"dataframe\">\n",
              "  <thead>\n",
              "    <tr style=\"text-align: right;\">\n",
              "      <th></th>\n",
              "      <th>0</th>\n",
              "    </tr>\n",
              "  </thead>\n",
              "  <tbody>\n",
              "    <tr>\n",
              "      <th>product_id</th>\n",
              "      <td>0</td>\n",
              "    </tr>\n",
              "    <tr>\n",
              "      <th>title</th>\n",
              "      <td>0</td>\n",
              "    </tr>\n",
              "    <tr>\n",
              "      <th>description</th>\n",
              "      <td>0</td>\n",
              "    </tr>\n",
              "    <tr>\n",
              "      <th>tags</th>\n",
              "      <td>0</td>\n",
              "    </tr>\n",
              "    <tr>\n",
              "      <th>type</th>\n",
              "      <td>0</td>\n",
              "    </tr>\n",
              "    <tr>\n",
              "      <th>room</th>\n",
              "      <td>0</td>\n",
              "    </tr>\n",
              "    <tr>\n",
              "      <th>craft_type</th>\n",
              "      <td>0</td>\n",
              "    </tr>\n",
              "    <tr>\n",
              "      <th>recipient</th>\n",
              "      <td>0</td>\n",
              "    </tr>\n",
              "    <tr>\n",
              "      <th>material</th>\n",
              "      <td>0</td>\n",
              "    </tr>\n",
              "    <tr>\n",
              "      <th>occasion</th>\n",
              "      <td>0</td>\n",
              "    </tr>\n",
              "    <tr>\n",
              "      <th>holiday</th>\n",
              "      <td>0</td>\n",
              "    </tr>\n",
              "    <tr>\n",
              "      <th>art_subject</th>\n",
              "      <td>0</td>\n",
              "    </tr>\n",
              "    <tr>\n",
              "      <th>style</th>\n",
              "      <td>0</td>\n",
              "    </tr>\n",
              "    <tr>\n",
              "      <th>shape</th>\n",
              "      <td>0</td>\n",
              "    </tr>\n",
              "    <tr>\n",
              "      <th>pattern</th>\n",
              "      <td>0</td>\n",
              "    </tr>\n",
              "    <tr>\n",
              "      <th>bottom_category_id</th>\n",
              "      <td>0</td>\n",
              "    </tr>\n",
              "    <tr>\n",
              "      <th>bottom_category_text</th>\n",
              "      <td>0</td>\n",
              "    </tr>\n",
              "    <tr>\n",
              "      <th>top_category_id</th>\n",
              "      <td>0</td>\n",
              "    </tr>\n",
              "    <tr>\n",
              "      <th>top_category_text</th>\n",
              "      <td>0</td>\n",
              "    </tr>\n",
              "    <tr>\n",
              "      <th>primary_color_id</th>\n",
              "      <td>0</td>\n",
              "    </tr>\n",
              "    <tr>\n",
              "      <th>primary_color_text</th>\n",
              "      <td>0</td>\n",
              "    </tr>\n",
              "    <tr>\n",
              "      <th>secondary_color_id</th>\n",
              "      <td>0</td>\n",
              "    </tr>\n",
              "    <tr>\n",
              "      <th>secondary_color_text</th>\n",
              "      <td>0</td>\n",
              "    </tr>\n",
              "  </tbody>\n",
              "</table>\n",
              "</div><br><label><b>dtype:</b> int64</label>"
            ]
          },
          "metadata": {},
          "execution_count": 15
        }
      ]
    },
    {
      "cell_type": "code",
      "execution_count": null,
      "id": "3a5df6fa",
      "metadata": {
        "id": "3a5df6fa",
        "outputId": "16f18784-c7b7-4077-d424-73757716befe",
        "colab": {
          "base_uri": "https://localhost:8080/",
          "height": 36
        }
      },
      "outputs": [
        {
          "output_type": "execute_result",
          "data": {
            "text/plain": [
              "'Number of rows in train: 229,624'"
            ],
            "application/vnd.google.colaboratory.intrinsic+json": {
              "type": "string"
            }
          },
          "metadata": {},
          "execution_count": 14
        }
      ],
      "source": [
        "f\"Number of rows in train: {len(df_train):,}\""
      ]
    },
    {
      "cell_type": "code",
      "execution_count": null,
      "id": "72ff1336",
      "metadata": {
        "id": "72ff1336",
        "outputId": "958bb56c-207d-4edd-c8cb-150d6a79f94b",
        "colab": {
          "base_uri": "https://localhost:8080/",
          "height": 36
        }
      },
      "outputs": [
        {
          "output_type": "execute_result",
          "data": {
            "text/plain": [
              "'Number of unique products in train: 229,624'"
            ],
            "application/vnd.google.colaboratory.intrinsic+json": {
              "type": "string"
            }
          },
          "metadata": {},
          "execution_count": 27
        }
      ],
      "source": [
        "f\"Number of unique products in train: {len(df_train['product_id'].unique()):,}\""
      ]
    },
    {
      "cell_type": "code",
      "execution_count": null,
      "id": "a7167f76",
      "metadata": {
        "id": "a7167f76",
        "outputId": "c4a71456-e27f-463f-b4ab-7c1bca5c3890",
        "colab": {
          "base_uri": "https://localhost:8080/",
          "height": 36
        }
      },
      "outputs": [
        {
          "output_type": "execute_result",
          "data": {
            "text/plain": [
              "'Number of columns in train: 23'"
            ],
            "application/vnd.google.colaboratory.intrinsic+json": {
              "type": "string"
            }
          },
          "metadata": {},
          "execution_count": 28
        }
      ],
      "source": [
        "f\"Number of columns in train: {len(df_train.columns):,}\""
      ]
    },
    {
      "cell_type": "code",
      "execution_count": null,
      "id": "24ac7144",
      "metadata": {
        "id": "24ac7144",
        "outputId": "7f0ee67e-0498-4e37-8d7c-dc0962f6092f",
        "colab": {
          "base_uri": "https://localhost:8080/"
        }
      },
      "outputs": [
        {
          "output_type": "execute_result",
          "data": {
            "text/plain": [
              "['product_id',\n",
              " 'title',\n",
              " 'description',\n",
              " 'tags',\n",
              " 'type',\n",
              " 'room',\n",
              " 'craft_type',\n",
              " 'recipient',\n",
              " 'material',\n",
              " 'occasion',\n",
              " 'holiday',\n",
              " 'art_subject',\n",
              " 'style',\n",
              " 'shape',\n",
              " 'pattern',\n",
              " 'bottom_category_id',\n",
              " 'bottom_category_text',\n",
              " 'top_category_id',\n",
              " 'top_category_text',\n",
              " 'primary_color_id',\n",
              " 'primary_color_text',\n",
              " 'secondary_color_id',\n",
              " 'secondary_color_text']"
            ]
          },
          "metadata": {},
          "execution_count": 29
        }
      ],
      "source": [
        "list(df_train.columns)"
      ]
    },
    {
      "cell_type": "code",
      "execution_count": null,
      "id": "8999100d",
      "metadata": {
        "id": "8999100d",
        "outputId": "be223602-72b5-4a97-dbbd-cb3c3539b7e3",
        "colab": {
          "base_uri": "https://localhost:8080/",
          "height": 805
        }
      },
      "outputs": [
        {
          "output_type": "execute_result",
          "data": {
            "text/plain": [
              "product_id                                                      699437355\n",
              "title                   Children&#39;s circle skirt BLUE GALAXY made o...\n",
              "description             The fuxandfriends children&#39;s full circle s...\n",
              "tags                                                                     \n",
              "type                                                             physical\n",
              "room                                                                     \n",
              "craft_type                                                               \n",
              "recipient                                                                \n",
              "material                                                                 \n",
              "occasion                                                                 \n",
              "holiday                                                                  \n",
              "art_subject                                                              \n",
              "style                                                                    \n",
              "shape                                                                    \n",
              "pattern                                                                  \n",
              "bottom_category_id                                                    426\n",
              "bottom_category_text                       clothing.girls_clothing.skirts\n",
              "top_category_id                                                         5\n",
              "top_category_text                                                clothing\n",
              "primary_color_id                                                        2\n",
              "primary_color_text                                                   blue\n",
              "secondary_color_id                                                      2\n",
              "secondary_color_text                                                 blue\n",
              "Name: 0, dtype: object"
            ],
            "text/html": [
              "<div>\n",
              "<style scoped>\n",
              "    .dataframe tbody tr th:only-of-type {\n",
              "        vertical-align: middle;\n",
              "    }\n",
              "\n",
              "    .dataframe tbody tr th {\n",
              "        vertical-align: top;\n",
              "    }\n",
              "\n",
              "    .dataframe thead th {\n",
              "        text-align: right;\n",
              "    }\n",
              "</style>\n",
              "<table border=\"1\" class=\"dataframe\">\n",
              "  <thead>\n",
              "    <tr style=\"text-align: right;\">\n",
              "      <th></th>\n",
              "      <th>0</th>\n",
              "    </tr>\n",
              "  </thead>\n",
              "  <tbody>\n",
              "    <tr>\n",
              "      <th>product_id</th>\n",
              "      <td>699437355</td>\n",
              "    </tr>\n",
              "    <tr>\n",
              "      <th>title</th>\n",
              "      <td>Children&amp;#39;s circle skirt BLUE GALAXY made o...</td>\n",
              "    </tr>\n",
              "    <tr>\n",
              "      <th>description</th>\n",
              "      <td>The fuxandfriends children&amp;#39;s full circle s...</td>\n",
              "    </tr>\n",
              "    <tr>\n",
              "      <th>tags</th>\n",
              "      <td></td>\n",
              "    </tr>\n",
              "    <tr>\n",
              "      <th>type</th>\n",
              "      <td>physical</td>\n",
              "    </tr>\n",
              "    <tr>\n",
              "      <th>room</th>\n",
              "      <td></td>\n",
              "    </tr>\n",
              "    <tr>\n",
              "      <th>craft_type</th>\n",
              "      <td></td>\n",
              "    </tr>\n",
              "    <tr>\n",
              "      <th>recipient</th>\n",
              "      <td></td>\n",
              "    </tr>\n",
              "    <tr>\n",
              "      <th>material</th>\n",
              "      <td></td>\n",
              "    </tr>\n",
              "    <tr>\n",
              "      <th>occasion</th>\n",
              "      <td></td>\n",
              "    </tr>\n",
              "    <tr>\n",
              "      <th>holiday</th>\n",
              "      <td></td>\n",
              "    </tr>\n",
              "    <tr>\n",
              "      <th>art_subject</th>\n",
              "      <td></td>\n",
              "    </tr>\n",
              "    <tr>\n",
              "      <th>style</th>\n",
              "      <td></td>\n",
              "    </tr>\n",
              "    <tr>\n",
              "      <th>shape</th>\n",
              "      <td></td>\n",
              "    </tr>\n",
              "    <tr>\n",
              "      <th>pattern</th>\n",
              "      <td></td>\n",
              "    </tr>\n",
              "    <tr>\n",
              "      <th>bottom_category_id</th>\n",
              "      <td>426</td>\n",
              "    </tr>\n",
              "    <tr>\n",
              "      <th>bottom_category_text</th>\n",
              "      <td>clothing.girls_clothing.skirts</td>\n",
              "    </tr>\n",
              "    <tr>\n",
              "      <th>top_category_id</th>\n",
              "      <td>5</td>\n",
              "    </tr>\n",
              "    <tr>\n",
              "      <th>top_category_text</th>\n",
              "      <td>clothing</td>\n",
              "    </tr>\n",
              "    <tr>\n",
              "      <th>primary_color_id</th>\n",
              "      <td>2</td>\n",
              "    </tr>\n",
              "    <tr>\n",
              "      <th>primary_color_text</th>\n",
              "      <td>blue</td>\n",
              "    </tr>\n",
              "    <tr>\n",
              "      <th>secondary_color_id</th>\n",
              "      <td>2</td>\n",
              "    </tr>\n",
              "    <tr>\n",
              "      <th>secondary_color_text</th>\n",
              "      <td>blue</td>\n",
              "    </tr>\n",
              "  </tbody>\n",
              "</table>\n",
              "</div><br><label><b>dtype:</b> object</label>"
            ]
          },
          "metadata": {},
          "execution_count": 15
        }
      ],
      "source": [
        "df_train.iloc[0]"
      ]
    },
    {
      "cell_type": "code",
      "execution_count": null,
      "id": "c35c9c94",
      "metadata": {
        "id": "c35c9c94",
        "outputId": "5bf1514e-8801-48e6-ab82-feb65705de24",
        "colab": {
          "base_uri": "https://localhost:8080/",
          "height": 1000
        }
      },
      "outputs": [
        {
          "output_type": "execute_result",
          "data": {
            "text/plain": [
              "   product_id                                              title  \\\n",
              "0   699437355  Children&#39;s circle skirt BLUE GALAXY made o...   \n",
              "1  1323699538  Cow Birthday Tutu for kids, Farm Theme Bday Ou...   \n",
              "2  1142910558  Zebra print tutu, animal print Skirt, World bo...   \n",
              "3  1320296928  Lilac Tutu Rainbow Dots // Girl&#39;s Tutu, Tu...   \n",
              "4   854901795  Bumblebee tutu yellow and black tutu halloween...   \n",
              "5   685174923  Mexican Girl Outfit, 1st Birthday Fiesta Outfi...   \n",
              "6   705540552  Purple and Aqua tutu birthday tutu pony tutu u...   \n",
              "7   530355856  White Red Tutu, Reversible tutu, Multicolor Tu...   \n",
              "8  1666462173  2nd Birthday Outfit Girl Two Sweet Donut 2 Yea...   \n",
              "9  1506341323  Fabulous Border Print Skirt, lined, Butterflie...   \n",
              "\n",
              "                                         description  \\\n",
              "0  The fuxandfriends children&#39;s full circle s...   \n",
              "1  💄This listing is for the TUTU ONLY (double rib...   \n",
              "2  All tutus are handmade to order with two layer...   \n",
              "3  Step aside because the princess pop star is he...   \n",
              "4  Sparkle, shimmer, twirl and spin,\\nThis tutu&#...   \n",
              "5  Tutu is hand tied on pink ribbon. \\nSkirt and ...   \n",
              "6  Sparkle, shimmer, twirl and spin,\\nThis tutu&#...   \n",
              "7  Introducing the enchanting White Red Tutu, a s...   \n",
              "8  Make your little girl feel like a million buck...   \n",
              "9  Fabulous Border Print Skirt, lined, Butterflie...   \n",
              "\n",
              "                                                tags      type room  \\\n",
              "0                                                     physical        \n",
              "1  birthday outfit,girls birthday shirt,Tutu outf...  physical        \n",
              "2  black and white tutu,striped skirt,zebra tutu,...  physical        \n",
              "3  tutu,girls skirt,sparkling tutu,fun skirt,ball...  physical        \n",
              "4  dog tutu,fluffy tutu,dance tutu,skirt,flower g...  physical        \n",
              "5  Tutu Skirt,Fabric Tutu,Fabric Skirt,Birthday O...  physical        \n",
              "6  spring tutu,smash cake,photo prop,dog tutu,Tut...  physical        \n",
              "7  White Red Tutu,Reversible tutu,Multicolor Tutu...  physical        \n",
              "8  birthday Outfit,birthday girl,girls birthday,t...  physical        \n",
              "9  Border print,Teenage Skirt,waist 24 in,length ...  physical        \n",
              "\n",
              "  craft_type recipient material  occasion  ... shape       pattern  \\\n",
              "0                                          ...                       \n",
              "1                                birthday  ...        animal print   \n",
              "2                                          ...        animal print   \n",
              "3                                birthday  ...                       \n",
              "4                                birthday  ...                       \n",
              "5                                birthday  ...                       \n",
              "6                                birthday  ...             striped   \n",
              "7                                          ...                       \n",
              "8                                birthday  ...                       \n",
              "9                                birthday  ...              floral   \n",
              "\n",
              "  bottom_category_id            bottom_category_text top_category_id  \\\n",
              "0                426  clothing.girls_clothing.skirts               5   \n",
              "1                426  clothing.girls_clothing.skirts               5   \n",
              "2                426  clothing.girls_clothing.skirts               5   \n",
              "3                426  clothing.girls_clothing.skirts               5   \n",
              "4                426  clothing.girls_clothing.skirts               5   \n",
              "5                426  clothing.girls_clothing.skirts               5   \n",
              "6                426  clothing.girls_clothing.skirts               5   \n",
              "7                426  clothing.girls_clothing.skirts               5   \n",
              "8                426  clothing.girls_clothing.skirts               5   \n",
              "9                426  clothing.girls_clothing.skirts               5   \n",
              "\n",
              "   top_category_text primary_color_id  primary_color_text secondary_color_id  \\\n",
              "0           clothing                2                blue                  2   \n",
              "1           clothing               11                pink                  1   \n",
              "2           clothing               17               white                  1   \n",
              "3           clothing               12              purple                 13   \n",
              "4           clothing               18              yellow                  1   \n",
              "5           clothing               11                pink                 13   \n",
              "6           clothing               12              purple                  9   \n",
              "7           clothing               14                 red                 17   \n",
              "8           clothing               11                pink                  7   \n",
              "9           clothing                1               black                 10   \n",
              "\n",
              "   secondary_color_text  \n",
              "0                  blue  \n",
              "1                 black  \n",
              "2                 black  \n",
              "3               rainbow  \n",
              "4                 black  \n",
              "5               rainbow  \n",
              "6                 green  \n",
              "7                 white  \n",
              "8                  gold  \n",
              "9                orange  \n",
              "\n",
              "[10 rows x 23 columns]"
            ],
            "text/html": [
              "\n",
              "  <div id=\"df-0e0ec15f-124d-4d68-bba7-2d75dd7684c2\" class=\"colab-df-container\">\n",
              "    <div>\n",
              "<style scoped>\n",
              "    .dataframe tbody tr th:only-of-type {\n",
              "        vertical-align: middle;\n",
              "    }\n",
              "\n",
              "    .dataframe tbody tr th {\n",
              "        vertical-align: top;\n",
              "    }\n",
              "\n",
              "    .dataframe thead th {\n",
              "        text-align: right;\n",
              "    }\n",
              "</style>\n",
              "<table border=\"1\" class=\"dataframe\">\n",
              "  <thead>\n",
              "    <tr style=\"text-align: right;\">\n",
              "      <th></th>\n",
              "      <th>product_id</th>\n",
              "      <th>title</th>\n",
              "      <th>description</th>\n",
              "      <th>tags</th>\n",
              "      <th>type</th>\n",
              "      <th>room</th>\n",
              "      <th>craft_type</th>\n",
              "      <th>recipient</th>\n",
              "      <th>material</th>\n",
              "      <th>occasion</th>\n",
              "      <th>...</th>\n",
              "      <th>shape</th>\n",
              "      <th>pattern</th>\n",
              "      <th>bottom_category_id</th>\n",
              "      <th>bottom_category_text</th>\n",
              "      <th>top_category_id</th>\n",
              "      <th>top_category_text</th>\n",
              "      <th>primary_color_id</th>\n",
              "      <th>primary_color_text</th>\n",
              "      <th>secondary_color_id</th>\n",
              "      <th>secondary_color_text</th>\n",
              "    </tr>\n",
              "  </thead>\n",
              "  <tbody>\n",
              "    <tr>\n",
              "      <th>0</th>\n",
              "      <td>699437355</td>\n",
              "      <td>Children&amp;#39;s circle skirt BLUE GALAXY made o...</td>\n",
              "      <td>The fuxandfriends children&amp;#39;s full circle s...</td>\n",
              "      <td></td>\n",
              "      <td>physical</td>\n",
              "      <td></td>\n",
              "      <td></td>\n",
              "      <td></td>\n",
              "      <td></td>\n",
              "      <td></td>\n",
              "      <td>...</td>\n",
              "      <td></td>\n",
              "      <td></td>\n",
              "      <td>426</td>\n",
              "      <td>clothing.girls_clothing.skirts</td>\n",
              "      <td>5</td>\n",
              "      <td>clothing</td>\n",
              "      <td>2</td>\n",
              "      <td>blue</td>\n",
              "      <td>2</td>\n",
              "      <td>blue</td>\n",
              "    </tr>\n",
              "    <tr>\n",
              "      <th>1</th>\n",
              "      <td>1323699538</td>\n",
              "      <td>Cow Birthday Tutu for kids, Farm Theme Bday Ou...</td>\n",
              "      <td>💄This listing is for the TUTU ONLY (double rib...</td>\n",
              "      <td>birthday outfit,girls birthday shirt,Tutu outf...</td>\n",
              "      <td>physical</td>\n",
              "      <td></td>\n",
              "      <td></td>\n",
              "      <td></td>\n",
              "      <td></td>\n",
              "      <td>birthday</td>\n",
              "      <td>...</td>\n",
              "      <td></td>\n",
              "      <td>animal print</td>\n",
              "      <td>426</td>\n",
              "      <td>clothing.girls_clothing.skirts</td>\n",
              "      <td>5</td>\n",
              "      <td>clothing</td>\n",
              "      <td>11</td>\n",
              "      <td>pink</td>\n",
              "      <td>1</td>\n",
              "      <td>black</td>\n",
              "    </tr>\n",
              "    <tr>\n",
              "      <th>2</th>\n",
              "      <td>1142910558</td>\n",
              "      <td>Zebra print tutu, animal print Skirt, World bo...</td>\n",
              "      <td>All tutus are handmade to order with two layer...</td>\n",
              "      <td>black and white tutu,striped skirt,zebra tutu,...</td>\n",
              "      <td>physical</td>\n",
              "      <td></td>\n",
              "      <td></td>\n",
              "      <td></td>\n",
              "      <td></td>\n",
              "      <td></td>\n",
              "      <td>...</td>\n",
              "      <td></td>\n",
              "      <td>animal print</td>\n",
              "      <td>426</td>\n",
              "      <td>clothing.girls_clothing.skirts</td>\n",
              "      <td>5</td>\n",
              "      <td>clothing</td>\n",
              "      <td>17</td>\n",
              "      <td>white</td>\n",
              "      <td>1</td>\n",
              "      <td>black</td>\n",
              "    </tr>\n",
              "    <tr>\n",
              "      <th>3</th>\n",
              "      <td>1320296928</td>\n",
              "      <td>Lilac Tutu Rainbow Dots // Girl&amp;#39;s Tutu, Tu...</td>\n",
              "      <td>Step aside because the princess pop star is he...</td>\n",
              "      <td>tutu,girls skirt,sparkling tutu,fun skirt,ball...</td>\n",
              "      <td>physical</td>\n",
              "      <td></td>\n",
              "      <td></td>\n",
              "      <td></td>\n",
              "      <td></td>\n",
              "      <td>birthday</td>\n",
              "      <td>...</td>\n",
              "      <td></td>\n",
              "      <td></td>\n",
              "      <td>426</td>\n",
              "      <td>clothing.girls_clothing.skirts</td>\n",
              "      <td>5</td>\n",
              "      <td>clothing</td>\n",
              "      <td>12</td>\n",
              "      <td>purple</td>\n",
              "      <td>13</td>\n",
              "      <td>rainbow</td>\n",
              "    </tr>\n",
              "    <tr>\n",
              "      <th>4</th>\n",
              "      <td>854901795</td>\n",
              "      <td>Bumblebee tutu yellow and black tutu halloween...</td>\n",
              "      <td>Sparkle, shimmer, twirl and spin,\\nThis tutu&amp;#...</td>\n",
              "      <td>dog tutu,fluffy tutu,dance tutu,skirt,flower g...</td>\n",
              "      <td>physical</td>\n",
              "      <td></td>\n",
              "      <td></td>\n",
              "      <td></td>\n",
              "      <td></td>\n",
              "      <td>birthday</td>\n",
              "      <td>...</td>\n",
              "      <td></td>\n",
              "      <td></td>\n",
              "      <td>426</td>\n",
              "      <td>clothing.girls_clothing.skirts</td>\n",
              "      <td>5</td>\n",
              "      <td>clothing</td>\n",
              "      <td>18</td>\n",
              "      <td>yellow</td>\n",
              "      <td>1</td>\n",
              "      <td>black</td>\n",
              "    </tr>\n",
              "    <tr>\n",
              "      <th>5</th>\n",
              "      <td>685174923</td>\n",
              "      <td>Mexican Girl Outfit, 1st Birthday Fiesta Outfi...</td>\n",
              "      <td>Tutu is hand tied on pink ribbon. \\nSkirt and ...</td>\n",
              "      <td>Tutu Skirt,Fabric Tutu,Fabric Skirt,Birthday O...</td>\n",
              "      <td>physical</td>\n",
              "      <td></td>\n",
              "      <td></td>\n",
              "      <td></td>\n",
              "      <td></td>\n",
              "      <td>birthday</td>\n",
              "      <td>...</td>\n",
              "      <td></td>\n",
              "      <td></td>\n",
              "      <td>426</td>\n",
              "      <td>clothing.girls_clothing.skirts</td>\n",
              "      <td>5</td>\n",
              "      <td>clothing</td>\n",
              "      <td>11</td>\n",
              "      <td>pink</td>\n",
              "      <td>13</td>\n",
              "      <td>rainbow</td>\n",
              "    </tr>\n",
              "    <tr>\n",
              "      <th>6</th>\n",
              "      <td>705540552</td>\n",
              "      <td>Purple and Aqua tutu birthday tutu pony tutu u...</td>\n",
              "      <td>Sparkle, shimmer, twirl and spin,\\nThis tutu&amp;#...</td>\n",
              "      <td>spring tutu,smash cake,photo prop,dog tutu,Tut...</td>\n",
              "      <td>physical</td>\n",
              "      <td></td>\n",
              "      <td></td>\n",
              "      <td></td>\n",
              "      <td></td>\n",
              "      <td>birthday</td>\n",
              "      <td>...</td>\n",
              "      <td></td>\n",
              "      <td>striped</td>\n",
              "      <td>426</td>\n",
              "      <td>clothing.girls_clothing.skirts</td>\n",
              "      <td>5</td>\n",
              "      <td>clothing</td>\n",
              "      <td>12</td>\n",
              "      <td>purple</td>\n",
              "      <td>9</td>\n",
              "      <td>green</td>\n",
              "    </tr>\n",
              "    <tr>\n",
              "      <th>7</th>\n",
              "      <td>530355856</td>\n",
              "      <td>White Red Tutu, Reversible tutu, Multicolor Tu...</td>\n",
              "      <td>Introducing the enchanting White Red Tutu, a s...</td>\n",
              "      <td>White Red Tutu,Reversible tutu,Multicolor Tutu...</td>\n",
              "      <td>physical</td>\n",
              "      <td></td>\n",
              "      <td></td>\n",
              "      <td></td>\n",
              "      <td></td>\n",
              "      <td></td>\n",
              "      <td>...</td>\n",
              "      <td></td>\n",
              "      <td></td>\n",
              "      <td>426</td>\n",
              "      <td>clothing.girls_clothing.skirts</td>\n",
              "      <td>5</td>\n",
              "      <td>clothing</td>\n",
              "      <td>14</td>\n",
              "      <td>red</td>\n",
              "      <td>17</td>\n",
              "      <td>white</td>\n",
              "    </tr>\n",
              "    <tr>\n",
              "      <th>8</th>\n",
              "      <td>1666462173</td>\n",
              "      <td>2nd Birthday Outfit Girl Two Sweet Donut 2 Yea...</td>\n",
              "      <td>Make your little girl feel like a million buck...</td>\n",
              "      <td>birthday Outfit,birthday girl,girls birthday,t...</td>\n",
              "      <td>physical</td>\n",
              "      <td></td>\n",
              "      <td></td>\n",
              "      <td></td>\n",
              "      <td></td>\n",
              "      <td>birthday</td>\n",
              "      <td>...</td>\n",
              "      <td></td>\n",
              "      <td></td>\n",
              "      <td>426</td>\n",
              "      <td>clothing.girls_clothing.skirts</td>\n",
              "      <td>5</td>\n",
              "      <td>clothing</td>\n",
              "      <td>11</td>\n",
              "      <td>pink</td>\n",
              "      <td>7</td>\n",
              "      <td>gold</td>\n",
              "    </tr>\n",
              "    <tr>\n",
              "      <th>9</th>\n",
              "      <td>1506341323</td>\n",
              "      <td>Fabulous Border Print Skirt, lined, Butterflie...</td>\n",
              "      <td>Fabulous Border Print Skirt, lined, Butterflie...</td>\n",
              "      <td>Border print,Teenage Skirt,waist 24 in,length ...</td>\n",
              "      <td>physical</td>\n",
              "      <td></td>\n",
              "      <td></td>\n",
              "      <td></td>\n",
              "      <td></td>\n",
              "      <td>birthday</td>\n",
              "      <td>...</td>\n",
              "      <td></td>\n",
              "      <td>floral</td>\n",
              "      <td>426</td>\n",
              "      <td>clothing.girls_clothing.skirts</td>\n",
              "      <td>5</td>\n",
              "      <td>clothing</td>\n",
              "      <td>1</td>\n",
              "      <td>black</td>\n",
              "      <td>10</td>\n",
              "      <td>orange</td>\n",
              "    </tr>\n",
              "  </tbody>\n",
              "</table>\n",
              "<p>10 rows × 23 columns</p>\n",
              "</div>\n",
              "    <div class=\"colab-df-buttons\">\n",
              "\n",
              "  <div class=\"colab-df-container\">\n",
              "    <button class=\"colab-df-convert\" onclick=\"convertToInteractive('df-0e0ec15f-124d-4d68-bba7-2d75dd7684c2')\"\n",
              "            title=\"Convert this dataframe to an interactive table.\"\n",
              "            style=\"display:none;\">\n",
              "\n",
              "  <svg xmlns=\"http://www.w3.org/2000/svg\" height=\"24px\" viewBox=\"0 -960 960 960\">\n",
              "    <path d=\"M120-120v-720h720v720H120Zm60-500h600v-160H180v160Zm220 220h160v-160H400v160Zm0 220h160v-160H400v160ZM180-400h160v-160H180v160Zm440 0h160v-160H620v160ZM180-180h160v-160H180v160Zm440 0h160v-160H620v160Z\"/>\n",
              "  </svg>\n",
              "    </button>\n",
              "\n",
              "  <style>\n",
              "    .colab-df-container {\n",
              "      display:flex;\n",
              "      gap: 12px;\n",
              "    }\n",
              "\n",
              "    .colab-df-convert {\n",
              "      background-color: #E8F0FE;\n",
              "      border: none;\n",
              "      border-radius: 50%;\n",
              "      cursor: pointer;\n",
              "      display: none;\n",
              "      fill: #1967D2;\n",
              "      height: 32px;\n",
              "      padding: 0 0 0 0;\n",
              "      width: 32px;\n",
              "    }\n",
              "\n",
              "    .colab-df-convert:hover {\n",
              "      background-color: #E2EBFA;\n",
              "      box-shadow: 0px 1px 2px rgba(60, 64, 67, 0.3), 0px 1px 3px 1px rgba(60, 64, 67, 0.15);\n",
              "      fill: #174EA6;\n",
              "    }\n",
              "\n",
              "    .colab-df-buttons div {\n",
              "      margin-bottom: 4px;\n",
              "    }\n",
              "\n",
              "    [theme=dark] .colab-df-convert {\n",
              "      background-color: #3B4455;\n",
              "      fill: #D2E3FC;\n",
              "    }\n",
              "\n",
              "    [theme=dark] .colab-df-convert:hover {\n",
              "      background-color: #434B5C;\n",
              "      box-shadow: 0px 1px 3px 1px rgba(0, 0, 0, 0.15);\n",
              "      filter: drop-shadow(0px 1px 2px rgba(0, 0, 0, 0.3));\n",
              "      fill: #FFFFFF;\n",
              "    }\n",
              "  </style>\n",
              "\n",
              "    <script>\n",
              "      const buttonEl =\n",
              "        document.querySelector('#df-0e0ec15f-124d-4d68-bba7-2d75dd7684c2 button.colab-df-convert');\n",
              "      buttonEl.style.display =\n",
              "        google.colab.kernel.accessAllowed ? 'block' : 'none';\n",
              "\n",
              "      async function convertToInteractive(key) {\n",
              "        const element = document.querySelector('#df-0e0ec15f-124d-4d68-bba7-2d75dd7684c2');\n",
              "        const dataTable =\n",
              "          await google.colab.kernel.invokeFunction('convertToInteractive',\n",
              "                                                    [key], {});\n",
              "        if (!dataTable) return;\n",
              "\n",
              "        const docLinkHtml = 'Like what you see? Visit the ' +\n",
              "          '<a target=\"_blank\" href=https://colab.research.google.com/notebooks/data_table.ipynb>data table notebook</a>'\n",
              "          + ' to learn more about interactive tables.';\n",
              "        element.innerHTML = '';\n",
              "        dataTable['output_type'] = 'display_data';\n",
              "        await google.colab.output.renderOutput(dataTable, element);\n",
              "        const docLink = document.createElement('div');\n",
              "        docLink.innerHTML = docLinkHtml;\n",
              "        element.appendChild(docLink);\n",
              "      }\n",
              "    </script>\n",
              "  </div>\n",
              "\n",
              "\n",
              "<div id=\"df-16f5cf95-ec08-4591-a7a6-e77f0f411052\">\n",
              "  <button class=\"colab-df-quickchart\" onclick=\"quickchart('df-16f5cf95-ec08-4591-a7a6-e77f0f411052')\"\n",
              "            title=\"Suggest charts\"\n",
              "            style=\"display:none;\">\n",
              "\n",
              "<svg xmlns=\"http://www.w3.org/2000/svg\" height=\"24px\"viewBox=\"0 0 24 24\"\n",
              "     width=\"24px\">\n",
              "    <g>\n",
              "        <path d=\"M19 3H5c-1.1 0-2 .9-2 2v14c0 1.1.9 2 2 2h14c1.1 0 2-.9 2-2V5c0-1.1-.9-2-2-2zM9 17H7v-7h2v7zm4 0h-2V7h2v10zm4 0h-2v-4h2v4z\"/>\n",
              "    </g>\n",
              "</svg>\n",
              "  </button>\n",
              "\n",
              "<style>\n",
              "  .colab-df-quickchart {\n",
              "      --bg-color: #E8F0FE;\n",
              "      --fill-color: #1967D2;\n",
              "      --hover-bg-color: #E2EBFA;\n",
              "      --hover-fill-color: #174EA6;\n",
              "      --disabled-fill-color: #AAA;\n",
              "      --disabled-bg-color: #DDD;\n",
              "  }\n",
              "\n",
              "  [theme=dark] .colab-df-quickchart {\n",
              "      --bg-color: #3B4455;\n",
              "      --fill-color: #D2E3FC;\n",
              "      --hover-bg-color: #434B5C;\n",
              "      --hover-fill-color: #FFFFFF;\n",
              "      --disabled-bg-color: #3B4455;\n",
              "      --disabled-fill-color: #666;\n",
              "  }\n",
              "\n",
              "  .colab-df-quickchart {\n",
              "    background-color: var(--bg-color);\n",
              "    border: none;\n",
              "    border-radius: 50%;\n",
              "    cursor: pointer;\n",
              "    display: none;\n",
              "    fill: var(--fill-color);\n",
              "    height: 32px;\n",
              "    padding: 0;\n",
              "    width: 32px;\n",
              "  }\n",
              "\n",
              "  .colab-df-quickchart:hover {\n",
              "    background-color: var(--hover-bg-color);\n",
              "    box-shadow: 0 1px 2px rgba(60, 64, 67, 0.3), 0 1px 3px 1px rgba(60, 64, 67, 0.15);\n",
              "    fill: var(--button-hover-fill-color);\n",
              "  }\n",
              "\n",
              "  .colab-df-quickchart-complete:disabled,\n",
              "  .colab-df-quickchart-complete:disabled:hover {\n",
              "    background-color: var(--disabled-bg-color);\n",
              "    fill: var(--disabled-fill-color);\n",
              "    box-shadow: none;\n",
              "  }\n",
              "\n",
              "  .colab-df-spinner {\n",
              "    border: 2px solid var(--fill-color);\n",
              "    border-color: transparent;\n",
              "    border-bottom-color: var(--fill-color);\n",
              "    animation:\n",
              "      spin 1s steps(1) infinite;\n",
              "  }\n",
              "\n",
              "  @keyframes spin {\n",
              "    0% {\n",
              "      border-color: transparent;\n",
              "      border-bottom-color: var(--fill-color);\n",
              "      border-left-color: var(--fill-color);\n",
              "    }\n",
              "    20% {\n",
              "      border-color: transparent;\n",
              "      border-left-color: var(--fill-color);\n",
              "      border-top-color: var(--fill-color);\n",
              "    }\n",
              "    30% {\n",
              "      border-color: transparent;\n",
              "      border-left-color: var(--fill-color);\n",
              "      border-top-color: var(--fill-color);\n",
              "      border-right-color: var(--fill-color);\n",
              "    }\n",
              "    40% {\n",
              "      border-color: transparent;\n",
              "      border-right-color: var(--fill-color);\n",
              "      border-top-color: var(--fill-color);\n",
              "    }\n",
              "    60% {\n",
              "      border-color: transparent;\n",
              "      border-right-color: var(--fill-color);\n",
              "    }\n",
              "    80% {\n",
              "      border-color: transparent;\n",
              "      border-right-color: var(--fill-color);\n",
              "      border-bottom-color: var(--fill-color);\n",
              "    }\n",
              "    90% {\n",
              "      border-color: transparent;\n",
              "      border-bottom-color: var(--fill-color);\n",
              "    }\n",
              "  }\n",
              "</style>\n",
              "\n",
              "  <script>\n",
              "    async function quickchart(key) {\n",
              "      const quickchartButtonEl =\n",
              "        document.querySelector('#' + key + ' button');\n",
              "      quickchartButtonEl.disabled = true;  // To prevent multiple clicks.\n",
              "      quickchartButtonEl.classList.add('colab-df-spinner');\n",
              "      try {\n",
              "        const charts = await google.colab.kernel.invokeFunction(\n",
              "            'suggestCharts', [key], {});\n",
              "      } catch (error) {\n",
              "        console.error('Error during call to suggestCharts:', error);\n",
              "      }\n",
              "      quickchartButtonEl.classList.remove('colab-df-spinner');\n",
              "      quickchartButtonEl.classList.add('colab-df-quickchart-complete');\n",
              "    }\n",
              "    (() => {\n",
              "      let quickchartButtonEl =\n",
              "        document.querySelector('#df-16f5cf95-ec08-4591-a7a6-e77f0f411052 button');\n",
              "      quickchartButtonEl.style.display =\n",
              "        google.colab.kernel.accessAllowed ? 'block' : 'none';\n",
              "    })();\n",
              "  </script>\n",
              "</div>\n",
              "\n",
              "    </div>\n",
              "  </div>\n"
            ],
            "application/vnd.google.colaboratory.intrinsic+json": {
              "type": "dataframe",
              "variable_name": "df_train"
            }
          },
          "metadata": {},
          "execution_count": 18
        }
      ],
      "source": [
        "df_train.head(10)"
      ]
    },
    {
      "cell_type": "code",
      "execution_count": null,
      "id": "cc00c799",
      "metadata": {
        "id": "cc00c799",
        "outputId": "be0e10f9-e2f0-4a1a-9d26-231d3b45de3e",
        "colab": {
          "base_uri": "https://localhost:8080/"
        }
      },
      "outputs": [
        {
          "output_type": "execute_result",
          "data": {
            "text/plain": [
              "array(['physical', 'download', ''], dtype=object)"
            ]
          },
          "metadata": {},
          "execution_count": 16
        }
      ],
      "source": [
        "df_train['type'].unique()"
      ]
    },
    {
      "cell_type": "code",
      "execution_count": null,
      "id": "dd36fe38",
      "metadata": {
        "id": "dd36fe38",
        "outputId": "a4e10358-b87d-4aa3-8c39-1c9e9ac9079c",
        "colab": {
          "base_uri": "https://localhost:8080/",
          "height": 210
        }
      },
      "outputs": [
        {
          "output_type": "execute_result",
          "data": {
            "text/plain": [
              "type\n",
              "physical    218568\n",
              "download     10708\n",
              "               348\n",
              "Name: count, dtype: int64"
            ],
            "text/html": [
              "<div>\n",
              "<style scoped>\n",
              "    .dataframe tbody tr th:only-of-type {\n",
              "        vertical-align: middle;\n",
              "    }\n",
              "\n",
              "    .dataframe tbody tr th {\n",
              "        vertical-align: top;\n",
              "    }\n",
              "\n",
              "    .dataframe thead th {\n",
              "        text-align: right;\n",
              "    }\n",
              "</style>\n",
              "<table border=\"1\" class=\"dataframe\">\n",
              "  <thead>\n",
              "    <tr style=\"text-align: right;\">\n",
              "      <th></th>\n",
              "      <th>count</th>\n",
              "    </tr>\n",
              "    <tr>\n",
              "      <th>type</th>\n",
              "      <th></th>\n",
              "    </tr>\n",
              "  </thead>\n",
              "  <tbody>\n",
              "    <tr>\n",
              "      <th>physical</th>\n",
              "      <td>218568</td>\n",
              "    </tr>\n",
              "    <tr>\n",
              "      <th>download</th>\n",
              "      <td>10708</td>\n",
              "    </tr>\n",
              "    <tr>\n",
              "      <th></th>\n",
              "      <td>348</td>\n",
              "    </tr>\n",
              "  </tbody>\n",
              "</table>\n",
              "</div><br><label><b>dtype:</b> int64</label>"
            ]
          },
          "metadata": {},
          "execution_count": 17
        }
      ],
      "source": [
        "df_train['type'].value_counts(dropna=False)"
      ]
    },
    {
      "cell_type": "code",
      "execution_count": null,
      "id": "1c585195",
      "metadata": {
        "id": "1c585195",
        "outputId": "b0730eb2-df60-4c21-a130-fdfaabf7a566",
        "colab": {
          "base_uri": "https://localhost:8080/",
          "height": 36
        }
      },
      "outputs": [
        {
          "output_type": "execute_result",
          "data": {
            "text/plain": [
              "'Number of top categories in train: 15'"
            ],
            "application/vnd.google.colaboratory.intrinsic+json": {
              "type": "string"
            }
          },
          "metadata": {},
          "execution_count": 34
        }
      ],
      "source": [
        "f\"Number of top categories in train: {len(df_train['top_category_text'].unique()):,}\""
      ]
    },
    {
      "cell_type": "code",
      "execution_count": null,
      "id": "5d67aa45",
      "metadata": {
        "id": "5d67aa45",
        "outputId": "a6e71f7a-c4f2-4e5f-daf6-681576af8301",
        "colab": {
          "base_uri": "https://localhost:8080/",
          "height": 640
        }
      },
      "outputs": [
        {
          "output_type": "stream",
          "name": "stderr",
          "text": [
            "<ipython-input-35-32be510a6e5e>:1: FutureWarning: pandas.value_counts is deprecated and will be removed in a future version. Use pd.Series(obj).value_counts() instead.\n",
            "  pd.value_counts(df_train['top_category_text'], sort=True, ascending=False)\n"
          ]
        },
        {
          "output_type": "execute_result",
          "data": {
            "text/plain": [
              "top_category_text\n",
              "home_and_living                54600\n",
              "craft_supplies_and_tools       33393\n",
              "clothing                       30143\n",
              "toys_and_games                 13835\n",
              "accessories                    12416\n",
              "paper_and_party_supplies       12207\n",
              "bath_and_beauty                11327\n",
              "weddings                       10143\n",
              "shoes                           8892\n",
              "art_and_collectibles            8716\n",
              "jewelry                         7822\n",
              "electronics_and_accessories     7474\n",
              "bags_and_purses                 6650\n",
              "books_movies_and_music          6262\n",
              "pet_supplies                    5744\n",
              "Name: count, dtype: int64"
            ],
            "text/html": [
              "<div>\n",
              "<style scoped>\n",
              "    .dataframe tbody tr th:only-of-type {\n",
              "        vertical-align: middle;\n",
              "    }\n",
              "\n",
              "    .dataframe tbody tr th {\n",
              "        vertical-align: top;\n",
              "    }\n",
              "\n",
              "    .dataframe thead th {\n",
              "        text-align: right;\n",
              "    }\n",
              "</style>\n",
              "<table border=\"1\" class=\"dataframe\">\n",
              "  <thead>\n",
              "    <tr style=\"text-align: right;\">\n",
              "      <th></th>\n",
              "      <th>count</th>\n",
              "    </tr>\n",
              "    <tr>\n",
              "      <th>top_category_text</th>\n",
              "      <th></th>\n",
              "    </tr>\n",
              "  </thead>\n",
              "  <tbody>\n",
              "    <tr>\n",
              "      <th>home_and_living</th>\n",
              "      <td>54600</td>\n",
              "    </tr>\n",
              "    <tr>\n",
              "      <th>craft_supplies_and_tools</th>\n",
              "      <td>33393</td>\n",
              "    </tr>\n",
              "    <tr>\n",
              "      <th>clothing</th>\n",
              "      <td>30143</td>\n",
              "    </tr>\n",
              "    <tr>\n",
              "      <th>toys_and_games</th>\n",
              "      <td>13835</td>\n",
              "    </tr>\n",
              "    <tr>\n",
              "      <th>accessories</th>\n",
              "      <td>12416</td>\n",
              "    </tr>\n",
              "    <tr>\n",
              "      <th>paper_and_party_supplies</th>\n",
              "      <td>12207</td>\n",
              "    </tr>\n",
              "    <tr>\n",
              "      <th>bath_and_beauty</th>\n",
              "      <td>11327</td>\n",
              "    </tr>\n",
              "    <tr>\n",
              "      <th>weddings</th>\n",
              "      <td>10143</td>\n",
              "    </tr>\n",
              "    <tr>\n",
              "      <th>shoes</th>\n",
              "      <td>8892</td>\n",
              "    </tr>\n",
              "    <tr>\n",
              "      <th>art_and_collectibles</th>\n",
              "      <td>8716</td>\n",
              "    </tr>\n",
              "    <tr>\n",
              "      <th>jewelry</th>\n",
              "      <td>7822</td>\n",
              "    </tr>\n",
              "    <tr>\n",
              "      <th>electronics_and_accessories</th>\n",
              "      <td>7474</td>\n",
              "    </tr>\n",
              "    <tr>\n",
              "      <th>bags_and_purses</th>\n",
              "      <td>6650</td>\n",
              "    </tr>\n",
              "    <tr>\n",
              "      <th>books_movies_and_music</th>\n",
              "      <td>6262</td>\n",
              "    </tr>\n",
              "    <tr>\n",
              "      <th>pet_supplies</th>\n",
              "      <td>5744</td>\n",
              "    </tr>\n",
              "  </tbody>\n",
              "</table>\n",
              "</div><br><label><b>dtype:</b> int64</label>"
            ]
          },
          "metadata": {},
          "execution_count": 35
        }
      ],
      "source": [
        "pd.value_counts(df_train['top_category_text'], sort=True, ascending=False)"
      ]
    },
    {
      "cell_type": "code",
      "execution_count": null,
      "id": "aa6961db",
      "metadata": {
        "id": "aa6961db",
        "outputId": "8649994f-3803-43dc-a330-4fb1b2cc2290",
        "colab": {
          "base_uri": "https://localhost:8080/",
          "height": 432
        }
      },
      "outputs": [
        {
          "output_type": "stream",
          "name": "stderr",
          "text": [
            "<ipython-input-36-f28fe1f4d405>:8: FutureWarning: pandas.value_counts is deprecated and will be removed in a future version. Use pd.Series(obj).value_counts() instead.\n",
            "  pd.value_counts(\n"
          ]
        },
        {
          "output_type": "display_data",
          "data": {
            "text/plain": [
              "<Figure size 1500x600 with 1 Axes>"
            ],
            "image/png": "[encoded data removed]"
          },
          "metadata": {}
        }
      ],
      "source": [
        "figsize = (15, 6)\n",
        "column = 'top_category_text'\n",
        "x_limit = 60000\n",
        "x_step = 10000\n",
        "color = 'darkcyan'\n",
        "\n",
        "figure, ax = plt.subplots(figsize=figsize)\n",
        "pd.value_counts(\n",
        "    df_train[column],\n",
        "    sort=True, ascending=False).plot.barh(color=color)\n",
        "plt.title(f\"Number of Products per Category\")\n",
        "xlabels = [f'{x // 1000:,}K' for x in range(0, x_limit, x_step)]\n",
        "plt.xticks(range(0, x_limit, x_step), xlabels)\n",
        "plt.xlabel('Number of products')\n",
        "plt.setp(ax.get_xticklabels()[0], visible=False)\n",
        "plt.show()"
      ]
    },
    {
      "cell_type": "code",
      "execution_count": null,
      "id": "bbf5026d",
      "metadata": {
        "id": "bbf5026d",
        "outputId": "3b196f93-1e33-4eb1-c3b1-f8fddbeec563",
        "colab": {
          "base_uri": "https://localhost:8080/",
          "height": 36
        }
      },
      "outputs": [
        {
          "output_type": "execute_result",
          "data": {
            "text/plain": [
              "'Number of bottom categories in train: 2,609'"
            ],
            "application/vnd.google.colaboratory.intrinsic+json": {
              "type": "string"
            }
          },
          "metadata": {},
          "execution_count": 37
        }
      ],
      "source": [
        "f\"Number of bottom categories in train: {len(df_train['bottom_category_text'].unique()):,}\""
      ]
    },
    {
      "cell_type": "markdown",
      "id": "0902ef9e",
      "metadata": {
        "id": "0902ef9e"
      },
      "source": [
        "### Test Dataset\n",
        "\n",
        "The test dataset will be used to predict using the model/s you have trained\n",
        "\n",
        "**Note** that categories and colors for the test data are hidden, you have to predict them!"
      ]
    },
    {
      "cell_type": "code",
      "execution_count": null,
      "id": "d1bf3eb7",
      "metadata": {
        "id": "d1bf3eb7"
      },
      "outputs": [],
      "source": [
        "df_test = read_data(\"test\", parquet_filenames_test)"
      ]
    },
    {
      "cell_type": "code",
      "execution_count": null,
      "id": "7f2a83db",
      "metadata": {
        "id": "7f2a83db",
        "outputId": "779e2e27-2965-477f-aa44-8c3cf318df64",
        "colab": {
          "base_uri": "https://localhost:8080/",
          "height": 36
        }
      },
      "outputs": [
        {
          "output_type": "execute_result",
          "data": {
            "text/plain": [
              "'Number of rows in test: 25,514'"
            ],
            "application/vnd.google.colaboratory.intrinsic+json": {
              "type": "string"
            }
          },
          "metadata": {},
          "execution_count": 39
        }
      ],
      "source": [
        "f'Number of rows in test: {len(df_test):,}'"
      ]
    },
    {
      "cell_type": "code",
      "execution_count": null,
      "id": "499136fb",
      "metadata": {
        "id": "499136fb",
        "outputId": "96515368-071f-4bbd-b922-4b05a7bf6dbc",
        "colab": {
          "base_uri": "https://localhost:8080/",
          "height": 36
        }
      },
      "outputs": [
        {
          "output_type": "execute_result",
          "data": {
            "text/plain": [
              "'Number of unique products in test: 25,514'"
            ],
            "application/vnd.google.colaboratory.intrinsic+json": {
              "type": "string"
            }
          },
          "metadata": {},
          "execution_count": 40
        }
      ],
      "source": [
        "f\"Number of unique products in test: {len(df_test['product_id'].unique()):,}\""
      ]
    },
    {
      "cell_type": "code",
      "execution_count": null,
      "id": "dcfa5a4b",
      "metadata": {
        "id": "dcfa5a4b",
        "outputId": "a1d0b03f-3995-48ae-8439-d87a83110962",
        "colab": {
          "base_uri": "https://localhost:8080/",
          "height": 36
        }
      },
      "outputs": [
        {
          "output_type": "execute_result",
          "data": {
            "text/plain": [
              "'Number of columns in test: 15'"
            ],
            "application/vnd.google.colaboratory.intrinsic+json": {
              "type": "string"
            }
          },
          "metadata": {},
          "execution_count": 41
        }
      ],
      "source": [
        "f\"Number of columns in test: {len(df_test.columns):,}\""
      ]
    },
    {
      "cell_type": "code",
      "execution_count": null,
      "id": "d6075cc6",
      "metadata": {
        "id": "d6075cc6",
        "outputId": "292337e6-a1d6-4675-b33b-5c5089d65e82",
        "colab": {
          "base_uri": "https://localhost:8080/"
        }
      },
      "outputs": [
        {
          "output_type": "execute_result",
          "data": {
            "text/plain": [
              "['product_id',\n",
              " 'title',\n",
              " 'description',\n",
              " 'tags',\n",
              " 'type',\n",
              " 'room',\n",
              " 'craft_type',\n",
              " 'recipient',\n",
              " 'material',\n",
              " 'occasion',\n",
              " 'holiday',\n",
              " 'art_subject',\n",
              " 'style',\n",
              " 'shape',\n",
              " 'pattern']"
            ]
          },
          "metadata": {},
          "execution_count": 42
        }
      ],
      "source": [
        "list(df_test.columns)"
      ]
    },
    {
      "cell_type": "code",
      "execution_count": null,
      "id": "18d44252",
      "metadata": {
        "id": "18d44252",
        "outputId": "b6ceb4d2-4192-458d-d13a-d1bbe96c6138",
        "colab": {
          "base_uri": "https://localhost:8080/",
          "height": 554
        }
      },
      "outputs": [
        {
          "output_type": "execute_result",
          "data": {
            "text/plain": [
              "product_id                                             661373440\n",
              "title          Classroom Valentine Favors, Valentine Pencils,...\n",
              "description    Valentine Favors, Robots of Love Vinyl Pencil ...\n",
              "tags           Valentines day favor,kindergarten treats,valen...\n",
              "type                                                    physical\n",
              "room                                                            \n",
              "craft_type                                          kids' crafts\n",
              "recipient                                                       \n",
              "material                                                        \n",
              "occasion                                                        \n",
              "holiday                                          valentine's day\n",
              "art_subject                                                     \n",
              "style                                                           \n",
              "shape                                                           \n",
              "pattern                                                         \n",
              "Name: 0, dtype: object"
            ],
            "text/html": [
              "<div>\n",
              "<style scoped>\n",
              "    .dataframe tbody tr th:only-of-type {\n",
              "        vertical-align: middle;\n",
              "    }\n",
              "\n",
              "    .dataframe tbody tr th {\n",
              "        vertical-align: top;\n",
              "    }\n",
              "\n",
              "    .dataframe thead th {\n",
              "        text-align: right;\n",
              "    }\n",
              "</style>\n",
              "<table border=\"1\" class=\"dataframe\">\n",
              "  <thead>\n",
              "    <tr style=\"text-align: right;\">\n",
              "      <th></th>\n",
              "      <th>0</th>\n",
              "    </tr>\n",
              "  </thead>\n",
              "  <tbody>\n",
              "    <tr>\n",
              "      <th>product_id</th>\n",
              "      <td>661373440</td>\n",
              "    </tr>\n",
              "    <tr>\n",
              "      <th>title</th>\n",
              "      <td>Classroom Valentine Favors, Valentine Pencils,...</td>\n",
              "    </tr>\n",
              "    <tr>\n",
              "      <th>description</th>\n",
              "      <td>Valentine Favors, Robots of Love Vinyl Pencil ...</td>\n",
              "    </tr>\n",
              "    <tr>\n",
              "      <th>tags</th>\n",
              "      <td>Valentines day favor,kindergarten treats,valen...</td>\n",
              "    </tr>\n",
              "    <tr>\n",
              "      <th>type</th>\n",
              "      <td>physical</td>\n",
              "    </tr>\n",
              "    <tr>\n",
              "      <th>room</th>\n",
              "      <td></td>\n",
              "    </tr>\n",
              "    <tr>\n",
              "      <th>craft_type</th>\n",
              "      <td>kids' crafts</td>\n",
              "    </tr>\n",
              "    <tr>\n",
              "      <th>recipient</th>\n",
              "      <td></td>\n",
              "    </tr>\n",
              "    <tr>\n",
              "      <th>material</th>\n",
              "      <td></td>\n",
              "    </tr>\n",
              "    <tr>\n",
              "      <th>occasion</th>\n",
              "      <td></td>\n",
              "    </tr>\n",
              "    <tr>\n",
              "      <th>holiday</th>\n",
              "      <td>valentine's day</td>\n",
              "    </tr>\n",
              "    <tr>\n",
              "      <th>art_subject</th>\n",
              "      <td></td>\n",
              "    </tr>\n",
              "    <tr>\n",
              "      <th>style</th>\n",
              "      <td></td>\n",
              "    </tr>\n",
              "    <tr>\n",
              "      <th>shape</th>\n",
              "      <td></td>\n",
              "    </tr>\n",
              "    <tr>\n",
              "      <th>pattern</th>\n",
              "      <td></td>\n",
              "    </tr>\n",
              "  </tbody>\n",
              "</table>\n",
              "</div><br><label><b>dtype:</b> object</label>"
            ]
          },
          "metadata": {},
          "execution_count": 43
        }
      ],
      "source": [
        "df_test.iloc[0]"
      ]
    },
    {
      "cell_type": "markdown",
      "id": "b7a5336d",
      "metadata": {
        "id": "b7a5336d"
      },
      "source": [
        "## Model Training\n",
        "\n",
        "Let's first split the data to be able to evaluate our model against a validation dataset. This validation set can also be used to fine tune your model before making the predictions on the hidden test set."
      ]
    },
    {
      "cell_type": "code",
      "execution_count": null,
      "id": "f0c1a684",
      "metadata": {
        "id": "f0c1a684"
      },
      "outputs": [],
      "source": [
        "from sklearn.model_selection import train_test_split\n",
        "\n",
        "df_training, df_validation = train_test_split(\n",
        "    df_train,\n",
        "    test_size=0.1,\n",
        "    stratify=df_train['bottom_category_text'],\n",
        "    random_state=42)"
      ]
    },
    {
      "cell_type": "code",
      "execution_count": null,
      "id": "5a8aedd5",
      "metadata": {
        "id": "5a8aedd5",
        "outputId": "096b2052-9c7b-4cbb-ca81-ead17186d3ca",
        "colab": {
          "base_uri": "https://localhost:8080/",
          "height": 36
        }
      },
      "outputs": [
        {
          "output_type": "execute_result",
          "data": {
            "text/plain": [
              "'Number of products for training: 206,661'"
            ],
            "application/vnd.google.colaboratory.intrinsic+json": {
              "type": "string"
            }
          },
          "metadata": {},
          "execution_count": 45
        }
      ],
      "source": [
        "f\"Number of products for training: {len(df_training):,}\""
      ]
    },
    {
      "cell_type": "code",
      "execution_count": null,
      "id": "fcd7b7ca",
      "metadata": {
        "id": "fcd7b7ca",
        "outputId": "09030728-a2f6-4ed6-a977-ebf8272fdf6b",
        "colab": {
          "base_uri": "https://localhost:8080/",
          "height": 36
        }
      },
      "outputs": [
        {
          "output_type": "execute_result",
          "data": {
            "text/plain": [
              "'Number of products for validation: 22,963'"
            ],
            "application/vnd.google.colaboratory.intrinsic+json": {
              "type": "string"
            }
          },
          "metadata": {},
          "execution_count": 46
        }
      ],
      "source": [
        "f\"Number of products for validation: {len(df_validation):,}\""
      ]
    },
    {
      "cell_type": "code",
      "execution_count": null,
      "id": "bd371ead",
      "metadata": {
        "id": "bd371ead",
        "outputId": "61305ea6-672c-46e8-8b68-223ed2d42af0",
        "colab": {
          "base_uri": "https://localhost:8080/",
          "height": 490
        }
      },
      "outputs": [
        {
          "output_type": "execute_result",
          "data": {
            "text/plain": [
              "bottom_category_text\n",
              "art_and_collectibles.drawing_and_illustration.architectural_drawings                88\n",
              "accessories.scarves_and_wraps.scarves                                               88\n",
              "craft_supplies_and_tools.closures_and_fasteners.buttons                             88\n",
              "toys_and_games.sports_and_outdoor_games.martial_arts_and_boxing.boxing_gloves       88\n",
              "home_and_living.kitchen_and_dining.dining_and_serving.cake_stands                   88\n",
              "                                                                                    ..\n",
              "weddings.clothing.jumpsuits_and_rompers                                             40\n",
              "home_and_living.furniture.entryway_furniture.standing_coat_racks                    40\n",
              "home_and_living.lighting.light_accessories                                          39\n",
              "clothing.womens_clothing.pajamas_and_robes.sleep_masks_and_blindfolds.blindfolds    38\n",
              "craft_supplies_and_tools.doll_and_model_supplies.noise_makers                       38\n",
              "Name: count, Length: 2609, dtype: int64"
            ],
            "text/html": [
              "<div>\n",
              "<style scoped>\n",
              "    .dataframe tbody tr th:only-of-type {\n",
              "        vertical-align: middle;\n",
              "    }\n",
              "\n",
              "    .dataframe tbody tr th {\n",
              "        vertical-align: top;\n",
              "    }\n",
              "\n",
              "    .dataframe thead th {\n",
              "        text-align: right;\n",
              "    }\n",
              "</style>\n",
              "<table border=\"1\" class=\"dataframe\">\n",
              "  <thead>\n",
              "    <tr style=\"text-align: right;\">\n",
              "      <th></th>\n",
              "      <th>count</th>\n",
              "    </tr>\n",
              "    <tr>\n",
              "      <th>bottom_category_text</th>\n",
              "      <th></th>\n",
              "    </tr>\n",
              "  </thead>\n",
              "  <tbody>\n",
              "    <tr>\n",
              "      <th>art_and_collectibles.drawing_and_illustration.architectural_drawings</th>\n",
              "      <td>88</td>\n",
              "    </tr>\n",
              "    <tr>\n",
              "      <th>accessories.scarves_and_wraps.scarves</th>\n",
              "      <td>88</td>\n",
              "    </tr>\n",
              "    <tr>\n",
              "      <th>craft_supplies_and_tools.closures_and_fasteners.buttons</th>\n",
              "      <td>88</td>\n",
              "    </tr>\n",
              "    <tr>\n",
              "      <th>toys_and_games.sports_and_outdoor_games.martial_arts_and_boxing.boxing_gloves</th>\n",
              "      <td>88</td>\n",
              "    </tr>\n",
              "    <tr>\n",
              "      <th>home_and_living.kitchen_and_dining.dining_and_serving.cake_stands</th>\n",
              "      <td>88</td>\n",
              "    </tr>\n",
              "    <tr>\n",
              "      <th>...</th>\n",
              "      <td>...</td>\n",
              "    </tr>\n",
              "    <tr>\n",
              "      <th>weddings.clothing.jumpsuits_and_rompers</th>\n",
              "      <td>40</td>\n",
              "    </tr>\n",
              "    <tr>\n",
              "      <th>home_and_living.furniture.entryway_furniture.standing_coat_racks</th>\n",
              "      <td>40</td>\n",
              "    </tr>\n",
              "    <tr>\n",
              "      <th>home_and_living.lighting.light_accessories</th>\n",
              "      <td>39</td>\n",
              "    </tr>\n",
              "    <tr>\n",
              "      <th>clothing.womens_clothing.pajamas_and_robes.sleep_masks_and_blindfolds.blindfolds</th>\n",
              "      <td>38</td>\n",
              "    </tr>\n",
              "    <tr>\n",
              "      <th>craft_supplies_and_tools.doll_and_model_supplies.noise_makers</th>\n",
              "      <td>38</td>\n",
              "    </tr>\n",
              "  </tbody>\n",
              "</table>\n",
              "<p>2609 rows × 1 columns</p>\n",
              "</div><br><label><b>dtype:</b> int64</label>"
            ]
          },
          "metadata": {},
          "execution_count": 47
        }
      ],
      "source": [
        "df_training['bottom_category_text'].value_counts()"
      ]
    },
    {
      "cell_type": "code",
      "execution_count": null,
      "id": "ce56c304",
      "metadata": {
        "id": "ce56c304"
      },
      "outputs": [],
      "source": [
        "df_validation['bottom_category_text'].value_counts()"
      ]
    },
    {
      "cell_type": "code",
      "execution_count": null,
      "id": "ef90659e",
      "metadata": {
        "id": "ef90659e",
        "outputId": "cc557687-500c-4cde-ecd4-ce2ea94331dd",
        "colab": {
          "base_uri": "https://localhost:8080/",
          "height": 586
        }
      },
      "outputs": [
        {
          "output_type": "execute_result",
          "data": {
            "text/plain": [
              "top_category_text\n",
              "home_and_living                49140\n",
              "craft_supplies_and_tools       30056\n",
              "clothing                       27139\n",
              "toys_and_games                 12448\n",
              "accessories                    11173\n",
              "paper_and_party_supplies       10984\n",
              "bath_and_beauty                10187\n",
              "weddings                        9128\n",
              "shoes                           8001\n",
              "art_and_collectibles            7846\n",
              "jewelry                         7040\n",
              "electronics_and_accessories     6727\n",
              "bags_and_purses                 5986\n",
              "books_movies_and_music          5636\n",
              "pet_supplies                    5170\n",
              "Name: count, dtype: int64"
            ],
            "text/html": [
              "<div>\n",
              "<style scoped>\n",
              "    .dataframe tbody tr th:only-of-type {\n",
              "        vertical-align: middle;\n",
              "    }\n",
              "\n",
              "    .dataframe tbody tr th {\n",
              "        vertical-align: top;\n",
              "    }\n",
              "\n",
              "    .dataframe thead th {\n",
              "        text-align: right;\n",
              "    }\n",
              "</style>\n",
              "<table border=\"1\" class=\"dataframe\">\n",
              "  <thead>\n",
              "    <tr style=\"text-align: right;\">\n",
              "      <th></th>\n",
              "      <th>count</th>\n",
              "    </tr>\n",
              "    <tr>\n",
              "      <th>top_category_text</th>\n",
              "      <th></th>\n",
              "    </tr>\n",
              "  </thead>\n",
              "  <tbody>\n",
              "    <tr>\n",
              "      <th>home_and_living</th>\n",
              "      <td>49140</td>\n",
              "    </tr>\n",
              "    <tr>\n",
              "      <th>craft_supplies_and_tools</th>\n",
              "      <td>30056</td>\n",
              "    </tr>\n",
              "    <tr>\n",
              "      <th>clothing</th>\n",
              "      <td>27139</td>\n",
              "    </tr>\n",
              "    <tr>\n",
              "      <th>toys_and_games</th>\n",
              "      <td>12448</td>\n",
              "    </tr>\n",
              "    <tr>\n",
              "      <th>accessories</th>\n",
              "      <td>11173</td>\n",
              "    </tr>\n",
              "    <tr>\n",
              "      <th>paper_and_party_supplies</th>\n",
              "      <td>10984</td>\n",
              "    </tr>\n",
              "    <tr>\n",
              "      <th>bath_and_beauty</th>\n",
              "      <td>10187</td>\n",
              "    </tr>\n",
              "    <tr>\n",
              "      <th>weddings</th>\n",
              "      <td>9128</td>\n",
              "    </tr>\n",
              "    <tr>\n",
              "      <th>shoes</th>\n",
              "      <td>8001</td>\n",
              "    </tr>\n",
              "    <tr>\n",
              "      <th>art_and_collectibles</th>\n",
              "      <td>7846</td>\n",
              "    </tr>\n",
              "    <tr>\n",
              "      <th>jewelry</th>\n",
              "      <td>7040</td>\n",
              "    </tr>\n",
              "    <tr>\n",
              "      <th>electronics_and_accessories</th>\n",
              "      <td>6727</td>\n",
              "    </tr>\n",
              "    <tr>\n",
              "      <th>bags_and_purses</th>\n",
              "      <td>5986</td>\n",
              "    </tr>\n",
              "    <tr>\n",
              "      <th>books_movies_and_music</th>\n",
              "      <td>5636</td>\n",
              "    </tr>\n",
              "    <tr>\n",
              "      <th>pet_supplies</th>\n",
              "      <td>5170</td>\n",
              "    </tr>\n",
              "  </tbody>\n",
              "</table>\n",
              "</div><br><label><b>dtype:</b> int64</label>"
            ]
          },
          "metadata": {},
          "execution_count": 49
        }
      ],
      "source": [
        "df_training['top_category_text'].value_counts()"
      ]
    },
    {
      "cell_type": "code",
      "execution_count": null,
      "id": "538e13e5",
      "metadata": {
        "id": "538e13e5",
        "outputId": "4d0b4445-5acb-420d-8179-ac344b0bb9ce",
        "colab": {
          "base_uri": "https://localhost:8080/",
          "height": 586
        }
      },
      "outputs": [
        {
          "output_type": "execute_result",
          "data": {
            "text/plain": [
              "top_category_text\n",
              "home_and_living                5460\n",
              "craft_supplies_and_tools       3337\n",
              "clothing                       3004\n",
              "toys_and_games                 1387\n",
              "accessories                    1243\n",
              "paper_and_party_supplies       1223\n",
              "bath_and_beauty                1140\n",
              "weddings                       1015\n",
              "shoes                           891\n",
              "art_and_collectibles            870\n",
              "jewelry                         782\n",
              "electronics_and_accessories     747\n",
              "bags_and_purses                 664\n",
              "books_movies_and_music          626\n",
              "pet_supplies                    574\n",
              "Name: count, dtype: int64"
            ],
            "text/html": [
              "<div>\n",
              "<style scoped>\n",
              "    .dataframe tbody tr th:only-of-type {\n",
              "        vertical-align: middle;\n",
              "    }\n",
              "\n",
              "    .dataframe tbody tr th {\n",
              "        vertical-align: top;\n",
              "    }\n",
              "\n",
              "    .dataframe thead th {\n",
              "        text-align: right;\n",
              "    }\n",
              "</style>\n",
              "<table border=\"1\" class=\"dataframe\">\n",
              "  <thead>\n",
              "    <tr style=\"text-align: right;\">\n",
              "      <th></th>\n",
              "      <th>count</th>\n",
              "    </tr>\n",
              "    <tr>\n",
              "      <th>top_category_text</th>\n",
              "      <th></th>\n",
              "    </tr>\n",
              "  </thead>\n",
              "  <tbody>\n",
              "    <tr>\n",
              "      <th>home_and_living</th>\n",
              "      <td>5460</td>\n",
              "    </tr>\n",
              "    <tr>\n",
              "      <th>craft_supplies_and_tools</th>\n",
              "      <td>3337</td>\n",
              "    </tr>\n",
              "    <tr>\n",
              "      <th>clothing</th>\n",
              "      <td>3004</td>\n",
              "    </tr>\n",
              "    <tr>\n",
              "      <th>toys_and_games</th>\n",
              "      <td>1387</td>\n",
              "    </tr>\n",
              "    <tr>\n",
              "      <th>accessories</th>\n",
              "      <td>1243</td>\n",
              "    </tr>\n",
              "    <tr>\n",
              "      <th>paper_and_party_supplies</th>\n",
              "      <td>1223</td>\n",
              "    </tr>\n",
              "    <tr>\n",
              "      <th>bath_and_beauty</th>\n",
              "      <td>1140</td>\n",
              "    </tr>\n",
              "    <tr>\n",
              "      <th>weddings</th>\n",
              "      <td>1015</td>\n",
              "    </tr>\n",
              "    <tr>\n",
              "      <th>shoes</th>\n",
              "      <td>891</td>\n",
              "    </tr>\n",
              "    <tr>\n",
              "      <th>art_and_collectibles</th>\n",
              "      <td>870</td>\n",
              "    </tr>\n",
              "    <tr>\n",
              "      <th>jewelry</th>\n",
              "      <td>782</td>\n",
              "    </tr>\n",
              "    <tr>\n",
              "      <th>electronics_and_accessories</th>\n",
              "      <td>747</td>\n",
              "    </tr>\n",
              "    <tr>\n",
              "      <th>bags_and_purses</th>\n",
              "      <td>664</td>\n",
              "    </tr>\n",
              "    <tr>\n",
              "      <th>books_movies_and_music</th>\n",
              "      <td>626</td>\n",
              "    </tr>\n",
              "    <tr>\n",
              "      <th>pet_supplies</th>\n",
              "      <td>574</td>\n",
              "    </tr>\n",
              "  </tbody>\n",
              "</table>\n",
              "</div><br><label><b>dtype:</b> int64</label>"
            ]
          },
          "metadata": {},
          "execution_count": 48
        }
      ],
      "source": [
        "df_validation['top_category_text'].value_counts()"
      ]
    },
    {
      "cell_type": "markdown",
      "id": "d07114d1",
      "metadata": {
        "id": "d07114d1"
      },
      "source": [
        "### Training\n",
        "\n",
        "As a simple example, let's follow the [Working With Text Data](https://scikit-learn.org/stable/tutorial/text_analytics/working_with_text_data.html) tutorial from scikit-learn that:\n",
        "\n",
        "- processes the text using `CountVectorizer`, that builds a dictionary of features and transforms documents to feature vectors\n",
        "- extracts term frequencies and inverse document frequencies using `TfidfTransformer`, (see [TF-IDF](https://en.wikipedia.org/wiki/Tf%E2%80%93idf))\n",
        "- trains a naïve Bayes classifier, which gives us a nice baseline"
      ]
    },
    {
      "cell_type": "code",
      "execution_count": null,
      "id": "a03f88ad",
      "metadata": {
        "id": "a03f88ad"
      },
      "outputs": [],
      "source": [
        "from sklearn.feature_extraction.text import CountVectorizer\n",
        "from sklearn.feature_extraction.text import TfidfTransformer\n",
        "from sklearn.naive_bayes import MultinomialNB\n",
        "from sklearn.pipeline import Pipeline\n",
        "\n",
        "text_clf = Pipeline([\n",
        "    ('vect', CountVectorizer()),\n",
        "    ('tfidf', TfidfTransformer()),\n",
        "    ('clf', MultinomialNB()),\n",
        "])"
      ]
    },
    {
      "cell_type": "code",
      "execution_count": null,
      "id": "554f19ce",
      "metadata": {
        "id": "554f19ce"
      },
      "outputs": [],
      "source": [
        "train_text = df_training['title'].fillna('').values"
      ]
    },
    {
      "cell_type": "code",
      "execution_count": null,
      "id": "54501582",
      "metadata": {
        "id": "54501582"
      },
      "outputs": [],
      "source": [
        "train_labels = df_training['top_category_text'].values"
      ]
    },
    {
      "cell_type": "code",
      "execution_count": null,
      "id": "4bf4d653",
      "metadata": {
        "id": "4bf4d653",
        "outputId": "46de8d5f-c55a-4368-c1b8-e35d915fbace",
        "colab": {
          "base_uri": "https://localhost:8080/",
          "height": 198
        }
      },
      "outputs": [
        {
          "output_type": "execute_result",
          "data": {
            "text/plain": [
              "Pipeline(steps=[('vect', CountVectorizer()), ('tfidf', TfidfTransformer()),\n",
              "                ('clf', MultinomialNB())])"
            ],
            "text/html": [
              "<style>#sk-container-id-1 {\n",
              "  /* Definition of color scheme common for light and dark mode */\n",
              "  --sklearn-color-text: #000;\n",
              "  --sklearn-color-text-muted: #666;\n",
              "  --sklearn-color-line: gray;\n",
              "  /* Definition of color scheme for unfitted estimators */\n",
              "  --sklearn-color-unfitted-level-0: #fff5e6;\n",
              "  --sklearn-color-unfitted-level-1: #f6e4d2;\n",
              "  --sklearn-color-unfitted-level-2: #ffe0b3;\n",
              "  --sklearn-color-unfitted-level-3: chocolate;\n",
              "  /* Definition of color scheme for fitted estimators */\n",
              "  --sklearn-color-fitted-level-0: #f0f8ff;\n",
              "  --sklearn-color-fitted-level-1: #d4ebff;\n",
              "  --sklearn-color-fitted-level-2: #b3dbfd;\n",
              "  --sklearn-color-fitted-level-3: cornflowerblue;\n",
              "\n",
              "  /* Specific color for light theme */\n",
              "  --sklearn-color-text-on-default-background: var(--sg-text-color, var(--theme-code-foreground, var(--jp-content-font-color1, black)));\n",
              "  --sklearn-color-background: var(--sg-background-color, var(--theme-background, var(--jp-layout-color0, white)));\n",
              "  --sklearn-color-border-box: var(--sg-text-color, var(--theme-code-foreground, var(--jp-content-font-color1, black)));\n",
              "  --sklearn-color-icon: #696969;\n",
              "\n",
              "  @media (prefers-color-scheme: dark) {\n",
              "    /* Redefinition of color scheme for dark theme */\n",
              "    --sklearn-color-text-on-default-background: var(--sg-text-color, var(--theme-code-foreground, var(--jp-content-font-color1, white)));\n",
              "    --sklearn-color-background: var(--sg-background-color, var(--theme-background, var(--jp-layout-color0, #111)));\n",
              "    --sklearn-color-border-box: var(--sg-text-color, var(--theme-code-foreground, var(--jp-content-font-color1, white)));\n",
              "    --sklearn-color-icon: #878787;\n",
              "  }\n",
              "}\n",
              "\n",
              "#sk-container-id-1 {\n",
              "  color: var(--sklearn-color-text);\n",
              "}\n",
              "\n",
              "#sk-container-id-1 pre {\n",
              "  padding: 0;\n",
              "}\n",
              "\n",
              "#sk-container-id-1 input.sk-hidden--visually {\n",
              "  border: 0;\n",
              "  clip: rect(1px 1px 1px 1px);\n",
              "  clip: rect(1px, 1px, 1px, 1px);\n",
              "  height: 1px;\n",
              "  margin: -1px;\n",
              "  overflow: hidden;\n",
              "  padding: 0;\n",
              "  position: absolute;\n",
              "  width: 1px;\n",
              "}\n",
              "\n",
              "#sk-container-id-1 div.sk-dashed-wrapped {\n",
              "  border: 1px dashed var(--sklearn-color-line);\n",
              "  margin: 0 0.4em 0.5em 0.4em;\n",
              "  box-sizing: border-box;\n",
              "  padding-bottom: 0.4em;\n",
              "  background-color: var(--sklearn-color-background);\n",
              "}\n",
              "\n",
              "#sk-container-id-1 div.sk-container {\n",
              "  /* jupyter's `normalize.less` sets `[hidden] { display: none; }`\n",
              "     but bootstrap.min.css set `[hidden] { display: none !important; }`\n",
              "     so we also need the `!important` here to be able to override the\n",
              "     default hidden behavior on the sphinx rendered scikit-learn.org.\n",
              "     See: https://github.com/scikit-learn/scikit-learn/issues/21755 */\n",
              "  display: inline-block !important;\n",
              "  position: relative;\n",
              "}\n",
              "\n",
              "#sk-container-id-1 div.sk-text-repr-fallback {\n",
              "  display: none;\n",
              "}\n",
              "\n",
              "div.sk-parallel-item,\n",
              "div.sk-serial,\n",
              "div.sk-item {\n",
              "  /* draw centered vertical line to link estimators */\n",
              "  background-image: linear-gradient(var(--sklearn-color-text-on-default-background), var(--sklearn-color-text-on-default-background));\n",
              "  background-size: 2px 100%;\n",
              "  background-repeat: no-repeat;\n",
              "  background-position: center center;\n",
              "}\n",
              "\n",
              "/* Parallel-specific style estimator block */\n",
              "\n",
              "#sk-container-id-1 div.sk-parallel-item::after {\n",
              "  content: \"\";\n",
              "  width: 100%;\n",
              "  border-bottom: 2px solid var(--sklearn-color-text-on-default-background);\n",
              "  flex-grow: 1;\n",
              "}\n",
              "\n",
              "#sk-container-id-1 div.sk-parallel {\n",
              "  display: flex;\n",
              "  align-items: stretch;\n",
              "  justify-content: center;\n",
              "  background-color: var(--sklearn-color-background);\n",
              "  position: relative;\n",
              "}\n",
              "\n",
              "#sk-container-id-1 div.sk-parallel-item {\n",
              "  display: flex;\n",
              "  flex-direction: column;\n",
              "}\n",
              "\n",
              "#sk-container-id-1 div.sk-parallel-item:first-child::after {\n",
              "  align-self: flex-end;\n",
              "  width: 50%;\n",
              "}\n",
              "\n",
              "#sk-container-id-1 div.sk-parallel-item:last-child::after {\n",
              "  align-self: flex-start;\n",
              "  width: 50%;\n",
              "}\n",
              "\n",
              "#sk-container-id-1 div.sk-parallel-item:only-child::after {\n",
              "  width: 0;\n",
              "}\n",
              "\n",
              "/* Serial-specific style estimator block */\n",
              "\n",
              "#sk-container-id-1 div.sk-serial {\n",
              "  display: flex;\n",
              "  flex-direction: column;\n",
              "  align-items: center;\n",
              "  background-color: var(--sklearn-color-background);\n",
              "  padding-right: 1em;\n",
              "  padding-left: 1em;\n",
              "}\n",
              "\n",
              "\n",
              "/* Toggleable style: style used for estimator/Pipeline/ColumnTransformer box that is\n",
              "clickable and can be expanded/collapsed.\n",
              "- Pipeline and ColumnTransformer use this feature and define the default style\n",
              "- Estimators will overwrite some part of the style using the `sk-estimator` class\n",
              "*/\n",
              "\n",
              "/* Pipeline and ColumnTransformer style (default) */\n",
              "\n",
              "#sk-container-id-1 div.sk-toggleable {\n",
              "  /* Default theme specific background. It is overwritten whether we have a\n",
              "  specific estimator or a Pipeline/ColumnTransformer */\n",
              "  background-color: var(--sklearn-color-background);\n",
              "}\n",
              "\n",
              "/* Toggleable label */\n",
              "#sk-container-id-1 label.sk-toggleable__label {\n",
              "  cursor: pointer;\n",
              "  display: flex;\n",
              "  width: 100%;\n",
              "  margin-bottom: 0;\n",
              "  padding: 0.5em;\n",
              "  box-sizing: border-box;\n",
              "  text-align: center;\n",
              "  align-items: start;\n",
              "  justify-content: space-between;\n",
              "  gap: 0.5em;\n",
              "}\n",
              "\n",
              "#sk-container-id-1 label.sk-toggleable__label .caption {\n",
              "  font-size: 0.6rem;\n",
              "  font-weight: lighter;\n",
              "  color: var(--sklearn-color-text-muted);\n",
              "}\n",
              "\n",
              "#sk-container-id-1 label.sk-toggleable__label-arrow:before {\n",
              "  /* Arrow on the left of the label */\n",
              "  content: \"▸\";\n",
              "  float: left;\n",
              "  margin-right: 0.25em;\n",
              "  color: var(--sklearn-color-icon);\n",
              "}\n",
              "\n",
              "#sk-container-id-1 label.sk-toggleable__label-arrow:hover:before {\n",
              "  color: var(--sklearn-color-text);\n",
              "}\n",
              "\n",
              "/* Toggleable content - dropdown */\n",
              "\n",
              "#sk-container-id-1 div.sk-toggleable__content {\n",
              "  max-height: 0;\n",
              "  max-width: 0;\n",
              "  overflow: hidden;\n",
              "  text-align: left;\n",
              "  /* unfitted */\n",
              "  background-color: var(--sklearn-color-unfitted-level-0);\n",
              "}\n",
              "\n",
              "#sk-container-id-1 div.sk-toggleable__content.fitted {\n",
              "  /* fitted */\n",
              "  background-color: var(--sklearn-color-fitted-level-0);\n",
              "}\n",
              "\n",
              "#sk-container-id-1 div.sk-toggleable__content pre {\n",
              "  margin: 0.2em;\n",
              "  border-radius: 0.25em;\n",
              "  color: var(--sklearn-color-text);\n",
              "  /* unfitted */\n",
              "  background-color: var(--sklearn-color-unfitted-level-0);\n",
              "}\n",
              "\n",
              "#sk-container-id-1 div.sk-toggleable__content.fitted pre {\n",
              "  /* unfitted */\n",
              "  background-color: var(--sklearn-color-fitted-level-0);\n",
              "}\n",
              "\n",
              "#sk-container-id-1 input.sk-toggleable__control:checked~div.sk-toggleable__content {\n",
              "  /* Expand drop-down */\n",
              "  max-height: 200px;\n",
              "  max-width: 100%;\n",
              "  overflow: auto;\n",
              "}\n",
              "\n",
              "#sk-container-id-1 input.sk-toggleable__control:checked~label.sk-toggleable__label-arrow:before {\n",
              "  content: \"▾\";\n",
              "}\n",
              "\n",
              "/* Pipeline/ColumnTransformer-specific style */\n",
              "\n",
              "#sk-container-id-1 div.sk-label input.sk-toggleable__control:checked~label.sk-toggleable__label {\n",
              "  color: var(--sklearn-color-text);\n",
              "  background-color: var(--sklearn-color-unfitted-level-2);\n",
              "}\n",
              "\n",
              "#sk-container-id-1 div.sk-label.fitted input.sk-toggleable__control:checked~label.sk-toggleable__label {\n",
              "  background-color: var(--sklearn-color-fitted-level-2);\n",
              "}\n",
              "\n",
              "/* Estimator-specific style */\n",
              "\n",
              "/* Colorize estimator box */\n",
              "#sk-container-id-1 div.sk-estimator input.sk-toggleable__control:checked~label.sk-toggleable__label {\n",
              "  /* unfitted */\n",
              "  background-color: var(--sklearn-color-unfitted-level-2);\n",
              "}\n",
              "\n",
              "#sk-container-id-1 div.sk-estimator.fitted input.sk-toggleable__control:checked~label.sk-toggleable__label {\n",
              "  /* fitted */\n",
              "  background-color: var(--sklearn-color-fitted-level-2);\n",
              "}\n",
              "\n",
              "#sk-container-id-1 div.sk-label label.sk-toggleable__label,\n",
              "#sk-container-id-1 div.sk-label label {\n",
              "  /* The background is the default theme color */\n",
              "  color: var(--sklearn-color-text-on-default-background);\n",
              "}\n",
              "\n",
              "/* On hover, darken the color of the background */\n",
              "#sk-container-id-1 div.sk-label:hover label.sk-toggleable__label {\n",
              "  color: var(--sklearn-color-text);\n",
              "  background-color: var(--sklearn-color-unfitted-level-2);\n",
              "}\n",
              "\n",
              "/* Label box, darken color on hover, fitted */\n",
              "#sk-container-id-1 div.sk-label.fitted:hover label.sk-toggleable__label.fitted {\n",
              "  color: var(--sklearn-color-text);\n",
              "  background-color: var(--sklearn-color-fitted-level-2);\n",
              "}\n",
              "\n",
              "/* Estimator label */\n",
              "\n",
              "#sk-container-id-1 div.sk-label label {\n",
              "  font-family: monospace;\n",
              "  font-weight: bold;\n",
              "  display: inline-block;\n",
              "  line-height: 1.2em;\n",
              "}\n",
              "\n",
              "#sk-container-id-1 div.sk-label-container {\n",
              "  text-align: center;\n",
              "}\n",
              "\n",
              "/* Estimator-specific */\n",
              "#sk-container-id-1 div.sk-estimator {\n",
              "  font-family: monospace;\n",
              "  border: 1px dotted var(--sklearn-color-border-box);\n",
              "  border-radius: 0.25em;\n",
              "  box-sizing: border-box;\n",
              "  margin-bottom: 0.5em;\n",
              "  /* unfitted */\n",
              "  background-color: var(--sklearn-color-unfitted-level-0);\n",
              "}\n",
              "\n",
              "#sk-container-id-1 div.sk-estimator.fitted {\n",
              "  /* fitted */\n",
              "  background-color: var(--sklearn-color-fitted-level-0);\n",
              "}\n",
              "\n",
              "/* on hover */\n",
              "#sk-container-id-1 div.sk-estimator:hover {\n",
              "  /* unfitted */\n",
              "  background-color: var(--sklearn-color-unfitted-level-2);\n",
              "}\n",
              "\n",
              "#sk-container-id-1 div.sk-estimator.fitted:hover {\n",
              "  /* fitted */\n",
              "  background-color: var(--sklearn-color-fitted-level-2);\n",
              "}\n",
              "\n",
              "/* Specification for estimator info (e.g. \"i\" and \"?\") */\n",
              "\n",
              "/* Common style for \"i\" and \"?\" */\n",
              "\n",
              ".sk-estimator-doc-link,\n",
              "a:link.sk-estimator-doc-link,\n",
              "a:visited.sk-estimator-doc-link {\n",
              "  float: right;\n",
              "  font-size: smaller;\n",
              "  line-height: 1em;\n",
              "  font-family: monospace;\n",
              "  background-color: var(--sklearn-color-background);\n",
              "  border-radius: 1em;\n",
              "  height: 1em;\n",
              "  width: 1em;\n",
              "  text-decoration: none !important;\n",
              "  margin-left: 0.5em;\n",
              "  text-align: center;\n",
              "  /* unfitted */\n",
              "  border: var(--sklearn-color-unfitted-level-1) 1pt solid;\n",
              "  color: var(--sklearn-color-unfitted-level-1);\n",
              "}\n",
              "\n",
              ".sk-estimator-doc-link.fitted,\n",
              "a:link.sk-estimator-doc-link.fitted,\n",
              "a:visited.sk-estimator-doc-link.fitted {\n",
              "  /* fitted */\n",
              "  border: var(--sklearn-color-fitted-level-1) 1pt solid;\n",
              "  color: var(--sklearn-color-fitted-level-1);\n",
              "}\n",
              "\n",
              "/* On hover */\n",
              "div.sk-estimator:hover .sk-estimator-doc-link:hover,\n",
              ".sk-estimator-doc-link:hover,\n",
              "div.sk-label-container:hover .sk-estimator-doc-link:hover,\n",
              ".sk-estimator-doc-link:hover {\n",
              "  /* unfitted */\n",
              "  background-color: var(--sklearn-color-unfitted-level-3);\n",
              "  color: var(--sklearn-color-background);\n",
              "  text-decoration: none;\n",
              "}\n",
              "\n",
              "div.sk-estimator.fitted:hover .sk-estimator-doc-link.fitted:hover,\n",
              ".sk-estimator-doc-link.fitted:hover,\n",
              "div.sk-label-container:hover .sk-estimator-doc-link.fitted:hover,\n",
              ".sk-estimator-doc-link.fitted:hover {\n",
              "  /* fitted */\n",
              "  background-color: var(--sklearn-color-fitted-level-3);\n",
              "  color: var(--sklearn-color-background);\n",
              "  text-decoration: none;\n",
              "}\n",
              "\n",
              "/* Span, style for the box shown on hovering the info icon */\n",
              ".sk-estimator-doc-link span {\n",
              "  display: none;\n",
              "  z-index: 9999;\n",
              "  position: relative;\n",
              "  font-weight: normal;\n",
              "  right: .2ex;\n",
              "  padding: .5ex;\n",
              "  margin: .5ex;\n",
              "  width: min-content;\n",
              "  min-width: 20ex;\n",
              "  max-width: 50ex;\n",
              "  color: var(--sklearn-color-text);\n",
              "  box-shadow: 2pt 2pt 4pt #999;\n",
              "  /* unfitted */\n",
              "  background: var(--sklearn-color-unfitted-level-0);\n",
              "  border: .5pt solid var(--sklearn-color-unfitted-level-3);\n",
              "}\n",
              "\n",
              ".sk-estimator-doc-link.fitted span {\n",
              "  /* fitted */\n",
              "  background: var(--sklearn-color-fitted-level-0);\n",
              "  border: var(--sklearn-color-fitted-level-3);\n",
              "}\n",
              "\n",
              ".sk-estimator-doc-link:hover span {\n",
              "  display: block;\n",
              "}\n",
              "\n",
              "/* \"?\"-specific style due to the `<a>` HTML tag */\n",
              "\n",
              "#sk-container-id-1 a.estimator_doc_link {\n",
              "  float: right;\n",
              "  font-size: 1rem;\n",
              "  line-height: 1em;\n",
              "  font-family: monospace;\n",
              "  background-color: var(--sklearn-color-background);\n",
              "  border-radius: 1rem;\n",
              "  height: 1rem;\n",
              "  width: 1rem;\n",
              "  text-decoration: none;\n",
              "  /* unfitted */\n",
              "  color: var(--sklearn-color-unfitted-level-1);\n",
              "  border: var(--sklearn-color-unfitted-level-1) 1pt solid;\n",
              "}\n",
              "\n",
              "#sk-container-id-1 a.estimator_doc_link.fitted {\n",
              "  /* fitted */\n",
              "  border: var(--sklearn-color-fitted-level-1) 1pt solid;\n",
              "  color: var(--sklearn-color-fitted-level-1);\n",
              "}\n",
              "\n",
              "/* On hover */\n",
              "#sk-container-id-1 a.estimator_doc_link:hover {\n",
              "  /* unfitted */\n",
              "  background-color: var(--sklearn-color-unfitted-level-3);\n",
              "  color: var(--sklearn-color-background);\n",
              "  text-decoration: none;\n",
              "}\n",
              "\n",
              "#sk-container-id-1 a.estimator_doc_link.fitted:hover {\n",
              "  /* fitted */\n",
              "  background-color: var(--sklearn-color-fitted-level-3);\n",
              "}\n",
              "</style><div id=\"sk-container-id-1\" class=\"sk-top-container\"><div class=\"sk-text-repr-fallback\"><pre>Pipeline(steps=[(&#x27;vect&#x27;, CountVectorizer()), (&#x27;tfidf&#x27;, TfidfTransformer()),\n",
              "                (&#x27;clf&#x27;, MultinomialNB())])</pre><b>In a Jupyter environment, please rerun this cell to show the HTML representation or trust the notebook. <br />On GitHub, the HTML representation is unable to render, please try loading this page with nbviewer.org.</b></div><div class=\"sk-container\" hidden><div class=\"sk-item sk-dashed-wrapped\"><div class=\"sk-label-container\"><div class=\"sk-label fitted sk-toggleable\"><input class=\"sk-toggleable__control sk-hidden--visually\" id=\"sk-estimator-id-1\" type=\"checkbox\" ><label for=\"sk-estimator-id-1\" class=\"sk-toggleable__label fitted sk-toggleable__label-arrow\"><div><div>Pipeline</div></div><div><a class=\"sk-estimator-doc-link fitted\" rel=\"noreferrer\" target=\"_blank\" href=\"https://scikit-learn.org/1.6/modules/generated/sklearn.pipeline.Pipeline.html\">?<span>Documentation for Pipeline</span></a><span class=\"sk-estimator-doc-link fitted\">i<span>Fitted</span></span></div></label><div class=\"sk-toggleable__content fitted\"><pre>Pipeline(steps=[(&#x27;vect&#x27;, CountVectorizer()), (&#x27;tfidf&#x27;, TfidfTransformer()),\n",
              "                (&#x27;clf&#x27;, MultinomialNB())])</pre></div> </div></div><div class=\"sk-serial\"><div class=\"sk-item\"><div class=\"sk-estimator fitted sk-toggleable\"><input class=\"sk-toggleable__control sk-hidden--visually\" id=\"sk-estimator-id-2\" type=\"checkbox\" ><label for=\"sk-estimator-id-2\" class=\"sk-toggleable__label fitted sk-toggleable__label-arrow\"><div><div>CountVectorizer</div></div><div><a class=\"sk-estimator-doc-link fitted\" rel=\"noreferrer\" target=\"_blank\" href=\"https://scikit-learn.org/1.6/modules/generated/sklearn.feature_extraction.text.CountVectorizer.html\">?<span>Documentation for CountVectorizer</span></a></div></label><div class=\"sk-toggleable__content fitted\"><pre>CountVectorizer()</pre></div> </div></div><div class=\"sk-item\"><div class=\"sk-estimator fitted sk-toggleable\"><input class=\"sk-toggleable__control sk-hidden--visually\" id=\"sk-estimator-id-3\" type=\"checkbox\" ><label for=\"sk-estimator-id-3\" class=\"sk-toggleable__label fitted sk-toggleable__label-arrow\"><div><div>TfidfTransformer</div></div><div><a class=\"sk-estimator-doc-link fitted\" rel=\"noreferrer\" target=\"_blank\" href=\"https://scikit-learn.org/1.6/modules/generated/sklearn.feature_extraction.text.TfidfTransformer.html\">?<span>Documentation for TfidfTransformer</span></a></div></label><div class=\"sk-toggleable__content fitted\"><pre>TfidfTransformer()</pre></div> </div></div><div class=\"sk-item\"><div class=\"sk-estimator fitted sk-toggleable\"><input class=\"sk-toggleable__control sk-hidden--visually\" id=\"sk-estimator-id-4\" type=\"checkbox\" ><label for=\"sk-estimator-id-4\" class=\"sk-toggleable__label fitted sk-toggleable__label-arrow\"><div><div>MultinomialNB</div></div><div><a class=\"sk-estimator-doc-link fitted\" rel=\"noreferrer\" target=\"_blank\" href=\"https://scikit-learn.org/1.6/modules/generated/sklearn.naive_bayes.MultinomialNB.html\">?<span>Documentation for MultinomialNB</span></a></div></label><div class=\"sk-toggleable__content fitted\"><pre>MultinomialNB()</pre></div> </div></div></div></div></div></div>"
            ]
          },
          "metadata": {},
          "execution_count": 53
        }
      ],
      "source": [
        "text_clf.fit(train_text, train_labels)"
      ]
    },
    {
      "cell_type": "markdown",
      "id": "c4bfcad1",
      "metadata": {
        "id": "c4bfcad1"
      },
      "source": [
        "### Evaluation\n",
        "\n",
        "Using our validation dataset, compute a number of metrics to measure how well we generalize on our validation set."
      ]
    },
    {
      "cell_type": "code",
      "execution_count": null,
      "id": "c8a0ab7d",
      "metadata": {
        "id": "c8a0ab7d"
      },
      "outputs": [],
      "source": [
        "val_text = df_validation['title'].fillna('').values\n",
        "val_labels = df_validation['top_category_text'].values"
      ]
    },
    {
      "cell_type": "code",
      "execution_count": null,
      "id": "a9e4eca3",
      "metadata": {
        "id": "a9e4eca3",
        "outputId": "edb9032e-2eb5-4686-b277-c48c4839f0c2",
        "colab": {
          "base_uri": "https://localhost:8080/"
        }
      },
      "outputs": [
        {
          "output_type": "stream",
          "name": "stdout",
          "text": [
            "Product's title: Vintage enamel funnel - White metal funnel with handle - Large rusty funnel - Ki...\n",
            "Prediction: 'home_and_living', Groundtruth: 'home_and_living'\n"
          ]
        }
      ],
      "source": [
        "index = 0\n",
        "print(f\"\"\"\n",
        "Product's title: {val_text[index][:80]}...\n",
        "Prediction: '{text_clf.predict([val_text[index]])[0]}', Groundtruth: '{val_labels[index]}'\n",
        "\"\"\".strip())"
      ]
    },
    {
      "cell_type": "code",
      "execution_count": null,
      "id": "6f756f21",
      "metadata": {
        "id": "6f756f21",
        "outputId": "04fee81b-ce21-4dd5-d375-622282136e4a",
        "colab": {
          "base_uri": "https://localhost:8080/",
          "height": 805
        }
      },
      "outputs": [
        {
          "output_type": "execute_result",
          "data": {
            "text/plain": [
              "product_id                                                     1085759015\n",
              "title                   Vintage enamel funnel - White metal funnel wit...\n",
              "description             Vintage enamel funnel - White metal funnel wit...\n",
              "tags                    Enamel Funnel,Vintage metal funnel,Enamelware ...\n",
              "type                                                             physical\n",
              "room                                                                     \n",
              "craft_type                                                     winemaking\n",
              "recipient                                                                \n",
              "material                                                                 \n",
              "occasion                                                                 \n",
              "holiday                                                                  \n",
              "art_subject                                                              \n",
              "style                                                                    \n",
              "shape                                                                    \n",
              "pattern                                                                  \n",
              "bottom_category_id                                                   6505\n",
              "bottom_category_text    home_and_living.kitchen_and_dining.cookware.co...\n",
              "top_category_id                                                         8\n",
              "top_category_text                                         home_and_living\n",
              "primary_color_id                                                       17\n",
              "primary_color_text                                                  white\n",
              "secondary_color_id                                                      2\n",
              "secondary_color_text                                                 blue\n",
              "Name: 1465, dtype: object"
            ],
            "text/html": [
              "<div>\n",
              "<style scoped>\n",
              "    .dataframe tbody tr th:only-of-type {\n",
              "        vertical-align: middle;\n",
              "    }\n",
              "\n",
              "    .dataframe tbody tr th {\n",
              "        vertical-align: top;\n",
              "    }\n",
              "\n",
              "    .dataframe thead th {\n",
              "        text-align: right;\n",
              "    }\n",
              "</style>\n",
              "<table border=\"1\" class=\"dataframe\">\n",
              "  <thead>\n",
              "    <tr style=\"text-align: right;\">\n",
              "      <th></th>\n",
              "      <th>1465</th>\n",
              "    </tr>\n",
              "  </thead>\n",
              "  <tbody>\n",
              "    <tr>\n",
              "      <th>product_id</th>\n",
              "      <td>1085759015</td>\n",
              "    </tr>\n",
              "    <tr>\n",
              "      <th>title</th>\n",
              "      <td>Vintage enamel funnel - White metal funnel wit...</td>\n",
              "    </tr>\n",
              "    <tr>\n",
              "      <th>description</th>\n",
              "      <td>Vintage enamel funnel - White metal funnel wit...</td>\n",
              "    </tr>\n",
              "    <tr>\n",
              "      <th>tags</th>\n",
              "      <td>Enamel Funnel,Vintage metal funnel,Enamelware ...</td>\n",
              "    </tr>\n",
              "    <tr>\n",
              "      <th>type</th>\n",
              "      <td>physical</td>\n",
              "    </tr>\n",
              "    <tr>\n",
              "      <th>room</th>\n",
              "      <td></td>\n",
              "    </tr>\n",
              "    <tr>\n",
              "      <th>craft_type</th>\n",
              "      <td>winemaking</td>\n",
              "    </tr>\n",
              "    <tr>\n",
              "      <th>recipient</th>\n",
              "      <td></td>\n",
              "    </tr>\n",
              "    <tr>\n",
              "      <th>material</th>\n",
              "      <td></td>\n",
              "    </tr>\n",
              "    <tr>\n",
              "      <th>occasion</th>\n",
              "      <td></td>\n",
              "    </tr>\n",
              "    <tr>\n",
              "      <th>holiday</th>\n",
              "      <td></td>\n",
              "    </tr>\n",
              "    <tr>\n",
              "      <th>art_subject</th>\n",
              "      <td></td>\n",
              "    </tr>\n",
              "    <tr>\n",
              "      <th>style</th>\n",
              "      <td></td>\n",
              "    </tr>\n",
              "    <tr>\n",
              "      <th>shape</th>\n",
              "      <td></td>\n",
              "    </tr>\n",
              "    <tr>\n",
              "      <th>pattern</th>\n",
              "      <td></td>\n",
              "    </tr>\n",
              "    <tr>\n",
              "      <th>bottom_category_id</th>\n",
              "      <td>6505</td>\n",
              "    </tr>\n",
              "    <tr>\n",
              "      <th>bottom_category_text</th>\n",
              "      <td>home_and_living.kitchen_and_dining.cookware.co...</td>\n",
              "    </tr>\n",
              "    <tr>\n",
              "      <th>top_category_id</th>\n",
              "      <td>8</td>\n",
              "    </tr>\n",
              "    <tr>\n",
              "      <th>top_category_text</th>\n",
              "      <td>home_and_living</td>\n",
              "    </tr>\n",
              "    <tr>\n",
              "      <th>primary_color_id</th>\n",
              "      <td>17</td>\n",
              "    </tr>\n",
              "    <tr>\n",
              "      <th>primary_color_text</th>\n",
              "      <td>white</td>\n",
              "    </tr>\n",
              "    <tr>\n",
              "      <th>secondary_color_id</th>\n",
              "      <td>2</td>\n",
              "    </tr>\n",
              "    <tr>\n",
              "      <th>secondary_color_text</th>\n",
              "      <td>blue</td>\n",
              "    </tr>\n",
              "  </tbody>\n",
              "</table>\n",
              "</div><br><label><b>dtype:</b> object</label>"
            ]
          },
          "metadata": {},
          "execution_count": 56
        }
      ],
      "source": [
        "df_validation.iloc[0]"
      ]
    },
    {
      "cell_type": "code",
      "execution_count": null,
      "id": "178ffc0d",
      "metadata": {
        "id": "178ffc0d",
        "outputId": "5ebde9e0-3b33-4cbc-83be-76c6b101270f",
        "colab": {
          "base_uri": "https://localhost:8080/"
        }
      },
      "outputs": [
        {
          "output_type": "execute_result",
          "data": {
            "text/plain": [
              "array(['Vintage enamel funnel - White metal funnel with handle - Large rusty funnel - Kitchen pouring tool - Bulgarian enamelware - Old shabby chic'],\n",
              "      dtype=object)"
            ]
          },
          "metadata": {},
          "execution_count": 57
        }
      ],
      "source": [
        "val_text[:1]"
      ]
    },
    {
      "cell_type": "code",
      "execution_count": null,
      "id": "4d9abd32",
      "metadata": {
        "id": "4d9abd32"
      },
      "outputs": [],
      "source": [
        "predictions = text_clf.predict(val_text)"
      ]
    },
    {
      "cell_type": "code",
      "execution_count": null,
      "id": "48846387",
      "metadata": {
        "id": "48846387"
      },
      "outputs": [],
      "source": [
        "f1 = metrics.f1_score(val_labels, predictions, average='weighted')"
      ]
    },
    {
      "cell_type": "code",
      "execution_count": null,
      "id": "efa8ff9c",
      "metadata": {
        "id": "efa8ff9c",
        "outputId": "05c2a057-a669-4d2d-9252-cfcbf683e953",
        "colab": {
          "base_uri": "https://localhost:8080/",
          "height": 36
        }
      },
      "outputs": [
        {
          "output_type": "execute_result",
          "data": {
            "text/plain": [
              "'F1 score: 0.6392'"
            ],
            "application/vnd.google.colaboratory.intrinsic+json": {
              "type": "string"
            }
          },
          "metadata": {},
          "execution_count": 60
        }
      ],
      "source": [
        "f\"F1 score: {f1:.4f}\""
      ]
    },
    {
      "cell_type": "code",
      "execution_count": null,
      "id": "c568d196",
      "metadata": {
        "id": "c568d196",
        "outputId": "1bf1ee50-d778-4abf-88fd-e7a743b74159",
        "colab": {
          "base_uri": "https://localhost:8080/"
        }
      },
      "outputs": [
        {
          "output_type": "stream",
          "name": "stdout",
          "text": [
            "                             precision    recall  f1-score   support\n",
            "\n",
            "                accessories       0.84      0.41      0.55      1243\n",
            "       art_and_collectibles       0.86      0.09      0.16       870\n",
            "            bags_and_purses       0.93      0.29      0.45       664\n",
            "            bath_and_beauty       0.94      0.46      0.62      1140\n",
            "     books_movies_and_music       0.98      0.31      0.47       626\n",
            "                   clothing       0.73      0.96      0.83      3004\n",
            "   craft_supplies_and_tools       0.62      0.77      0.69      3337\n",
            "electronics_and_accessories       0.96      0.49      0.65       747\n",
            "            home_and_living       0.54      0.96      0.69      5460\n",
            "                    jewelry       0.91      0.37      0.53       782\n",
            "   paper_and_party_supplies       0.80      0.58      0.67      1223\n",
            "               pet_supplies       0.93      0.28      0.43       574\n",
            "                      shoes       0.95      0.73      0.83       891\n",
            "             toys_and_games       0.90      0.47      0.61      1387\n",
            "                   weddings       0.77      0.29      0.42      1015\n",
            "\n",
            "                   accuracy                           0.67     22963\n",
            "                  macro avg       0.84      0.50      0.57     22963\n",
            "               weighted avg       0.75      0.67      0.64     22963\n",
            "\n"
          ]
        }
      ],
      "source": [
        "print(metrics.classification_report(val_labels, predictions))"
      ]
    },
    {
      "cell_type": "code",
      "execution_count": null,
      "id": "484f013b",
      "metadata": {
        "id": "484f013b",
        "outputId": "43080bff-d253-48a5-dfe3-29b90103a201",
        "colab": {
          "base_uri": "https://localhost:8080/"
        }
      },
      "outputs": [
        {
          "output_type": "execute_result",
          "data": {
            "text/plain": [
              "array([[ 507,    0,    1,    4,    0,  269,  155,    0,  250,    2,    4,\n",
              "           2,    2,    7,   40],\n",
              "       [   5,   78,    0,    0,    0,   31,  137,    2,  593,    0,    7,\n",
              "           1,    0,   12,    4],\n",
              "       [   2,    0,  195,   11,    0,   44,  114,    1,  279,    0,    5,\n",
              "           1,    1,    6,    5],\n",
              "       [  11,    0,    4,  528,    0,   68,  129,    1,  383,    4,    3,\n",
              "           1,    1,    6,    1],\n",
              "       [   1,    3,    0,    0,  193,   12,   90,    4,  298,    0,   17,\n",
              "           3,    0,    4,    1],\n",
              "       [   7,    0,    0,    2,    1, 2894,   15,    0,   72,    1,    5,\n",
              "           0,    2,    0,    5],\n",
              "       [   5,    4,    0,    3,    0,   35, 2576,    1,  676,    2,   21,\n",
              "           0,    4,    6,    4],\n",
              "       [   1,    0,    3,    0,    1,   14,   87,  365,  259,    0,    5,\n",
              "           1,    0,   11,    0],\n",
              "       [   1,    4,    2,    5,    0,   44,  123,    3, 5235,    0,   27,\n",
              "           2,    0,   11,    3],\n",
              "       [  16,    0,    0,    2,    1,   21,  309,    0,  139,  289,    1,\n",
              "           0,    0,    0,    4],\n",
              "       [   0,    0,    0,    0,    1,   27,  138,    2,  324,    0,  709,\n",
              "           2,    0,    4,   16],\n",
              "       [   5,    1,    2,    4,    0,   81,   35,    0,  274,    2,    6,\n",
              "         162,    0,    2,    0],\n",
              "       [   0,    0,    0,    1,    0,  139,   31,    0,   59,    0,    1,\n",
              "           0,  653,    5,    2],\n",
              "       [   7,    0,    1,    1,    0,  125,  122,    1,  460,    2,   13,\n",
              "           0,    6,  648,    1],\n",
              "       [  36,    1,    1,    3,    0,  159,  108,    0,  317,   16,   65,\n",
              "           0,   17,    0,  292]])"
            ]
          },
          "metadata": {},
          "execution_count": 62
        }
      ],
      "source": [
        "metrics.confusion_matrix(val_labels, predictions)"
      ]
    },
    {
      "cell_type": "markdown",
      "id": "4f429dd7",
      "metadata": {
        "id": "4f429dd7"
      },
      "source": [
        "**Note** that this is just a baseline that uses a naïve Bayes classifier and uses the `title` only as inputs, there are many more parameters that can be used in addition to multiple architectures and processing approaches"
      ]
    },
    {
      "cell_type": "markdown",
      "id": "5ff1e03c",
      "metadata": {
        "id": "5ff1e03c"
      },
      "source": [
        "## Submission\n",
        "\n",
        "Prepare a submission for the test data. Here I am using some dummy values, all zeros, as the ids for top categories, bottom categories, primary colors and secondary colors. Feed-forward the test data through your model, get the predictions per product and output them onto a file to be checked against the true values.\n",
        "\n",
        "Happy Hacking!"
      ]
    },
    {
      "cell_type": "code",
      "execution_count": null,
      "id": "7f4ae730",
      "metadata": {
        "id": "7f4ae730"
      },
      "outputs": [],
      "source": [
        "df_predictions = df_test.copy()"
      ]
    },
    {
      "cell_type": "code",
      "execution_count": null,
      "id": "2491d9cc",
      "metadata": {
        "id": "2491d9cc"
      },
      "outputs": [],
      "source": [
        "# dummy values\n",
        "df_predictions[\"top_category_id\"] = np.zeros(len(df_test), dtype=int)\n",
        "df_predictions[\"bottom_category_id\"] = np.zeros(len(df_test), dtype=int)"
      ]
    },
    {
      "cell_type": "code",
      "execution_count": null,
      "id": "86c2afbb",
      "metadata": {
        "id": "86c2afbb"
      },
      "outputs": [],
      "source": [
        "student_id = \"12345689\"\n",
        "df_predictions[\n",
        "    [\"product_id\", \"top_category_id\", \"bottom_category_id\"]\n",
        "].to_parquet(f\"predictions_{student_id}.parquet\")"
      ]
    },
    {
      "cell_type": "code",
      "execution_count": null,
      "id": "85f73b7c",
      "metadata": {
        "id": "85f73b7c"
      },
      "outputs": [],
      "source": []
    }
  ],
  "metadata": {
    "colab": {
      "provenance": [],
      "include_colab_link": true
    },
    "kernelspec": {
      "display_name": "Python 3 (ipykernel)",
      "language": "python",
      "name": "python3"
    },
    "language_info": {
      "codemirror_mode": {
        "name": "ipython",
        "version": 3
      },
      "file_extension": ".py",
      "mimetype": "text/x-python",
      "name": "python",
      "nbconvert_exporter": "python",
      "pygments_lexer": "ipython3",
      "version": "3.9.6"
    }
  },
  "nbformat": 4,
  "nbformat_minor": 5
}