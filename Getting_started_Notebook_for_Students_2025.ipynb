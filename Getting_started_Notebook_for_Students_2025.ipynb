{
  "cells": [
    {
      "cell_type": "markdown",
      "metadata": {
        "id": "view-in-github",
        "colab_type": "text"
      },
      "source": [
        "<a href=\"https://colab.research.google.com/github/Sabha95/Machine_Learning-Assig/blob/main/Getting_started_Notebook_for_Students_2025.ipynb\" target=\"_parent\"><img src=\"https://colab.research.google.com/assets/colab-badge.svg\" alt=\"Open In Colab\"/></a>"
      ]
    },
    {
      "cell_type": "markdown",
      "id": "847b322c",
      "metadata": {
        "id": "847b322c"
      },
      "source": [
        "# CA684 Machine Learning Assignment Spring 2024\n",
        "\n",
        "Dublin City University has teamed up with **Etsy** to create the 2024 CA684 Machine Learning assignment.\n",
        "\n",
        "## Etsy.com\n",
        "\n",
        "Etsy is the global marketplace for unique and creative goods. It’s home to a universe of special, extraordinary items, from unique handcrafted pieces to vintage treasures. Etsy operates two-sided online marketplaces that collectively connect nearly 100 million passionate and creative buyers and 7.7 million sellers around the world.\n",
        "\n",
        "Buyers come to the Etsy marketplace for meaningful, one-of-a-kind items handcrafted and curated with passion and expertise by our creative entrepreneurs. We are focused on attracting potential buyers to Etsy for everyday items that have meaning and those “special” purchase occasions that happen throughout the year. These include items that reflect an individual’s unique style; gifting that demonstrates thought and care; and celebrations that express creativity and fun.\n",
        "\n",
        "On Etsy, someone searches for …\n",
        "- Wall art every two seconds\n",
        "- Wedding-related items every two seconds\n",
        "- Gift-related items every second\n",
        "- Antique or vintage items every half a second\n",
        "\n",
        "## Challenge\n",
        "\n",
        "Etsy has nearly 100 Million active listings on the etsy.com marketplace for sale from more than 5 million active sellers. You are provided a subset of those products as the training data.\n",
        "\n",
        "The task is to leverage the training dataset to learn patterns from and to predict the following attributes on an unseen test dataset given a products’ information:\n",
        "\n",
        "- top category id\n",
        "- bottom category id\n",
        "\n",
        "The goal is to maximize F1 for each of the classes on each attribute to predict (top category, bottom category). Your approaches and models will be benchmarked against a hidden test dataset.\n",
        "\n",
        "Bonus points will be given for submissions that:\n",
        "\n",
        "- visualize some learned representations or embeddings and show that similar items cluster together\n",
        "- compares the performance of pre-trained embeddings taken from hubs or papers with a fine-tuned model\n",
        "\n",
        "\n",
        "## Getting Started\n",
        "\n",
        "Here is some sample code to get you started on the challenge!\n",
        "\n",
        "Happy Hacking!"
      ]
    },
    {
      "cell_type": "code",
      "source": [
        "pip install tensorflow"
      ],
      "metadata": {
        "id": "5E1Qy6vrCRRe"
      },
      "id": "5E1Qy6vrCRRe",
      "execution_count": null,
      "outputs": []
    },
    {
      "cell_type": "code",
      "execution_count": 10,
      "id": "49b9b3bb",
      "metadata": {
        "id": "49b9b3bb"
      },
      "outputs": [],
      "source": [
        "# libraries\n",
        "import io\n",
        "import os\n",
        "from datetime import datetime\n",
        "import pandas as pd\n",
        "import numpy as np\n",
        "import tensorflow as tf\n",
        "import matplotlib.pyplot as plt\n",
        "import matplotlib.image as mpimg\n",
        "from tensorflow.keras.applications import MobileNetV3Small\n",
        "from tensorflow.keras.preprocessing import image\n",
        "from tensorflow.keras.models import Model\n",
        "from tensorflow.keras.layers import Dense, GlobalAveragePooling2D\n",
        "from sklearn import metrics\n",
        "\n",
        "# Matplotlib configuration\n",
        "font = { 'family': 'DejaVu Sans', 'weight': 'bold', 'size': 16 }\n",
        "plt.rc('font', **font)\n"
      ]
    },
    {
      "cell_type": "code",
      "execution_count": 11,
      "id": "0d1373e8",
      "metadata": {
        "id": "0d1373e8"
      },
      "outputs": [],
      "source": [
        "# set random seed\n",
        "np.random.seed(seed=42)"
      ]
    },
    {
      "cell_type": "markdown",
      "id": "34d263ed",
      "metadata": {
        "id": "34d263ed"
      },
      "source": [
        "## Dataset\n",
        "\n",
        "The train and test datasets are shared in **parquet** format.\n",
        "\n",
        "In order to download the dataset, please sign the NDA first."
      ]
    },
    {
      "cell_type": "code",
      "execution_count": 12,
      "id": "36186dd2",
      "metadata": {
        "id": "36186dd2"
      },
      "outputs": [],
      "source": [
        "PATH = f\"/content/gdrive/MyDrive/machine_learning_Assignment\""
      ]
    },
    {
      "cell_type": "code",
      "execution_count": 13,
      "id": "ec773a64",
      "metadata": {
        "id": "ec773a64",
        "colab": {
          "base_uri": "https://localhost:8080/"
        },
        "outputId": "9c833141-022c-44b2-b497-f21e73ad6418"
      },
      "outputs": [
        {
          "output_type": "stream",
          "name": "stdout",
          "text": [
            "'Getting-started Notebook for Students 2025.ipynb'   test   train  'Untitled document.gdoc'\n"
          ]
        }
      ],
      "source": [
        "!ls {PATH}"
      ]
    },
    {
      "cell_type": "code",
      "execution_count": 17,
      "id": "a500b4d8",
      "metadata": {
        "id": "a500b4d8"
      },
      "outputs": [],
      "source": [
        "parquet_filenames_train = !ls {PATH}/train"
      ]
    },
    {
      "cell_type": "code",
      "execution_count": 19,
      "id": "1f5004a7",
      "metadata": {
        "id": "1f5004a7",
        "outputId": "948f374e-95a6-490d-a686-482f59dccde4",
        "colab": {
          "base_uri": "https://localhost:8080/"
        }
      },
      "outputs": [
        {
          "output_type": "execute_result",
          "data": {
            "text/plain": [
              "['part-00000-of-00362.parquet.parquet',\n",
              " 'part-00181-of-00362.parquet.parquet',\n",
              " 'part-00001-of-00362.parquet.parquet']"
            ]
          },
          "metadata": {},
          "execution_count": 19
        }
      ],
      "source": [
        "filenames_string = \" \".join(parquet_filenames_train)\n",
        "parquet_filenames_train = filenames_string.split()\n",
        "parquet_filenames_train[:3]"
      ]
    },
    {
      "cell_type": "code",
      "source": [],
      "metadata": {
        "id": "bVrpGcDFnJ3y"
      },
      "id": "bVrpGcDFnJ3y",
      "execution_count": null,
      "outputs": []
    },
    {
      "cell_type": "code",
      "execution_count": 20,
      "id": "c44b3771",
      "metadata": {
        "id": "c44b3771",
        "outputId": "cca5df0f-78ca-47d4-83f8-f7169f91e220",
        "colab": {
          "base_uri": "https://localhost:8080/",
          "height": 36
        }
      },
      "outputs": [
        {
          "output_type": "execute_result",
          "data": {
            "text/plain": [
              "'Number of files in train: 362'"
            ],
            "application/vnd.google.colaboratory.intrinsic+json": {
              "type": "string"
            }
          },
          "metadata": {},
          "execution_count": 20
        }
      ],
      "source": [
        "f\"Number of files in train: {len(parquet_filenames_train):,}\""
      ]
    },
    {
      "cell_type": "code",
      "execution_count": null,
      "id": "6b146499",
      "metadata": {
        "id": "6b146499"
      },
      "outputs": [],
      "source": [
        "parquet_filenames_test = !ls {PATH}/test"
      ]
    },
    {
      "cell_type": "code",
      "execution_count": null,
      "id": "7c169b61",
      "metadata": {
        "id": "7c169b61",
        "outputId": "45dceca6-7757-4f69-a80c-d22a4959c49b",
        "colab": {
          "base_uri": "https://localhost:8080/"
        }
      },
      "outputs": [
        {
          "output_type": "execute_result",
          "data": {
            "text/plain": [
              "['part-00000-of-00362.parquet.parquet  part-00181-of-00362.parquet.parquet',\n",
              " 'part-00001-of-00362.parquet.parquet  part-00182-of-00362.parquet.parquet',\n",
              " 'part-00002-of-00362.parquet.parquet  part-00183-of-00362.parquet.parquet']"
            ]
          },
          "metadata": {},
          "execution_count": 22
        }
      ],
      "source": [
        "parquet_filenames_test[:3]"
      ]
    },
    {
      "cell_type": "code",
      "execution_count": null,
      "id": "bcd0b6d1",
      "metadata": {
        "id": "bcd0b6d1",
        "outputId": "18f06d1e-f5c8-44ba-ae16-bcb7255d608c",
        "colab": {
          "base_uri": "https://localhost:8080/",
          "height": 36
        }
      },
      "outputs": [
        {
          "output_type": "execute_result",
          "data": {
            "text/plain": [
              "'Number of files in test: 181'"
            ],
            "application/vnd.google.colaboratory.intrinsic+json": {
              "type": "string"
            }
          },
          "metadata": {},
          "execution_count": 23
        }
      ],
      "source": [
        "f\"Number of files in test: {len(parquet_filenames_test):,}\""
      ]
    },
    {
      "cell_type": "markdown",
      "id": "cc5e1ae4",
      "metadata": {
        "id": "cc5e1ae4"
      },
      "source": [
        "## Exploratory Data Analysis\n",
        "\n",
        "It is important to familiarize yourself with the dataset by using measures of centrality (e.g. mean) and statistical dispersion (e.g. variance) and data visualization methods. The following is just some Pandas preprocessing and Matplotlib visualizations to get you started. Feel free to explore the data much further and come up with ideas that might help you in the task!"
      ]
    },
    {
      "cell_type": "markdown",
      "id": "478f0fa6",
      "metadata": {
        "id": "478f0fa6"
      },
      "source": [
        "### Training Dataset\n",
        "\n",
        "This dataset can be used to train models and learn patterns from."
      ]
    },
    {
      "cell_type": "code",
      "execution_count": null,
      "id": "cef20992",
      "metadata": {
        "id": "cef20992"
      },
      "outputs": [],
      "source": [
        "def read_data(folder, filenames):\n",
        "    \"\"\" Read parquet data from mutiple files \"\"\"\n",
        "\n",
        "    dataframes = [\n",
        "        pd.read_parquet(f\"{PATH}/{folder}/{filename}\")\n",
        "        for filename in filenames\n",
        "    ]\n",
        "\n",
        "    return pd.concat(dataframes)"
      ]
    },
    {
      "cell_type": "code",
      "execution_count": null,
      "id": "fd364441",
      "metadata": {
        "id": "fd364441",
        "colab": {
          "base_uri": "https://localhost:8080/",
          "height": 321
        },
        "outputId": "58a6c8c7-a3df-4481-ce9a-f5fc4f5ebbbf"
      },
      "outputs": [
        {
          "output_type": "error",
          "ename": "FileNotFoundError",
          "evalue": "[Errno 2] No such file or directory: '/content/sample_data/Data_2025//train/part-00000-of-00362.parquet.parquet  part-00181-of-00362.parquet.parquet'",
          "traceback": [
            "\u001b[0;31m---------------------------------------------------------------------------\u001b[0m",
            "\u001b[0;31mFileNotFoundError\u001b[0m                         Traceback (most recent call last)",
            "\u001b[0;32m<ipython-input-25-7e7a657545ae>\u001b[0m in \u001b[0;36m<cell line: 0>\u001b[0;34m()\u001b[0m\n\u001b[0;32m----> 1\u001b[0;31m \u001b[0mdf_train\u001b[0m \u001b[0;34m=\u001b[0m \u001b[0mread_data\u001b[0m\u001b[0;34m(\u001b[0m\u001b[0;34m\"train\"\u001b[0m\u001b[0;34m,\u001b[0m \u001b[0mparquet_filenames_train\u001b[0m\u001b[0;34m)\u001b[0m\u001b[0;34m\u001b[0m\u001b[0;34m\u001b[0m\u001b[0m\n\u001b[0m",
            "\u001b[0;32m<ipython-input-24-0a8ccbbcc8df>\u001b[0m in \u001b[0;36mread_data\u001b[0;34m(folder, filenames)\u001b[0m\n\u001b[1;32m      2\u001b[0m     \u001b[0;34m\"\"\" Read parquet data from mutiple files \"\"\"\u001b[0m\u001b[0;34m\u001b[0m\u001b[0;34m\u001b[0m\u001b[0m\n\u001b[1;32m      3\u001b[0m \u001b[0;34m\u001b[0m\u001b[0m\n\u001b[0;32m----> 4\u001b[0;31m     dataframes = [\n\u001b[0m\u001b[1;32m      5\u001b[0m         \u001b[0mpd\u001b[0m\u001b[0;34m.\u001b[0m\u001b[0mread_parquet\u001b[0m\u001b[0;34m(\u001b[0m\u001b[0;34mf\"{PATH}/{folder}/{filename}\"\u001b[0m\u001b[0;34m)\u001b[0m\u001b[0;34m\u001b[0m\u001b[0;34m\u001b[0m\u001b[0m\n\u001b[1;32m      6\u001b[0m         \u001b[0;32mfor\u001b[0m \u001b[0mfilename\u001b[0m \u001b[0;32min\u001b[0m \u001b[0mfilenames\u001b[0m\u001b[0;34m\u001b[0m\u001b[0;34m\u001b[0m\u001b[0m\n",
            "\u001b[0;32m<ipython-input-24-0a8ccbbcc8df>\u001b[0m in \u001b[0;36m<listcomp>\u001b[0;34m(.0)\u001b[0m\n\u001b[1;32m      3\u001b[0m \u001b[0;34m\u001b[0m\u001b[0m\n\u001b[1;32m      4\u001b[0m     dataframes = [\n\u001b[0;32m----> 5\u001b[0;31m         \u001b[0mpd\u001b[0m\u001b[0;34m.\u001b[0m\u001b[0mread_parquet\u001b[0m\u001b[0;34m(\u001b[0m\u001b[0;34mf\"{PATH}/{folder}/{filename}\"\u001b[0m\u001b[0;34m)\u001b[0m\u001b[0;34m\u001b[0m\u001b[0;34m\u001b[0m\u001b[0m\n\u001b[0m\u001b[1;32m      6\u001b[0m         \u001b[0;32mfor\u001b[0m \u001b[0mfilename\u001b[0m \u001b[0;32min\u001b[0m \u001b[0mfilenames\u001b[0m\u001b[0;34m\u001b[0m\u001b[0;34m\u001b[0m\u001b[0m\n\u001b[1;32m      7\u001b[0m     ]\n",
            "\u001b[0;32m/usr/local/lib/python3.11/dist-packages/pandas/io/parquet.py\u001b[0m in \u001b[0;36mread_parquet\u001b[0;34m(path, engine, columns, storage_options, use_nullable_dtypes, dtype_backend, filesystem, filters, **kwargs)\u001b[0m\n\u001b[1;32m    665\u001b[0m     \u001b[0mcheck_dtype_backend\u001b[0m\u001b[0;34m(\u001b[0m\u001b[0mdtype_backend\u001b[0m\u001b[0;34m)\u001b[0m\u001b[0;34m\u001b[0m\u001b[0;34m\u001b[0m\u001b[0m\n\u001b[1;32m    666\u001b[0m \u001b[0;34m\u001b[0m\u001b[0m\n\u001b[0;32m--> 667\u001b[0;31m     return impl.read(\n\u001b[0m\u001b[1;32m    668\u001b[0m         \u001b[0mpath\u001b[0m\u001b[0;34m,\u001b[0m\u001b[0;34m\u001b[0m\u001b[0;34m\u001b[0m\u001b[0m\n\u001b[1;32m    669\u001b[0m         \u001b[0mcolumns\u001b[0m\u001b[0;34m=\u001b[0m\u001b[0mcolumns\u001b[0m\u001b[0;34m,\u001b[0m\u001b[0;34m\u001b[0m\u001b[0;34m\u001b[0m\u001b[0m\n",
            "\u001b[0;32m/usr/local/lib/python3.11/dist-packages/pandas/io/parquet.py\u001b[0m in \u001b[0;36mread\u001b[0;34m(self, path, columns, filters, use_nullable_dtypes, dtype_backend, storage_options, filesystem, **kwargs)\u001b[0m\n\u001b[1;32m    265\u001b[0m             \u001b[0mto_pandas_kwargs\u001b[0m\u001b[0;34m[\u001b[0m\u001b[0;34m\"split_blocks\"\u001b[0m\u001b[0;34m]\u001b[0m \u001b[0;34m=\u001b[0m \u001b[0;32mTrue\u001b[0m  \u001b[0;31m# type: ignore[assignment]\u001b[0m\u001b[0;34m\u001b[0m\u001b[0;34m\u001b[0m\u001b[0m\n\u001b[1;32m    266\u001b[0m \u001b[0;34m\u001b[0m\u001b[0m\n\u001b[0;32m--> 267\u001b[0;31m         path_or_handle, handles, filesystem = _get_path_or_handle(\n\u001b[0m\u001b[1;32m    268\u001b[0m             \u001b[0mpath\u001b[0m\u001b[0;34m,\u001b[0m\u001b[0;34m\u001b[0m\u001b[0;34m\u001b[0m\u001b[0m\n\u001b[1;32m    269\u001b[0m             \u001b[0mfilesystem\u001b[0m\u001b[0;34m,\u001b[0m\u001b[0;34m\u001b[0m\u001b[0;34m\u001b[0m\u001b[0m\n",
            "\u001b[0;32m/usr/local/lib/python3.11/dist-packages/pandas/io/parquet.py\u001b[0m in \u001b[0;36m_get_path_or_handle\u001b[0;34m(path, fs, storage_options, mode, is_dir)\u001b[0m\n\u001b[1;32m    138\u001b[0m         \u001b[0;31m# fsspec resources can also point to directories\u001b[0m\u001b[0;34m\u001b[0m\u001b[0;34m\u001b[0m\u001b[0m\n\u001b[1;32m    139\u001b[0m         \u001b[0;31m# this branch is used for example when reading from non-fsspec URLs\u001b[0m\u001b[0;34m\u001b[0m\u001b[0;34m\u001b[0m\u001b[0m\n\u001b[0;32m--> 140\u001b[0;31m         handles = get_handle(\n\u001b[0m\u001b[1;32m    141\u001b[0m             \u001b[0mpath_or_handle\u001b[0m\u001b[0;34m,\u001b[0m \u001b[0mmode\u001b[0m\u001b[0;34m,\u001b[0m \u001b[0mis_text\u001b[0m\u001b[0;34m=\u001b[0m\u001b[0;32mFalse\u001b[0m\u001b[0;34m,\u001b[0m \u001b[0mstorage_options\u001b[0m\u001b[0;34m=\u001b[0m\u001b[0mstorage_options\u001b[0m\u001b[0;34m\u001b[0m\u001b[0;34m\u001b[0m\u001b[0m\n\u001b[1;32m    142\u001b[0m         )\n",
            "\u001b[0;32m/usr/local/lib/python3.11/dist-packages/pandas/io/common.py\u001b[0m in \u001b[0;36mget_handle\u001b[0;34m(path_or_buf, mode, encoding, compression, memory_map, is_text, errors, storage_options)\u001b[0m\n\u001b[1;32m    880\u001b[0m         \u001b[0;32melse\u001b[0m\u001b[0;34m:\u001b[0m\u001b[0;34m\u001b[0m\u001b[0;34m\u001b[0m\u001b[0m\n\u001b[1;32m    881\u001b[0m             \u001b[0;31m# Binary mode\u001b[0m\u001b[0;34m\u001b[0m\u001b[0;34m\u001b[0m\u001b[0m\n\u001b[0;32m--> 882\u001b[0;31m             \u001b[0mhandle\u001b[0m \u001b[0;34m=\u001b[0m \u001b[0mopen\u001b[0m\u001b[0;34m(\u001b[0m\u001b[0mhandle\u001b[0m\u001b[0;34m,\u001b[0m \u001b[0mioargs\u001b[0m\u001b[0;34m.\u001b[0m\u001b[0mmode\u001b[0m\u001b[0;34m)\u001b[0m\u001b[0;34m\u001b[0m\u001b[0;34m\u001b[0m\u001b[0m\n\u001b[0m\u001b[1;32m    883\u001b[0m         \u001b[0mhandles\u001b[0m\u001b[0;34m.\u001b[0m\u001b[0mappend\u001b[0m\u001b[0;34m(\u001b[0m\u001b[0mhandle\u001b[0m\u001b[0;34m)\u001b[0m\u001b[0;34m\u001b[0m\u001b[0;34m\u001b[0m\u001b[0m\n\u001b[1;32m    884\u001b[0m \u001b[0;34m\u001b[0m\u001b[0m\n",
            "\u001b[0;31mFileNotFoundError\u001b[0m: [Errno 2] No such file or directory: '/content/sample_data/Data_2025//train/part-00000-of-00362.parquet.parquet  part-00181-of-00362.parquet.parquet'"
          ]
        }
      ],
      "source": [
        "df_train = read_data(\"train\", parquet_filenames_train)"
      ]
    },
    {
      "cell_type": "code",
      "execution_count": null,
      "id": "3a5df6fa",
      "metadata": {
        "id": "3a5df6fa",
        "outputId": "ee9ef93b-10a8-4307-bb48-2fc5f7bb101f"
      },
      "outputs": [
        {
          "data": {
            "text/plain": [
              "'Number of rows in train: 229,624'"
            ]
          },
          "execution_count": 26,
          "metadata": {},
          "output_type": "execute_result"
        }
      ],
      "source": [
        "f\"Number of rows in train: {len(df_train):,}\""
      ]
    },
    {
      "cell_type": "code",
      "execution_count": null,
      "id": "72ff1336",
      "metadata": {
        "id": "72ff1336",
        "outputId": "70f3498f-1cc2-49b6-df48-8a1720b183cd"
      },
      "outputs": [
        {
          "data": {
            "text/plain": [
              "'Number of unique products in train: 229,624'"
            ]
          },
          "execution_count": 27,
          "metadata": {},
          "output_type": "execute_result"
        }
      ],
      "source": [
        "f\"Number of unique products in train: {len(df_train['product_id'].unique()):,}\""
      ]
    },
    {
      "cell_type": "code",
      "execution_count": null,
      "id": "a7167f76",
      "metadata": {
        "id": "a7167f76",
        "outputId": "c7483c9e-99a0-4be0-b23b-93524fdf3163"
      },
      "outputs": [
        {
          "data": {
            "text/plain": [
              "'Number of columns in train: 23'"
            ]
          },
          "execution_count": 28,
          "metadata": {},
          "output_type": "execute_result"
        }
      ],
      "source": [
        "f\"Number of columns in train: {len(df_train.columns):,}\""
      ]
    },
    {
      "cell_type": "code",
      "execution_count": null,
      "id": "24ac7144",
      "metadata": {
        "id": "24ac7144",
        "outputId": "5e3f5023-283c-48aa-95ed-83c5b358b53c"
      },
      "outputs": [
        {
          "data": {
            "text/plain": [
              "['product_id',\n",
              " 'title',\n",
              " 'description',\n",
              " 'tags',\n",
              " 'type',\n",
              " 'room',\n",
              " 'craft_type',\n",
              " 'recipient',\n",
              " 'material',\n",
              " 'occasion',\n",
              " 'holiday',\n",
              " 'art_subject',\n",
              " 'style',\n",
              " 'shape',\n",
              " 'pattern',\n",
              " 'bottom_category_id',\n",
              " 'bottom_category_text',\n",
              " 'top_category_id',\n",
              " 'top_category_text',\n",
              " 'primary_color_id',\n",
              " 'primary_color_text',\n",
              " 'secondary_color_id',\n",
              " 'secondary_color_text']"
            ]
          },
          "execution_count": 29,
          "metadata": {},
          "output_type": "execute_result"
        }
      ],
      "source": [
        "list(df_train.columns)"
      ]
    },
    {
      "cell_type": "code",
      "execution_count": null,
      "id": "8999100d",
      "metadata": {
        "id": "8999100d",
        "outputId": "24179de5-a88a-4db3-c22f-6f82bd75a04e"
      },
      "outputs": [
        {
          "data": {
            "text/plain": [
              "product_id                                                      699437355\n",
              "title                   Children&#39;s circle skirt BLUE GALAXY made o...\n",
              "description             The fuxandfriends children&#39;s full circle s...\n",
              "tags                                                                     \n",
              "type                                                             physical\n",
              "room                                                                     \n",
              "craft_type                                                               \n",
              "recipient                                                                \n",
              "material                                                                 \n",
              "occasion                                                                 \n",
              "holiday                                                                  \n",
              "art_subject                                                              \n",
              "style                                                                    \n",
              "shape                                                                    \n",
              "pattern                                                                  \n",
              "bottom_category_id                                                    426\n",
              "bottom_category_text                       clothing.girls_clothing.skirts\n",
              "top_category_id                                                         5\n",
              "top_category_text                                                clothing\n",
              "primary_color_id                                                        2\n",
              "primary_color_text                                                   blue\n",
              "secondary_color_id                                                      2\n",
              "secondary_color_text                                                 blue\n",
              "Name: 0, dtype: object"
            ]
          },
          "execution_count": 30,
          "metadata": {},
          "output_type": "execute_result"
        }
      ],
      "source": [
        "df_train.iloc[0]"
      ]
    },
    {
      "cell_type": "code",
      "execution_count": null,
      "id": "c35c9c94",
      "metadata": {
        "id": "c35c9c94",
        "outputId": "b1d81b61-c1fe-4da2-8be2-8b13d5381aae"
      },
      "outputs": [
        {
          "data": {
            "text/html": [
              "<div>\n",
              "<style scoped>\n",
              "    .dataframe tbody tr th:only-of-type {\n",
              "        vertical-align: middle;\n",
              "    }\n",
              "\n",
              "    .dataframe tbody tr th {\n",
              "        vertical-align: top;\n",
              "    }\n",
              "\n",
              "    .dataframe thead th {\n",
              "        text-align: right;\n",
              "    }\n",
              "</style>\n",
              "<table border=\"1\" class=\"dataframe\">\n",
              "  <thead>\n",
              "    <tr style=\"text-align: right;\">\n",
              "      <th></th>\n",
              "      <th>product_id</th>\n",
              "      <th>title</th>\n",
              "      <th>description</th>\n",
              "      <th>tags</th>\n",
              "      <th>type</th>\n",
              "      <th>room</th>\n",
              "      <th>craft_type</th>\n",
              "      <th>recipient</th>\n",
              "      <th>material</th>\n",
              "      <th>occasion</th>\n",
              "      <th>...</th>\n",
              "      <th>shape</th>\n",
              "      <th>pattern</th>\n",
              "      <th>bottom_category_id</th>\n",
              "      <th>bottom_category_text</th>\n",
              "      <th>top_category_id</th>\n",
              "      <th>top_category_text</th>\n",
              "      <th>primary_color_id</th>\n",
              "      <th>primary_color_text</th>\n",
              "      <th>secondary_color_id</th>\n",
              "      <th>secondary_color_text</th>\n",
              "    </tr>\n",
              "  </thead>\n",
              "  <tbody>\n",
              "    <tr>\n",
              "      <th>0</th>\n",
              "      <td>699437355</td>\n",
              "      <td>Children&amp;#39;s circle skirt BLUE GALAXY made o...</td>\n",
              "      <td>The fuxandfriends children&amp;#39;s full circle s...</td>\n",
              "      <td></td>\n",
              "      <td>physical</td>\n",
              "      <td></td>\n",
              "      <td></td>\n",
              "      <td></td>\n",
              "      <td></td>\n",
              "      <td></td>\n",
              "      <td>...</td>\n",
              "      <td></td>\n",
              "      <td></td>\n",
              "      <td>426</td>\n",
              "      <td>clothing.girls_clothing.skirts</td>\n",
              "      <td>5</td>\n",
              "      <td>clothing</td>\n",
              "      <td>2</td>\n",
              "      <td>blue</td>\n",
              "      <td>2</td>\n",
              "      <td>blue</td>\n",
              "    </tr>\n",
              "    <tr>\n",
              "      <th>1</th>\n",
              "      <td>1323699538</td>\n",
              "      <td>Cow Birthday Tutu for kids, Farm Theme Bday Ou...</td>\n",
              "      <td>💄This listing is for the TUTU ONLY (double rib...</td>\n",
              "      <td>birthday outfit,girls birthday shirt,Tutu outf...</td>\n",
              "      <td>physical</td>\n",
              "      <td></td>\n",
              "      <td></td>\n",
              "      <td></td>\n",
              "      <td></td>\n",
              "      <td>birthday</td>\n",
              "      <td>...</td>\n",
              "      <td></td>\n",
              "      <td>animal print</td>\n",
              "      <td>426</td>\n",
              "      <td>clothing.girls_clothing.skirts</td>\n",
              "      <td>5</td>\n",
              "      <td>clothing</td>\n",
              "      <td>11</td>\n",
              "      <td>pink</td>\n",
              "      <td>1</td>\n",
              "      <td>black</td>\n",
              "    </tr>\n",
              "  </tbody>\n",
              "</table>\n",
              "<p>2 rows × 23 columns</p>\n",
              "</div>"
            ],
            "text/plain": [
              "   product_id                                              title  \\\n",
              "0   699437355  Children&#39;s circle skirt BLUE GALAXY made o...   \n",
              "1  1323699538  Cow Birthday Tutu for kids, Farm Theme Bday Ou...   \n",
              "\n",
              "                                         description  \\\n",
              "0  The fuxandfriends children&#39;s full circle s...   \n",
              "1  💄This listing is for the TUTU ONLY (double rib...   \n",
              "\n",
              "                                                tags      type room  \\\n",
              "0                                                     physical        \n",
              "1  birthday outfit,girls birthday shirt,Tutu outf...  physical        \n",
              "\n",
              "  craft_type recipient material  occasion  ... shape       pattern  \\\n",
              "0                                          ...                       \n",
              "1                                birthday  ...        animal print   \n",
              "\n",
              "  bottom_category_id            bottom_category_text top_category_id  \\\n",
              "0                426  clothing.girls_clothing.skirts               5   \n",
              "1                426  clothing.girls_clothing.skirts               5   \n",
              "\n",
              "   top_category_text primary_color_id  primary_color_text secondary_color_id  \\\n",
              "0           clothing                2                blue                  2   \n",
              "1           clothing               11                pink                  1   \n",
              "\n",
              "   secondary_color_text  \n",
              "0                  blue  \n",
              "1                 black  \n",
              "\n",
              "[2 rows x 23 columns]"
            ]
          },
          "execution_count": 31,
          "metadata": {},
          "output_type": "execute_result"
        }
      ],
      "source": [
        "df_train.head(2)"
      ]
    },
    {
      "cell_type": "code",
      "execution_count": null,
      "id": "cc00c799",
      "metadata": {
        "id": "cc00c799",
        "outputId": "3452477e-be24-4c8d-e16f-2942b26a7a79"
      },
      "outputs": [
        {
          "data": {
            "text/plain": [
              "array(['physical', 'download', ''], dtype=object)"
            ]
          },
          "execution_count": 32,
          "metadata": {},
          "output_type": "execute_result"
        }
      ],
      "source": [
        "df_train['type'].unique()"
      ]
    },
    {
      "cell_type": "code",
      "execution_count": null,
      "id": "dd36fe38",
      "metadata": {
        "id": "dd36fe38",
        "outputId": "71958fdd-684c-4104-d399-8cc8bd20947d"
      },
      "outputs": [
        {
          "data": {
            "text/plain": [
              "type\n",
              "physical    218568\n",
              "download     10708\n",
              "               348\n",
              "Name: count, dtype: int64"
            ]
          },
          "execution_count": 33,
          "metadata": {},
          "output_type": "execute_result"
        }
      ],
      "source": [
        "df_train['type'].value_counts(dropna=False)"
      ]
    },
    {
      "cell_type": "code",
      "execution_count": null,
      "id": "1c585195",
      "metadata": {
        "id": "1c585195",
        "outputId": "64d25a7d-c22a-4ed3-e295-489f2521e94f"
      },
      "outputs": [
        {
          "data": {
            "text/plain": [
              "'Number of top categories in train: 15'"
            ]
          },
          "execution_count": 35,
          "metadata": {},
          "output_type": "execute_result"
        }
      ],
      "source": [
        "f\"Number of top categories in train: {len(df_train['top_category_text'].unique()):,}\""
      ]
    },
    {
      "cell_type": "code",
      "execution_count": null,
      "id": "5d67aa45",
      "metadata": {
        "id": "5d67aa45",
        "outputId": "1abaa6f9-6e33-47a2-8f16-fa6199c920cf"
      },
      "outputs": [
        {
          "name": "stderr",
          "output_type": "stream",
          "text": [
            "/var/folders/j6/gglgdk2532nfmczlmmwtp8gw0000gn/T/ipykernel_4541/1076920215.py:1: FutureWarning: pandas.value_counts is deprecated and will be removed in a future version. Use pd.Series(obj).value_counts() instead.\n",
            "  pd.value_counts(df_train['top_category_text'], sort=True, ascending=False)\n"
          ]
        },
        {
          "data": {
            "text/plain": [
              "top_category_text\n",
              "home_and_living                54600\n",
              "craft_supplies_and_tools       33393\n",
              "clothing                       30143\n",
              "toys_and_games                 13835\n",
              "accessories                    12416\n",
              "paper_and_party_supplies       12207\n",
              "bath_and_beauty                11327\n",
              "weddings                       10143\n",
              "shoes                           8892\n",
              "art_and_collectibles            8716\n",
              "jewelry                         7822\n",
              "electronics_and_accessories     7474\n",
              "bags_and_purses                 6650\n",
              "books_movies_and_music          6262\n",
              "pet_supplies                    5744\n",
              "Name: count, dtype: int64"
            ]
          },
          "execution_count": 36,
          "metadata": {},
          "output_type": "execute_result"
        }
      ],
      "source": [
        "pd.value_counts(df_train['top_category_text'], sort=True, ascending=False)"
      ]
    },
    {
      "cell_type": "code",
      "execution_count": null,
      "id": "aa6961db",
      "metadata": {
        "id": "aa6961db",
        "outputId": "695f4851-3bda-4e03-8014-610b7f92193e"
      },
      "outputs": [
        {
          "name": "stderr",
          "output_type": "stream",
          "text": [
            "/var/folders/j6/gglgdk2532nfmczlmmwtp8gw0000gn/T/ipykernel_4541/1474438048.py:8: FutureWarning: pandas.value_counts is deprecated and will be removed in a future version. Use pd.Series(obj).value_counts() instead.\n",
            "  pd.value_counts(\n"
          ]
        },
        {
          "data": {
            "image/png": "[encoded data removed]",
            "text/plain": [
              "<Figure size 1500x600 with 1 Axes>"
            ]
          },
          "metadata": {},
          "output_type": "display_data"
        }
      ],
      "source": [
        "figsize = (15, 6)\n",
        "column = 'top_category_text'\n",
        "x_limit = 60000\n",
        "x_step = 10000\n",
        "color = 'darkcyan'\n",
        "\n",
        "figure, ax = plt.subplots(figsize=figsize)\n",
        "pd.value_counts(\n",
        "    df_train[column],\n",
        "    sort=True, ascending=False).plot.barh(color=color)\n",
        "plt.title(f\"Number of Products per Category\")\n",
        "xlabels = [f'{x // 1000:,}K' for x in range(0, x_limit, x_step)]\n",
        "plt.xticks(range(0, x_limit, x_step), xlabels)\n",
        "plt.xlabel('Number of products')\n",
        "plt.setp(ax.get_xticklabels()[0], visible=False)\n",
        "plt.show()"
      ]
    },
    {
      "cell_type": "code",
      "execution_count": null,
      "id": "bbf5026d",
      "metadata": {
        "id": "bbf5026d",
        "outputId": "bc109d25-2707-4e89-93ba-0f43000ac00b"
      },
      "outputs": [
        {
          "data": {
            "text/plain": [
              "'Number of bottom categories in train: 2,609'"
            ]
          },
          "execution_count": 43,
          "metadata": {},
          "output_type": "execute_result"
        }
      ],
      "source": [
        "f\"Number of bottom categories in train: {len(df_train['bottom_category_text'].unique()):,}\""
      ]
    },
    {
      "cell_type": "markdown",
      "id": "0902ef9e",
      "metadata": {
        "id": "0902ef9e"
      },
      "source": [
        "### Test Dataset\n",
        "\n",
        "The test dataset will be used to predict using the model/s you have trained\n",
        "\n",
        "**Note** that categories and colors for the test data are hidden, you have to predict them!"
      ]
    },
    {
      "cell_type": "code",
      "execution_count": null,
      "id": "d1bf3eb7",
      "metadata": {
        "id": "d1bf3eb7"
      },
      "outputs": [],
      "source": [
        "df_test = read_data(\"test\", parquet_filenames_test)"
      ]
    },
    {
      "cell_type": "code",
      "execution_count": null,
      "id": "7f2a83db",
      "metadata": {
        "id": "7f2a83db",
        "outputId": "3acc80c1-c8a7-4c47-f6b5-0db90bffd591"
      },
      "outputs": [
        {
          "data": {
            "text/plain": [
              "'Number of rows in test: 25,514'"
            ]
          },
          "execution_count": 45,
          "metadata": {},
          "output_type": "execute_result"
        }
      ],
      "source": [
        "f'Number of rows in test: {len(df_test):,}'"
      ]
    },
    {
      "cell_type": "code",
      "execution_count": null,
      "id": "499136fb",
      "metadata": {
        "id": "499136fb",
        "outputId": "906ea7ab-569c-4aef-a70b-1470172b9fff"
      },
      "outputs": [
        {
          "data": {
            "text/plain": [
              "'Number of unique products in test: 25,514'"
            ]
          },
          "execution_count": 46,
          "metadata": {},
          "output_type": "execute_result"
        }
      ],
      "source": [
        "f\"Number of unique products in test: {len(df_test['product_id'].unique()):,}\""
      ]
    },
    {
      "cell_type": "code",
      "execution_count": null,
      "id": "dcfa5a4b",
      "metadata": {
        "id": "dcfa5a4b",
        "outputId": "bacb7149-4b95-4c65-9867-cbcc4e83ce65"
      },
      "outputs": [
        {
          "data": {
            "text/plain": [
              "'Number of columns in test: 15'"
            ]
          },
          "execution_count": 47,
          "metadata": {},
          "output_type": "execute_result"
        }
      ],
      "source": [
        "f\"Number of columns in test: {len(df_test.columns):,}\""
      ]
    },
    {
      "cell_type": "code",
      "execution_count": null,
      "id": "d6075cc6",
      "metadata": {
        "id": "d6075cc6",
        "outputId": "195585df-2d2d-4ebc-ef6c-d8883f4b1735"
      },
      "outputs": [
        {
          "data": {
            "text/plain": [
              "['product_id',\n",
              " 'title',\n",
              " 'description',\n",
              " 'tags',\n",
              " 'type',\n",
              " 'room',\n",
              " 'craft_type',\n",
              " 'recipient',\n",
              " 'material',\n",
              " 'occasion',\n",
              " 'holiday',\n",
              " 'art_subject',\n",
              " 'style',\n",
              " 'shape',\n",
              " 'pattern']"
            ]
          },
          "execution_count": 48,
          "metadata": {},
          "output_type": "execute_result"
        }
      ],
      "source": [
        "list(df_test.columns)"
      ]
    },
    {
      "cell_type": "code",
      "execution_count": null,
      "id": "18d44252",
      "metadata": {
        "id": "18d44252",
        "outputId": "b8a8d8f8-df83-48d0-c4eb-e2edfb87a879"
      },
      "outputs": [
        {
          "data": {
            "text/plain": [
              "product_id                                             661373440\n",
              "title          Classroom Valentine Favors, Valentine Pencils,...\n",
              "description    Valentine Favors, Robots of Love Vinyl Pencil ...\n",
              "tags           Valentines day favor,kindergarten treats,valen...\n",
              "type                                                    physical\n",
              "room                                                            \n",
              "craft_type                                          kids' crafts\n",
              "recipient                                                       \n",
              "material                                                        \n",
              "occasion                                                        \n",
              "holiday                                          valentine's day\n",
              "art_subject                                                     \n",
              "style                                                           \n",
              "shape                                                           \n",
              "pattern                                                         \n",
              "Name: 0, dtype: object"
            ]
          },
          "execution_count": 49,
          "metadata": {},
          "output_type": "execute_result"
        }
      ],
      "source": [
        "df_test.iloc[0]"
      ]
    },
    {
      "cell_type": "markdown",
      "id": "b7a5336d",
      "metadata": {
        "id": "b7a5336d"
      },
      "source": [
        "## Model Training\n",
        "\n",
        "Let's first split the data to be able to evaluate our model against a validation dataset. This validation set can also be used to fine tune your model before making the predictions on the hidden test set."
      ]
    },
    {
      "cell_type": "code",
      "execution_count": null,
      "id": "f0c1a684",
      "metadata": {
        "id": "f0c1a684"
      },
      "outputs": [],
      "source": [
        "from sklearn.model_selection import train_test_split\n",
        "\n",
        "df_training, df_validation = train_test_split(\n",
        "    df_train,\n",
        "    test_size=0.1,\n",
        "    stratify=df_train['bottom_category_text'],\n",
        "    random_state=42)"
      ]
    },
    {
      "cell_type": "code",
      "execution_count": null,
      "id": "5a8aedd5",
      "metadata": {
        "id": "5a8aedd5",
        "outputId": "e6ec84be-5095-4fd7-e09b-3c3d14b197bc"
      },
      "outputs": [
        {
          "data": {
            "text/plain": [
              "'Number of products for training: 206,661'"
            ]
          },
          "execution_count": 51,
          "metadata": {},
          "output_type": "execute_result"
        }
      ],
      "source": [
        "f\"Number of products for training: {len(df_training):,}\""
      ]
    },
    {
      "cell_type": "code",
      "execution_count": null,
      "id": "fcd7b7ca",
      "metadata": {
        "id": "fcd7b7ca",
        "outputId": "3a744f6d-af21-4142-fa09-e40be5712373"
      },
      "outputs": [
        {
          "data": {
            "text/plain": [
              "'Number of products for validation: 22,963'"
            ]
          },
          "execution_count": 52,
          "metadata": {},
          "output_type": "execute_result"
        }
      ],
      "source": [
        "f\"Number of products for validation: {len(df_validation):,}\""
      ]
    },
    {
      "cell_type": "code",
      "execution_count": null,
      "id": "bd371ead",
      "metadata": {
        "id": "bd371ead",
        "outputId": "21034de0-4dd1-4ccf-dd96-2865b71e724f"
      },
      "outputs": [
        {
          "data": {
            "text/plain": [
              "bottom_category_text\n",
              "jewelry.earrings.dangle_earrings.chandbalis                                         88\n",
              "accessories.scarves_and_wraps.scarves                                               88\n",
              "home_and_living.kitchen_and_dining.dining_and_serving.cake_stands                   88\n",
              "craft_supplies_and_tools.closures_and_fasteners.buttons                             88\n",
              "art_and_collectibles.drawing_and_illustration.architectural_drawings                88\n",
              "                                                                                    ..\n",
              "weddings.clothing.jumpsuits_and_rompers                                             40\n",
              "clothing.girls_clothing.baby_girls_clothing.socks_and_leg_warmers                   40\n",
              "home_and_living.lighting.light_accessories                                          39\n",
              "clothing.womens_clothing.pajamas_and_robes.sleep_masks_and_blindfolds.blindfolds    38\n",
              "craft_supplies_and_tools.doll_and_model_supplies.noise_makers                       38\n",
              "Name: count, Length: 2609, dtype: int64"
            ]
          },
          "execution_count": 53,
          "metadata": {},
          "output_type": "execute_result"
        }
      ],
      "source": [
        "df_training['bottom_category_text'].value_counts()"
      ]
    },
    {
      "cell_type": "code",
      "execution_count": null,
      "id": "ce56c304",
      "metadata": {
        "id": "ce56c304",
        "outputId": "eacee894-16a0-4eae-9475-cf579556ad4e"
      },
      "outputs": [
        {
          "data": {
            "text/plain": [
              "bottom_category_text\n",
              "clothing.girls_clothing.underwear.panties                                                                             10\n",
              "craft_supplies_and_tools.paints_inks_and_dyes.paint.chalk_paint                                                       10\n",
              "clothing.girls_clothing.baby_girls_clothing.sweaters                                                                  10\n",
              "craft_supplies_and_tools.storage_and_organization.containers.bottles_cans_and_jars.lids_rings_and_caps.bottle_caps    10\n",
              "paper_and_party_supplies.party_supplies.party_decor.party_candles                                                     10\n",
              "                                                                                                                      ..\n",
              "home_and_living.furniture.entryway_furniture.standing_coat_racks                                                       4\n",
              "jewelry.earrings.kaan_chains                                                                                           4\n",
              "craft_supplies_and_tools.doll_and_model_supplies.noise_makers                                                          4\n",
              "electronics_and_accessories.parts_and_electrical.testing_and_calibration                                               4\n",
              "craft_supplies_and_tools.raw_materials.clay_and_ceramic                                                                4\n",
              "Name: count, Length: 2609, dtype: int64"
            ]
          },
          "execution_count": 54,
          "metadata": {},
          "output_type": "execute_result"
        }
      ],
      "source": [
        "df_validation['bottom_category_text'].value_counts()"
      ]
    },
    {
      "cell_type": "code",
      "execution_count": null,
      "id": "ef90659e",
      "metadata": {
        "id": "ef90659e",
        "outputId": "ff648c37-d64b-443b-d41a-47baf224a664"
      },
      "outputs": [
        {
          "data": {
            "text/plain": [
              "top_category_text\n",
              "home_and_living                49140\n",
              "craft_supplies_and_tools       30056\n",
              "clothing                       27139\n",
              "toys_and_games                 12448\n",
              "accessories                    11173\n",
              "paper_and_party_supplies       10984\n",
              "bath_and_beauty                10187\n",
              "weddings                        9128\n",
              "shoes                           8001\n",
              "art_and_collectibles            7846\n",
              "jewelry                         7040\n",
              "electronics_and_accessories     6727\n",
              "bags_and_purses                 5986\n",
              "books_movies_and_music          5636\n",
              "pet_supplies                    5170\n",
              "Name: count, dtype: int64"
            ]
          },
          "execution_count": 55,
          "metadata": {},
          "output_type": "execute_result"
        }
      ],
      "source": [
        "df_training['top_category_text'].value_counts()"
      ]
    },
    {
      "cell_type": "code",
      "execution_count": null,
      "id": "538e13e5",
      "metadata": {
        "id": "538e13e5",
        "outputId": "1ee52865-3305-4a7f-9d10-c9c32e321fb2"
      },
      "outputs": [
        {
          "data": {
            "text/plain": [
              "top_category_text\n",
              "home_and_living                5460\n",
              "craft_supplies_and_tools       3337\n",
              "clothing                       3004\n",
              "toys_and_games                 1387\n",
              "accessories                    1243\n",
              "paper_and_party_supplies       1223\n",
              "bath_and_beauty                1140\n",
              "weddings                       1015\n",
              "shoes                           891\n",
              "art_and_collectibles            870\n",
              "jewelry                         782\n",
              "electronics_and_accessories     747\n",
              "bags_and_purses                 664\n",
              "books_movies_and_music          626\n",
              "pet_supplies                    574\n",
              "Name: count, dtype: int64"
            ]
          },
          "execution_count": 56,
          "metadata": {},
          "output_type": "execute_result"
        }
      ],
      "source": [
        "df_validation['top_category_text'].value_counts()"
      ]
    },
    {
      "cell_type": "markdown",
      "id": "d07114d1",
      "metadata": {
        "id": "d07114d1"
      },
      "source": [
        "### Training\n",
        "\n",
        "As a simple example, let's follow the [Working With Text Data](https://scikit-learn.org/stable/tutorial/text_analytics/working_with_text_data.html) tutorial from scikit-learn that:\n",
        "\n",
        "- processes the text using `CountVectorizer`, that builds a dictionary of features and transforms documents to feature vectors\n",
        "- extracts term frequencies and inverse document frequencies using `TfidfTransformer`, (see [TF-IDF](https://en.wikipedia.org/wiki/Tf%E2%80%93idf))\n",
        "- trains a naïve Bayes classifier, which gives us a nice baseline"
      ]
    },
    {
      "cell_type": "code",
      "execution_count": null,
      "id": "a03f88ad",
      "metadata": {
        "id": "a03f88ad"
      },
      "outputs": [],
      "source": [
        "from sklearn.feature_extraction.text import CountVectorizer\n",
        "from sklearn.feature_extraction.text import TfidfTransformer\n",
        "from sklearn.naive_bayes import MultinomialNB\n",
        "from sklearn.pipeline import Pipeline\n",
        "\n",
        "text_clf = Pipeline([\n",
        "    ('vect', CountVectorizer()),\n",
        "    ('tfidf', TfidfTransformer()),\n",
        "    ('clf', MultinomialNB()),\n",
        "])"
      ]
    },
    {
      "cell_type": "code",
      "execution_count": null,
      "id": "554f19ce",
      "metadata": {
        "id": "554f19ce"
      },
      "outputs": [],
      "source": [
        "train_text = df_training['title'].fillna('').values"
      ]
    },
    {
      "cell_type": "code",
      "execution_count": null,
      "id": "54501582",
      "metadata": {
        "id": "54501582"
      },
      "outputs": [],
      "source": [
        "train_labels = df_training['top_category_text'].values"
      ]
    },
    {
      "cell_type": "code",
      "execution_count": null,
      "id": "4bf4d653",
      "metadata": {
        "id": "4bf4d653",
        "outputId": "c1b003fa-a6f4-46a1-ae7a-2f0e6772a80d"
      },
      "outputs": [
        {
          "data": {
            "text/html": [
              "<style>#sk-container-id-1 {\n",
              "  /* Definition of color scheme common for light and dark mode */\n",
              "  --sklearn-color-text: #000;\n",
              "  --sklearn-color-text-muted: #666;\n",
              "  --sklearn-color-line: gray;\n",
              "  /* Definition of color scheme for unfitted estimators */\n",
              "  --sklearn-color-unfitted-level-0: #fff5e6;\n",
              "  --sklearn-color-unfitted-level-1: #f6e4d2;\n",
              "  --sklearn-color-unfitted-level-2: #ffe0b3;\n",
              "  --sklearn-color-unfitted-level-3: chocolate;\n",
              "  /* Definition of color scheme for fitted estimators */\n",
              "  --sklearn-color-fitted-level-0: #f0f8ff;\n",
              "  --sklearn-color-fitted-level-1: #d4ebff;\n",
              "  --sklearn-color-fitted-level-2: #b3dbfd;\n",
              "  --sklearn-color-fitted-level-3: cornflowerblue;\n",
              "\n",
              "  /* Specific color for light theme */\n",
              "  --sklearn-color-text-on-default-background: var(--sg-text-color, var(--theme-code-foreground, var(--jp-content-font-color1, black)));\n",
              "  --sklearn-color-background: var(--sg-background-color, var(--theme-background, var(--jp-layout-color0, white)));\n",
              "  --sklearn-color-border-box: var(--sg-text-color, var(--theme-code-foreground, var(--jp-content-font-color1, black)));\n",
              "  --sklearn-color-icon: #696969;\n",
              "\n",
              "  @media (prefers-color-scheme: dark) {\n",
              "    /* Redefinition of color scheme for dark theme */\n",
              "    --sklearn-color-text-on-default-background: var(--sg-text-color, var(--theme-code-foreground, var(--jp-content-font-color1, white)));\n",
              "    --sklearn-color-background: var(--sg-background-color, var(--theme-background, var(--jp-layout-color0, #111)));\n",
              "    --sklearn-color-border-box: var(--sg-text-color, var(--theme-code-foreground, var(--jp-content-font-color1, white)));\n",
              "    --sklearn-color-icon: #878787;\n",
              "  }\n",
              "}\n",
              "\n",
              "#sk-container-id-1 {\n",
              "  color: var(--sklearn-color-text);\n",
              "}\n",
              "\n",
              "#sk-container-id-1 pre {\n",
              "  padding: 0;\n",
              "}\n",
              "\n",
              "#sk-container-id-1 input.sk-hidden--visually {\n",
              "  border: 0;\n",
              "  clip: rect(1px 1px 1px 1px);\n",
              "  clip: rect(1px, 1px, 1px, 1px);\n",
              "  height: 1px;\n",
              "  margin: -1px;\n",
              "  overflow: hidden;\n",
              "  padding: 0;\n",
              "  position: absolute;\n",
              "  width: 1px;\n",
              "}\n",
              "\n",
              "#sk-container-id-1 div.sk-dashed-wrapped {\n",
              "  border: 1px dashed var(--sklearn-color-line);\n",
              "  margin: 0 0.4em 0.5em 0.4em;\n",
              "  box-sizing: border-box;\n",
              "  padding-bottom: 0.4em;\n",
              "  background-color: var(--sklearn-color-background);\n",
              "}\n",
              "\n",
              "#sk-container-id-1 div.sk-container {\n",
              "  /* jupyter's `normalize.less` sets `[hidden] { display: none; }`\n",
              "     but bootstrap.min.css set `[hidden] { display: none !important; }`\n",
              "     so we also need the `!important` here to be able to override the\n",
              "     default hidden behavior on the sphinx rendered scikit-learn.org.\n",
              "     See: https://github.com/scikit-learn/scikit-learn/issues/21755 */\n",
              "  display: inline-block !important;\n",
              "  position: relative;\n",
              "}\n",
              "\n",
              "#sk-container-id-1 div.sk-text-repr-fallback {\n",
              "  display: none;\n",
              "}\n",
              "\n",
              "div.sk-parallel-item,\n",
              "div.sk-serial,\n",
              "div.sk-item {\n",
              "  /* draw centered vertical line to link estimators */\n",
              "  background-image: linear-gradient(var(--sklearn-color-text-on-default-background), var(--sklearn-color-text-on-default-background));\n",
              "  background-size: 2px 100%;\n",
              "  background-repeat: no-repeat;\n",
              "  background-position: center center;\n",
              "}\n",
              "\n",
              "/* Parallel-specific style estimator block */\n",
              "\n",
              "#sk-container-id-1 div.sk-parallel-item::after {\n",
              "  content: \"\";\n",
              "  width: 100%;\n",
              "  border-bottom: 2px solid var(--sklearn-color-text-on-default-background);\n",
              "  flex-grow: 1;\n",
              "}\n",
              "\n",
              "#sk-container-id-1 div.sk-parallel {\n",
              "  display: flex;\n",
              "  align-items: stretch;\n",
              "  justify-content: center;\n",
              "  background-color: var(--sklearn-color-background);\n",
              "  position: relative;\n",
              "}\n",
              "\n",
              "#sk-container-id-1 div.sk-parallel-item {\n",
              "  display: flex;\n",
              "  flex-direction: column;\n",
              "}\n",
              "\n",
              "#sk-container-id-1 div.sk-parallel-item:first-child::after {\n",
              "  align-self: flex-end;\n",
              "  width: 50%;\n",
              "}\n",
              "\n",
              "#sk-container-id-1 div.sk-parallel-item:last-child::after {\n",
              "  align-self: flex-start;\n",
              "  width: 50%;\n",
              "}\n",
              "\n",
              "#sk-container-id-1 div.sk-parallel-item:only-child::after {\n",
              "  width: 0;\n",
              "}\n",
              "\n",
              "/* Serial-specific style estimator block */\n",
              "\n",
              "#sk-container-id-1 div.sk-serial {\n",
              "  display: flex;\n",
              "  flex-direction: column;\n",
              "  align-items: center;\n",
              "  background-color: var(--sklearn-color-background);\n",
              "  padding-right: 1em;\n",
              "  padding-left: 1em;\n",
              "}\n",
              "\n",
              "\n",
              "/* Toggleable style: style used for estimator/Pipeline/ColumnTransformer box that is\n",
              "clickable and can be expanded/collapsed.\n",
              "- Pipeline and ColumnTransformer use this feature and define the default style\n",
              "- Estimators will overwrite some part of the style using the `sk-estimator` class\n",
              "*/\n",
              "\n",
              "/* Pipeline and ColumnTransformer style (default) */\n",
              "\n",
              "#sk-container-id-1 div.sk-toggleable {\n",
              "  /* Default theme specific background. It is overwritten whether we have a\n",
              "  specific estimator or a Pipeline/ColumnTransformer */\n",
              "  background-color: var(--sklearn-color-background);\n",
              "}\n",
              "\n",
              "/* Toggleable label */\n",
              "#sk-container-id-1 label.sk-toggleable__label {\n",
              "  cursor: pointer;\n",
              "  display: flex;\n",
              "  width: 100%;\n",
              "  margin-bottom: 0;\n",
              "  padding: 0.5em;\n",
              "  box-sizing: border-box;\n",
              "  text-align: center;\n",
              "  align-items: start;\n",
              "  justify-content: space-between;\n",
              "  gap: 0.5em;\n",
              "}\n",
              "\n",
              "#sk-container-id-1 label.sk-toggleable__label .caption {\n",
              "  font-size: 0.6rem;\n",
              "  font-weight: lighter;\n",
              "  color: var(--sklearn-color-text-muted);\n",
              "}\n",
              "\n",
              "#sk-container-id-1 label.sk-toggleable__label-arrow:before {\n",
              "  /* Arrow on the left of the label */\n",
              "  content: \"▸\";\n",
              "  float: left;\n",
              "  margin-right: 0.25em;\n",
              "  color: var(--sklearn-color-icon);\n",
              "}\n",
              "\n",
              "#sk-container-id-1 label.sk-toggleable__label-arrow:hover:before {\n",
              "  color: var(--sklearn-color-text);\n",
              "}\n",
              "\n",
              "/* Toggleable content - dropdown */\n",
              "\n",
              "#sk-container-id-1 div.sk-toggleable__content {\n",
              "  max-height: 0;\n",
              "  max-width: 0;\n",
              "  overflow: hidden;\n",
              "  text-align: left;\n",
              "  /* unfitted */\n",
              "  background-color: var(--sklearn-color-unfitted-level-0);\n",
              "}\n",
              "\n",
              "#sk-container-id-1 div.sk-toggleable__content.fitted {\n",
              "  /* fitted */\n",
              "  background-color: var(--sklearn-color-fitted-level-0);\n",
              "}\n",
              "\n",
              "#sk-container-id-1 div.sk-toggleable__content pre {\n",
              "  margin: 0.2em;\n",
              "  border-radius: 0.25em;\n",
              "  color: var(--sklearn-color-text);\n",
              "  /* unfitted */\n",
              "  background-color: var(--sklearn-color-unfitted-level-0);\n",
              "}\n",
              "\n",
              "#sk-container-id-1 div.sk-toggleable__content.fitted pre {\n",
              "  /* unfitted */\n",
              "  background-color: var(--sklearn-color-fitted-level-0);\n",
              "}\n",
              "\n",
              "#sk-container-id-1 input.sk-toggleable__control:checked~div.sk-toggleable__content {\n",
              "  /* Expand drop-down */\n",
              "  max-height: 200px;\n",
              "  max-width: 100%;\n",
              "  overflow: auto;\n",
              "}\n",
              "\n",
              "#sk-container-id-1 input.sk-toggleable__control:checked~label.sk-toggleable__label-arrow:before {\n",
              "  content: \"▾\";\n",
              "}\n",
              "\n",
              "/* Pipeline/ColumnTransformer-specific style */\n",
              "\n",
              "#sk-container-id-1 div.sk-label input.sk-toggleable__control:checked~label.sk-toggleable__label {\n",
              "  color: var(--sklearn-color-text);\n",
              "  background-color: var(--sklearn-color-unfitted-level-2);\n",
              "}\n",
              "\n",
              "#sk-container-id-1 div.sk-label.fitted input.sk-toggleable__control:checked~label.sk-toggleable__label {\n",
              "  background-color: var(--sklearn-color-fitted-level-2);\n",
              "}\n",
              "\n",
              "/* Estimator-specific style */\n",
              "\n",
              "/* Colorize estimator box */\n",
              "#sk-container-id-1 div.sk-estimator input.sk-toggleable__control:checked~label.sk-toggleable__label {\n",
              "  /* unfitted */\n",
              "  background-color: var(--sklearn-color-unfitted-level-2);\n",
              "}\n",
              "\n",
              "#sk-container-id-1 div.sk-estimator.fitted input.sk-toggleable__control:checked~label.sk-toggleable__label {\n",
              "  /* fitted */\n",
              "  background-color: var(--sklearn-color-fitted-level-2);\n",
              "}\n",
              "\n",
              "#sk-container-id-1 div.sk-label label.sk-toggleable__label,\n",
              "#sk-container-id-1 div.sk-label label {\n",
              "  /* The background is the default theme color */\n",
              "  color: var(--sklearn-color-text-on-default-background);\n",
              "}\n",
              "\n",
              "/* On hover, darken the color of the background */\n",
              "#sk-container-id-1 div.sk-label:hover label.sk-toggleable__label {\n",
              "  color: var(--sklearn-color-text);\n",
              "  background-color: var(--sklearn-color-unfitted-level-2);\n",
              "}\n",
              "\n",
              "/* Label box, darken color on hover, fitted */\n",
              "#sk-container-id-1 div.sk-label.fitted:hover label.sk-toggleable__label.fitted {\n",
              "  color: var(--sklearn-color-text);\n",
              "  background-color: var(--sklearn-color-fitted-level-2);\n",
              "}\n",
              "\n",
              "/* Estimator label */\n",
              "\n",
              "#sk-container-id-1 div.sk-label label {\n",
              "  font-family: monospace;\n",
              "  font-weight: bold;\n",
              "  display: inline-block;\n",
              "  line-height: 1.2em;\n",
              "}\n",
              "\n",
              "#sk-container-id-1 div.sk-label-container {\n",
              "  text-align: center;\n",
              "}\n",
              "\n",
              "/* Estimator-specific */\n",
              "#sk-container-id-1 div.sk-estimator {\n",
              "  font-family: monospace;\n",
              "  border: 1px dotted var(--sklearn-color-border-box);\n",
              "  border-radius: 0.25em;\n",
              "  box-sizing: border-box;\n",
              "  margin-bottom: 0.5em;\n",
              "  /* unfitted */\n",
              "  background-color: var(--sklearn-color-unfitted-level-0);\n",
              "}\n",
              "\n",
              "#sk-container-id-1 div.sk-estimator.fitted {\n",
              "  /* fitted */\n",
              "  background-color: var(--sklearn-color-fitted-level-0);\n",
              "}\n",
              "\n",
              "/* on hover */\n",
              "#sk-container-id-1 div.sk-estimator:hover {\n",
              "  /* unfitted */\n",
              "  background-color: var(--sklearn-color-unfitted-level-2);\n",
              "}\n",
              "\n",
              "#sk-container-id-1 div.sk-estimator.fitted:hover {\n",
              "  /* fitted */\n",
              "  background-color: var(--sklearn-color-fitted-level-2);\n",
              "}\n",
              "\n",
              "/* Specification for estimator info (e.g. \"i\" and \"?\") */\n",
              "\n",
              "/* Common style for \"i\" and \"?\" */\n",
              "\n",
              ".sk-estimator-doc-link,\n",
              "a:link.sk-estimator-doc-link,\n",
              "a:visited.sk-estimator-doc-link {\n",
              "  float: right;\n",
              "  font-size: smaller;\n",
              "  line-height: 1em;\n",
              "  font-family: monospace;\n",
              "  background-color: var(--sklearn-color-background);\n",
              "  border-radius: 1em;\n",
              "  height: 1em;\n",
              "  width: 1em;\n",
              "  text-decoration: none !important;\n",
              "  margin-left: 0.5em;\n",
              "  text-align: center;\n",
              "  /* unfitted */\n",
              "  border: var(--sklearn-color-unfitted-level-1) 1pt solid;\n",
              "  color: var(--sklearn-color-unfitted-level-1);\n",
              "}\n",
              "\n",
              ".sk-estimator-doc-link.fitted,\n",
              "a:link.sk-estimator-doc-link.fitted,\n",
              "a:visited.sk-estimator-doc-link.fitted {\n",
              "  /* fitted */\n",
              "  border: var(--sklearn-color-fitted-level-1) 1pt solid;\n",
              "  color: var(--sklearn-color-fitted-level-1);\n",
              "}\n",
              "\n",
              "/* On hover */\n",
              "div.sk-estimator:hover .sk-estimator-doc-link:hover,\n",
              ".sk-estimator-doc-link:hover,\n",
              "div.sk-label-container:hover .sk-estimator-doc-link:hover,\n",
              ".sk-estimator-doc-link:hover {\n",
              "  /* unfitted */\n",
              "  background-color: var(--sklearn-color-unfitted-level-3);\n",
              "  color: var(--sklearn-color-background);\n",
              "  text-decoration: none;\n",
              "}\n",
              "\n",
              "div.sk-estimator.fitted:hover .sk-estimator-doc-link.fitted:hover,\n",
              ".sk-estimator-doc-link.fitted:hover,\n",
              "div.sk-label-container:hover .sk-estimator-doc-link.fitted:hover,\n",
              ".sk-estimator-doc-link.fitted:hover {\n",
              "  /* fitted */\n",
              "  background-color: var(--sklearn-color-fitted-level-3);\n",
              "  color: var(--sklearn-color-background);\n",
              "  text-decoration: none;\n",
              "}\n",
              "\n",
              "/* Span, style for the box shown on hovering the info icon */\n",
              ".sk-estimator-doc-link span {\n",
              "  display: none;\n",
              "  z-index: 9999;\n",
              "  position: relative;\n",
              "  font-weight: normal;\n",
              "  right: .2ex;\n",
              "  padding: .5ex;\n",
              "  margin: .5ex;\n",
              "  width: min-content;\n",
              "  min-width: 20ex;\n",
              "  max-width: 50ex;\n",
              "  color: var(--sklearn-color-text);\n",
              "  box-shadow: 2pt 2pt 4pt #999;\n",
              "  /* unfitted */\n",
              "  background: var(--sklearn-color-unfitted-level-0);\n",
              "  border: .5pt solid var(--sklearn-color-unfitted-level-3);\n",
              "}\n",
              "\n",
              ".sk-estimator-doc-link.fitted span {\n",
              "  /* fitted */\n",
              "  background: var(--sklearn-color-fitted-level-0);\n",
              "  border: var(--sklearn-color-fitted-level-3);\n",
              "}\n",
              "\n",
              ".sk-estimator-doc-link:hover span {\n",
              "  display: block;\n",
              "}\n",
              "\n",
              "/* \"?\"-specific style due to the `<a>` HTML tag */\n",
              "\n",
              "#sk-container-id-1 a.estimator_doc_link {\n",
              "  float: right;\n",
              "  font-size: 1rem;\n",
              "  line-height: 1em;\n",
              "  font-family: monospace;\n",
              "  background-color: var(--sklearn-color-background);\n",
              "  border-radius: 1rem;\n",
              "  height: 1rem;\n",
              "  width: 1rem;\n",
              "  text-decoration: none;\n",
              "  /* unfitted */\n",
              "  color: var(--sklearn-color-unfitted-level-1);\n",
              "  border: var(--sklearn-color-unfitted-level-1) 1pt solid;\n",
              "}\n",
              "\n",
              "#sk-container-id-1 a.estimator_doc_link.fitted {\n",
              "  /* fitted */\n",
              "  border: var(--sklearn-color-fitted-level-1) 1pt solid;\n",
              "  color: var(--sklearn-color-fitted-level-1);\n",
              "}\n",
              "\n",
              "/* On hover */\n",
              "#sk-container-id-1 a.estimator_doc_link:hover {\n",
              "  /* unfitted */\n",
              "  background-color: var(--sklearn-color-unfitted-level-3);\n",
              "  color: var(--sklearn-color-background);\n",
              "  text-decoration: none;\n",
              "}\n",
              "\n",
              "#sk-container-id-1 a.estimator_doc_link.fitted:hover {\n",
              "  /* fitted */\n",
              "  background-color: var(--sklearn-color-fitted-level-3);\n",
              "}\n",
              "</style><div id=\"sk-container-id-1\" class=\"sk-top-container\"><div class=\"sk-text-repr-fallback\"><pre>Pipeline(steps=[(&#x27;vect&#x27;, CountVectorizer()), (&#x27;tfidf&#x27;, TfidfTransformer()),\n",
              "                (&#x27;clf&#x27;, MultinomialNB())])</pre><b>In a Jupyter environment, please rerun this cell to show the HTML representation or trust the notebook. <br />On GitHub, the HTML representation is unable to render, please try loading this page with nbviewer.org.</b></div><div class=\"sk-container\" hidden><div class=\"sk-item sk-dashed-wrapped\"><div class=\"sk-label-container\"><div class=\"sk-label fitted sk-toggleable\"><input class=\"sk-toggleable__control sk-hidden--visually\" id=\"sk-estimator-id-1\" type=\"checkbox\" ><label for=\"sk-estimator-id-1\" class=\"sk-toggleable__label fitted sk-toggleable__label-arrow\"><div><div>Pipeline</div></div><div><a class=\"sk-estimator-doc-link fitted\" rel=\"noreferrer\" target=\"_blank\" href=\"https://scikit-learn.org/1.6/modules/generated/sklearn.pipeline.Pipeline.html\">?<span>Documentation for Pipeline</span></a><span class=\"sk-estimator-doc-link fitted\">i<span>Fitted</span></span></div></label><div class=\"sk-toggleable__content fitted\"><pre>Pipeline(steps=[(&#x27;vect&#x27;, CountVectorizer()), (&#x27;tfidf&#x27;, TfidfTransformer()),\n",
              "                (&#x27;clf&#x27;, MultinomialNB())])</pre></div> </div></div><div class=\"sk-serial\"><div class=\"sk-item\"><div class=\"sk-estimator fitted sk-toggleable\"><input class=\"sk-toggleable__control sk-hidden--visually\" id=\"sk-estimator-id-2\" type=\"checkbox\" ><label for=\"sk-estimator-id-2\" class=\"sk-toggleable__label fitted sk-toggleable__label-arrow\"><div><div>CountVectorizer</div></div><div><a class=\"sk-estimator-doc-link fitted\" rel=\"noreferrer\" target=\"_blank\" href=\"https://scikit-learn.org/1.6/modules/generated/sklearn.feature_extraction.text.CountVectorizer.html\">?<span>Documentation for CountVectorizer</span></a></div></label><div class=\"sk-toggleable__content fitted\"><pre>CountVectorizer()</pre></div> </div></div><div class=\"sk-item\"><div class=\"sk-estimator fitted sk-toggleable\"><input class=\"sk-toggleable__control sk-hidden--visually\" id=\"sk-estimator-id-3\" type=\"checkbox\" ><label for=\"sk-estimator-id-3\" class=\"sk-toggleable__label fitted sk-toggleable__label-arrow\"><div><div>TfidfTransformer</div></div><div><a class=\"sk-estimator-doc-link fitted\" rel=\"noreferrer\" target=\"_blank\" href=\"https://scikit-learn.org/1.6/modules/generated/sklearn.feature_extraction.text.TfidfTransformer.html\">?<span>Documentation for TfidfTransformer</span></a></div></label><div class=\"sk-toggleable__content fitted\"><pre>TfidfTransformer()</pre></div> </div></div><div class=\"sk-item\"><div class=\"sk-estimator fitted sk-toggleable\"><input class=\"sk-toggleable__control sk-hidden--visually\" id=\"sk-estimator-id-4\" type=\"checkbox\" ><label for=\"sk-estimator-id-4\" class=\"sk-toggleable__label fitted sk-toggleable__label-arrow\"><div><div>MultinomialNB</div></div><div><a class=\"sk-estimator-doc-link fitted\" rel=\"noreferrer\" target=\"_blank\" href=\"https://scikit-learn.org/1.6/modules/generated/sklearn.naive_bayes.MultinomialNB.html\">?<span>Documentation for MultinomialNB</span></a></div></label><div class=\"sk-toggleable__content fitted\"><pre>MultinomialNB()</pre></div> </div></div></div></div></div></div>"
            ],
            "text/plain": [
              "Pipeline(steps=[('vect', CountVectorizer()), ('tfidf', TfidfTransformer()),\n",
              "                ('clf', MultinomialNB())])"
            ]
          },
          "execution_count": 60,
          "metadata": {},
          "output_type": "execute_result"
        }
      ],
      "source": [
        "text_clf.fit(train_text, train_labels)"
      ]
    },
    {
      "cell_type": "markdown",
      "id": "c4bfcad1",
      "metadata": {
        "id": "c4bfcad1"
      },
      "source": [
        "### Evaluation\n",
        "\n",
        "Using our validation dataset, compute a number of metrics to measure how well we generalize on our validation set."
      ]
    },
    {
      "cell_type": "code",
      "execution_count": null,
      "id": "c8a0ab7d",
      "metadata": {
        "id": "c8a0ab7d"
      },
      "outputs": [],
      "source": [
        "val_text = df_validation['title'].fillna('').values\n",
        "val_labels = df_validation['top_category_text'].values"
      ]
    },
    {
      "cell_type": "code",
      "execution_count": null,
      "id": "a9e4eca3",
      "metadata": {
        "id": "a9e4eca3",
        "outputId": "b942c34a-4a5a-487c-f351-895625c4e9c3"
      },
      "outputs": [
        {
          "name": "stdout",
          "output_type": "stream",
          "text": [
            "Product's title: Vintage enamel funnel - White metal funnel with handle - Large rusty funnel - Ki...\n",
            "Prediction: 'home_and_living', Groundtruth: 'home_and_living'\n"
          ]
        }
      ],
      "source": [
        "index = 0\n",
        "print(f\"\"\"\n",
        "Product's title: {val_text[index][:80]}...\n",
        "Prediction: '{text_clf.predict([val_text[index]])[0]}', Groundtruth: '{val_labels[index]}'\n",
        "\"\"\".strip())"
      ]
    },
    {
      "cell_type": "code",
      "execution_count": null,
      "id": "6f756f21",
      "metadata": {
        "id": "6f756f21",
        "outputId": "5cdff35e-f5b3-4624-c217-45b379736e78"
      },
      "outputs": [
        {
          "data": {
            "text/plain": [
              "product_id                                                     1085759015\n",
              "title                   Vintage enamel funnel - White metal funnel wit...\n",
              "description             Vintage enamel funnel - White metal funnel wit...\n",
              "tags                    Enamel Funnel,Vintage metal funnel,Enamelware ...\n",
              "type                                                             physical\n",
              "room                                                                     \n",
              "craft_type                                                     winemaking\n",
              "recipient                                                                \n",
              "material                                                                 \n",
              "occasion                                                                 \n",
              "holiday                                                                  \n",
              "art_subject                                                              \n",
              "style                                                                    \n",
              "shape                                                                    \n",
              "pattern                                                                  \n",
              "bottom_category_id                                                   6505\n",
              "bottom_category_text    home_and_living.kitchen_and_dining.cookware.co...\n",
              "top_category_id                                                         8\n",
              "top_category_text                                         home_and_living\n",
              "primary_color_id                                                       17\n",
              "primary_color_text                                                  white\n",
              "secondary_color_id                                                      2\n",
              "secondary_color_text                                                 blue\n",
              "Name: 1465, dtype: object"
            ]
          },
          "execution_count": 63,
          "metadata": {},
          "output_type": "execute_result"
        }
      ],
      "source": [
        "df_validation.iloc[0]"
      ]
    },
    {
      "cell_type": "code",
      "execution_count": null,
      "id": "178ffc0d",
      "metadata": {
        "id": "178ffc0d",
        "outputId": "d9ec19a8-35fe-4e35-854d-897b52e2fab4"
      },
      "outputs": [
        {
          "data": {
            "text/plain": [
              "array(['Vintage enamel funnel - White metal funnel with handle - Large rusty funnel - Kitchen pouring tool - Bulgarian enamelware - Old shabby chic'],\n",
              "      dtype=object)"
            ]
          },
          "execution_count": 64,
          "metadata": {},
          "output_type": "execute_result"
        }
      ],
      "source": [
        "val_text[:1]"
      ]
    },
    {
      "cell_type": "code",
      "execution_count": null,
      "id": "4d9abd32",
      "metadata": {
        "id": "4d9abd32"
      },
      "outputs": [],
      "source": [
        "predictions = text_clf.predict(val_text)"
      ]
    },
    {
      "cell_type": "code",
      "execution_count": null,
      "id": "48846387",
      "metadata": {
        "id": "48846387"
      },
      "outputs": [],
      "source": [
        "f1 = metrics.f1_score(val_labels, predictions, average='weighted')"
      ]
    },
    {
      "cell_type": "code",
      "execution_count": null,
      "id": "efa8ff9c",
      "metadata": {
        "id": "efa8ff9c",
        "outputId": "a14c5b7c-0cf4-41cc-9c74-02038779139f"
      },
      "outputs": [
        {
          "data": {
            "text/plain": [
              "'F1 score: 0.6392'"
            ]
          },
          "execution_count": 67,
          "metadata": {},
          "output_type": "execute_result"
        }
      ],
      "source": [
        "f\"F1 score: {f1:.4f}\""
      ]
    },
    {
      "cell_type": "code",
      "execution_count": null,
      "id": "c568d196",
      "metadata": {
        "id": "c568d196",
        "outputId": "d317a0ae-55be-456c-cc20-c453f01910d2"
      },
      "outputs": [
        {
          "name": "stdout",
          "output_type": "stream",
          "text": [
            "                             precision    recall  f1-score   support\n",
            "\n",
            "                accessories       0.84      0.41      0.55      1243\n",
            "       art_and_collectibles       0.86      0.09      0.16       870\n",
            "            bags_and_purses       0.93      0.29      0.45       664\n",
            "            bath_and_beauty       0.94      0.46      0.62      1140\n",
            "     books_movies_and_music       0.98      0.31      0.47       626\n",
            "                   clothing       0.73      0.96      0.83      3004\n",
            "   craft_supplies_and_tools       0.62      0.77      0.69      3337\n",
            "electronics_and_accessories       0.96      0.49      0.65       747\n",
            "            home_and_living       0.54      0.96      0.69      5460\n",
            "                    jewelry       0.91      0.37      0.53       782\n",
            "   paper_and_party_supplies       0.80      0.58      0.67      1223\n",
            "               pet_supplies       0.93      0.28      0.43       574\n",
            "                      shoes       0.95      0.73      0.83       891\n",
            "             toys_and_games       0.90      0.47      0.61      1387\n",
            "                   weddings       0.77      0.29      0.42      1015\n",
            "\n",
            "                   accuracy                           0.67     22963\n",
            "                  macro avg       0.84      0.50      0.57     22963\n",
            "               weighted avg       0.75      0.67      0.64     22963\n",
            "\n"
          ]
        }
      ],
      "source": [
        "print(metrics.classification_report(val_labels, predictions))"
      ]
    },
    {
      "cell_type": "code",
      "execution_count": null,
      "id": "484f013b",
      "metadata": {
        "id": "484f013b",
        "outputId": "018d6397-d638-469c-d92a-1259ef79e141"
      },
      "outputs": [
        {
          "data": {
            "text/plain": [
              "array([[ 507,    0,    1,    4,    0,  269,  155,    0,  250,    2,    4,\n",
              "           2,    2,    7,   40],\n",
              "       [   5,   78,    0,    0,    0,   31,  137,    2,  593,    0,    7,\n",
              "           1,    0,   12,    4],\n",
              "       [   2,    0,  195,   11,    0,   44,  114,    1,  279,    0,    5,\n",
              "           1,    1,    6,    5],\n",
              "       [  11,    0,    4,  528,    0,   68,  129,    1,  383,    4,    3,\n",
              "           1,    1,    6,    1],\n",
              "       [   1,    3,    0,    0,  193,   12,   90,    4,  298,    0,   17,\n",
              "           3,    0,    4,    1],\n",
              "       [   7,    0,    0,    2,    1, 2894,   15,    0,   72,    1,    5,\n",
              "           0,    2,    0,    5],\n",
              "       [   5,    4,    0,    3,    0,   35, 2576,    1,  676,    2,   21,\n",
              "           0,    4,    6,    4],\n",
              "       [   1,    0,    3,    0,    1,   14,   87,  365,  259,    0,    5,\n",
              "           1,    0,   11,    0],\n",
              "       [   1,    4,    2,    5,    0,   44,  123,    3, 5235,    0,   27,\n",
              "           2,    0,   11,    3],\n",
              "       [  16,    0,    0,    2,    1,   21,  309,    0,  139,  289,    1,\n",
              "           0,    0,    0,    4],\n",
              "       [   0,    0,    0,    0,    1,   27,  138,    2,  324,    0,  709,\n",
              "           2,    0,    4,   16],\n",
              "       [   5,    1,    2,    4,    0,   81,   35,    0,  274,    2,    6,\n",
              "         162,    0,    2,    0],\n",
              "       [   0,    0,    0,    1,    0,  139,   31,    0,   59,    0,    1,\n",
              "           0,  653,    5,    2],\n",
              "       [   7,    0,    1,    1,    0,  125,  122,    1,  460,    2,   13,\n",
              "           0,    6,  648,    1],\n",
              "       [  36,    1,    1,    3,    0,  159,  108,    0,  317,   16,   65,\n",
              "           0,   17,    0,  292]])"
            ]
          },
          "execution_count": 69,
          "metadata": {},
          "output_type": "execute_result"
        }
      ],
      "source": [
        "metrics.confusion_matrix(val_labels, predictions)"
      ]
    },
    {
      "cell_type": "markdown",
      "id": "4f429dd7",
      "metadata": {
        "id": "4f429dd7"
      },
      "source": [
        "**Note** that this is just a baseline that uses a naïve Bayes classifier and uses the `title` only as inputs, there are many more parameters that can be used in addition to multiple architectures and processing approaches"
      ]
    },
    {
      "cell_type": "markdown",
      "id": "5ff1e03c",
      "metadata": {
        "id": "5ff1e03c"
      },
      "source": [
        "## Submission\n",
        "\n",
        "Prepare a submission for the test data. Here I am using some dummy values, all zeros, as the ids for top categories, bottom categories, primary colors and secondary colors. Feed-forward the test data through your model, get the predictions per product and output them onto a file to be checked against the true values.\n",
        "\n",
        "Happy Hacking!"
      ]
    },
    {
      "cell_type": "code",
      "execution_count": null,
      "id": "7f4ae730",
      "metadata": {
        "id": "7f4ae730"
      },
      "outputs": [],
      "source": [
        "df_predictions = df_test.copy()"
      ]
    },
    {
      "cell_type": "code",
      "execution_count": null,
      "id": "2491d9cc",
      "metadata": {
        "id": "2491d9cc"
      },
      "outputs": [],
      "source": [
        "# dummy values\n",
        "df_predictions[\"top_category_id\"] = np.zeros(len(df_test), dtype=int)\n",
        "df_predictions[\"bottom_category_id\"] = np.zeros(len(df_test), dtype=int)"
      ]
    },
    {
      "cell_type": "code",
      "execution_count": null,
      "id": "86c2afbb",
      "metadata": {
        "id": "86c2afbb"
      },
      "outputs": [],
      "source": [
        "student_id = \"12345689\"\n",
        "df_predictions[\n",
        "    [\"product_id\", \"top_category_id\", \"bottom_category_id\"]\n",
        "].to_parquet(f\"predictions_{student_id}.parquet\")"
      ]
    },
    {
      "cell_type": "code",
      "execution_count": null,
      "id": "85f73b7c",
      "metadata": {
        "id": "85f73b7c"
      },
      "outputs": [],
      "source": []
    }
  ],
  "metadata": {
    "colab": {
      "provenance": [],
      "include_colab_link": true
    },
    "kernelspec": {
      "display_name": "Python 3 (ipykernel)",
      "language": "python",
      "name": "python3"
    },
    "language_info": {
      "codemirror_mode": {
        "name": "ipython",
        "version": 3
      },
      "file_extension": ".py",
      "mimetype": "text/x-python",
      "name": "python",
      "nbconvert_exporter": "python",
      "pygments_lexer": "ipython3",
      "version": "3.9.6"
    }
  },
  "nbformat": 4,
  "nbformat_minor": 5
}